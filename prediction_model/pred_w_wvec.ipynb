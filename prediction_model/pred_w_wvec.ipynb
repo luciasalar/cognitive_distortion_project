{
 "cells": [
  {
   "cell_type": "code",
   "execution_count": null,
   "metadata": {
    "collapsed": true
   },
   "outputs": [],
   "source": [
    "import pickle\n",
    "from numpy  import array"
   ]
  },
  {
   "cell_type": "code",
   "execution_count": null,
   "metadata": {
    "collapsed": true
   },
   "outputs": [],
   "source": [
    "class MyFea:\n",
    "    def __init__(self, text):\n",
    "        self.text = text\n",
    "        self.userid = hash(self.text)\n",
    "        self.label = []\n",
    "        self.vectors = []\n",
    "        self.meanVec = []\n",
    "        \n",
    "    def __hash__(self):\n",
    "        return self.quoteID"
   ]
  },
  {
   "cell_type": "code",
   "execution_count": null,
   "metadata": {
    "collapsed": true
   },
   "outputs": [],
   "source": [
    "#load the word vector data\n",
    "infile = open('sentiVectors2','rb')\n",
    "results = pickle.load(infile)"
   ]
  },
  {
   "cell_type": "code",
   "execution_count": null,
   "metadata": {},
   "outputs": [],
   "source": [
    "count = 0\n",
    "flat_list = []\n",
    "for item in results:\n",
    "#     print (results[item].vectors[0])\n",
    "    for i in results[item].vectors[0]:\n",
    "#         flat_list.append(i)\n",
    "        print(i)\n",
    "    count += 1\n",
    "    if count > 2:\n",
    "        break"
   ]
  },
  {
   "cell_type": "code",
   "execution_count": null,
   "metadata": {
    "collapsed": true
   },
   "outputs": [],
   "source": []
  },
  {
   "cell_type": "code",
   "execution_count": null,
   "metadata": {},
   "outputs": [],
   "source": [
    "#append objects as festure matrix\n",
    "def append_features(ob):\n",
    "    count = 0\n",
    "    proto_matrix = []\n",
    "    for item in ob:\n",
    "        #col2 = np.append(ob[item].vectors, ob[item].cos)\n",
    "        #print(col2)\n",
    "        proto_matrix.append(ob[item].vectors)\n",
    "        count += 1                 \n",
    "    return proto_matrix\n",
    "            \n",
    "proto_matrix = append_features(results)\n",
    "FeatureMatrix = np.matrix(proto_matrix)"
   ]
  },
  {
   "cell_type": "code",
   "execution_count": null,
   "metadata": {
    "collapsed": true
   },
   "outputs": [],
   "source": [
    "def getLabel(obj):\n",
    "    labels = []\n",
    "    for item in obj:\n",
    "        labels.append(int(obj[item].label[0]))\n",
    "    return labels\n",
    "X = FeatureMatrix\n",
    "y = getLabel(results)\n",
    "y = array(y)"
   ]
  },
  {
   "cell_type": "code",
   "execution_count": null,
   "metadata": {
    "collapsed": true
   },
   "outputs": [],
   "source": [
    "\n"
   ]
  },
  {
   "cell_type": "code",
   "execution_count": null,
   "metadata": {
    "collapsed": true
   },
   "outputs": [],
   "source": [
    "cv = StratifiedKFold(n_splits=5, random_state = 0)\n",
    "svc = make_pipeline(svm.SVC(gamma=0.001, class_weight='balanced', C = 0.7, kernel = 'linear'))\n",
    "scores = cross_val_score(svc, X, y, cv=cv, scoring='f1_weighted')\n",
    "print(scores)\n",
    "print(\"f1: %0.2f (+/- %0.2f)\" % (scores.mean(), scores.std() * 2))\n",
    "precision = cross_val_score(svc, X, y, cv=cv, scoring='precision')\n",
    "recall = cross_val_score(svc, X, y, cv=cv, scoring='recall')\n",
    "print(precision.mean())\n",
    "print(recall.mean())"
   ]
  }
 ],
 "metadata": {
  "kernelspec": {
   "display_name": "Python 3",
   "language": "python",
   "name": "python3"
  },
  "language_info": {
   "codemirror_mode": {
    "name": "ipython",
    "version": 3
   },
   "file_extension": ".py",
   "mimetype": "text/x-python",
   "name": "python",
   "nbconvert_exporter": "python",
   "pygments_lexer": "ipython3",
   "version": "3.6.1"
  }
 },
 "nbformat": 4,
 "nbformat_minor": 2
}
