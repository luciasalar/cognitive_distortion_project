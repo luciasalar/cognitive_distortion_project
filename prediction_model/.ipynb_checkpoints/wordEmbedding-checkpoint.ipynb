{
 "cells": [
  {
   "cell_type": "code",
   "execution_count": 5,
   "metadata": {
    "collapsed": true
   },
   "outputs": [],
   "source": [
    "import pandas as pd\n",
    "import csv"
   ]
  },
  {
   "cell_type": "code",
   "execution_count": 3,
   "metadata": {},
   "outputs": [
    {
     "data": {
      "text/plain": [
       "Index(['text', 'userid', 'negative_yn_self', 'distortion_yn', 'quote',\n",
       "       'magnitude', 'distortion.category', 'negative_yn.y', 'Positive',\n",
       "       'Negative'],\n",
       "      dtype='object')"
      ]
     },
     "execution_count": 3,
     "metadata": {},
     "output_type": "execute_result"
    }
   ],
   "source": [
    "# Importing the dataset\n",
    "data = pd.read_csv('../data/self_label_distortion2.csv')\n",
    "data.columns"
   ]
  },
  {
   "cell_type": "code",
   "execution_count": 6,
   "metadata": {},
   "outputs": [],
   "source": [
    "class MyFea:\n",
    "    def __init__(self, text):\n",
    "        self.text = text\n",
    "        self.userid = hash(self.text)\n",
    "        self.label = []\n",
    "        \n",
    "    def __hash__(self):\n",
    "        return self.quoteID\n",
    "    \n",
    "objects = {}\n",
    "with open('../data/self_label_distortion2.csv', 'r') as csvfile:\n",
    "    reader = csv.DictReader(csvfile)\n",
    "    for row in reader:\n",
    "        #print(row['text'])\n",
    "        texthash = hash(row['text'])\n",
    "        if texthash not in objects:\n",
    "            objects[texthash] = MyFea(row['text'])\n",
    "        objects[texthash].label.append(row['negative_yn_self'])\n",
    "\n",
    "   "
   ]
  },
  {
   "cell_type": "code",
   "execution_count": 11,
   "metadata": {},
   "outputs": [
    {
     "name": "stdout",
     "output_type": "stream",
     "text": [
      "arrange marriage means ppl walking and unfortunately snake bites... and love marriage means ppl go to the snake say... KAAT LE KAAT LE....!\n",
      "I messed up so bad and said things didn't mean to say :( what can i do to fix everything. All my life break things and try to put them back together, don't wanna break anything anymore :'( baby love you Diana Campero Vigueras <\n",
      "< |I'm gonna live|I'm gonna survive|Don't want the world to pass me by|I'm gonna dream|I aint gonna die|Thinking my life was just lie|I wanna be loved| <\n",
      "||if home's where my heart is then I'm out of place| Lord, won't You give me strength to make it through somehow| I've never been more homesick than now| help me Lord, cuz don't understand Your ways...|| <\n"
     ]
    }
   ],
   "source": [
    "count = 0\n",
    "for item in objects:\n",
    "    print (objects[item].text)\n",
    "    count += 1\n",
    "    if count > 3:\n",
    "        break"
   ]
  },
  {
   "cell_type": "code",
   "execution_count": null,
   "metadata": {
    "collapsed": true
   },
   "outputs": [],
   "source": []
  }
 ],
 "metadata": {
  "kernelspec": {
   "display_name": "Python 3",
   "language": "python",
   "name": "python3"
  },
  "language_info": {
   "codemirror_mode": {
    "name": "ipython",
    "version": 3
   },
   "file_extension": ".py",
   "mimetype": "text/x-python",
   "name": "python",
   "nbconvert_exporter": "python",
   "pygments_lexer": "ipython3",
   "version": "3.6.1"
  }
 },
 "nbformat": 4,
 "nbformat_minor": 2
}
