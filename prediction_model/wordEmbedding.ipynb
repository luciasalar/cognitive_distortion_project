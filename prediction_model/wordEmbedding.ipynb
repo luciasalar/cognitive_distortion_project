{
 "cells": [
  {
   "cell_type": "code",
   "execution_count": 2,
   "metadata": {
    "collapsed": true
   },
   "outputs": [],
   "source": [
    "import pandas as pd\n",
    "import csv\n",
    "from gensim.models import KeyedVectors\n",
    "import numpy as np\n",
    "import pickle\n",
    "import re\n",
    "import nltk"
   ]
  },
  {
   "cell_type": "code",
   "execution_count": 12,
   "metadata": {},
   "outputs": [
    {
     "name": "stdout",
     "output_type": "stream",
     "text": [
      "loaded data\n"
     ]
    }
   ],
   "source": [
    "# this is a s script to generate word embeddings\n",
    "# Importing the dataset\n",
    "data = pd.read_csv('../data/self_label_distortion2.csv')\n",
    "data.columns\n",
    "print('loaded data')"
   ]
  },
  {
   "cell_type": "code",
   "execution_count": 6,
   "metadata": {
    "collapsed": true
   },
   "outputs": [],
   "source": [
    "class MyFea:\n",
    "    def __init__(self, text):\n",
    "        self.text = text\n",
    "        self.userid = hash(self.text)\n",
    "        self.label = []\n",
    "        self.vectors = []\n",
    "        self.meanVec = []\n",
    "        \n",
    "    def __hash__(self):\n",
    "        return self.quoteID\n",
    "    \n",
    "objects = {}\n",
    "with open('../data/self_label_distortion2.csv', 'r') as csvfile:\n",
    "    reader = csv.DictReader(csvfile)\n",
    "    for row in reader:\n",
    "        #print(row['text'])\n",
    "        texthash = hash(row['text'])\n",
    "        if texthash not in objects:\n",
    "            objects[texthash] = MyFea(row['text'])\n",
    "        objects[texthash].label.append(row['negative_yn_self'])\n",
    "\n",
    "   "
   ]
  },
  {
   "cell_type": "code",
   "execution_count": 11,
   "metadata": {},
   "outputs": [
    {
     "name": "stdout",
     "output_type": "stream",
     "text": [
      "arrange marriage means ppl walking and unfortunately snake bites... and love marriage means ppl go to the snake say... KAAT LE KAAT LE....!\n",
      "I messed up so bad and said things didn't mean to say :( what can i do to fix everything. All my life break things and try to put them back together, don't wanna break anything anymore :'( baby love you Diana Campero Vigueras <\n",
      "< |I'm gonna live|I'm gonna survive|Don't want the world to pass me by|I'm gonna dream|I aint gonna die|Thinking my life was just lie|I wanna be loved| <\n",
      "||if home's where my heart is then I'm out of place| Lord, won't You give me strength to make it through somehow| I've never been more homesick than now| help me Lord, cuz don't understand Your ways...|| <\n"
     ]
    }
   ],
   "source": [
    "count = 0\n",
    "for item in objects:\n",
    "    print len((objects[item].vectors[0]))\n",
    "    count += 1\n",
    "    if count > 3:\n",
    "        break"
   ]
  },
  {
   "cell_type": "code",
   "execution_count": null,
   "metadata": {
    "collapsed": true
   },
   "outputs": [],
   "source": [
    "print('start to load language model..')\n",
    "#sentivec \n",
    "en_model = KeyedVectors.load_word2vec_format('/afs/inf.ed.ac.uk/user/s16/s1690903/share/fasttext/wikipedia.300d.txt')\n",
    "print('Finish loading model')"
   ]
  },
  {
   "cell_type": "code",
   "execution_count": null,
   "metadata": {
    "collapsed": true
   },
   "outputs": [],
   "source": []
  },
  {
   "cell_type": "code",
   "execution_count": 8,
   "metadata": {},
   "outputs": [
    {
     "data": {
      "text/plain": [
       "'i am doing experiment'"
      ]
     },
     "execution_count": 8,
     "metadata": {},
     "output_type": "execute_result"
    }
   ],
   "source": [
    "def preprocess(sent):\n",
    "    #remove punctustion\\n\",\n",
    "    sent = re.sub(r'[^\\w\\s]','',sent)\n",
    "    words = sent.split()\n",
    "    new_words = []\n",
    "    for w in words:     \n",
    "        new_words.append(w.lower())\n",
    "    return ' '.join(new_words)\n",
    "\n",
    "sent = \"I am doing Experiment!!!\"\n",
    "preprocess(sent)"
   ]
  },
  {
   "cell_type": "code",
   "execution_count": null,
   "metadata": {
    "collapsed": true
   },
   "outputs": [],
   "source": [
    "def convert_vec(objects):\n",
    "    maxlen = 0\n",
    "    for item in objects: \n",
    "        text = preprocess(objects[item].text)\n",
    "        words = filter(lambda x: x in en_model.vocab, text.split())\n",
    "        objects[item].vectors = [en_model[x] for x in words]\n",
    "        aver = np.mean(np.array([en_model[x] for x in words]))\n",
    "        objects[item].meanVec.append(aver)\n",
    "        length = len(objects[item].vectors)\n",
    "        if length > maxlen:\n",
    "            maxlen = length\n",
    "            \n",
    "    print(\"Maximum sentence length: \", maxlen)\n",
    "    \n",
    "#padding vectors \n",
    "    zero_vector = list(np.zeros(300))\n",
    "    for item in objects:\n",
    "        while len(objects[item].vectors) < maxlen:\n",
    "            objects[item].vectors.append(zero_vector)\n",
    "        \n",
    "convert_vec(objects)\n",
    "print('converted text to vectors')"
   ]
  },
  {
   "cell_type": "code",
   "execution_count": null,
   "metadata": {
    "collapsed": true
   },
   "outputs": [],
   "source": [
    "count = 0\n",
    "for item in objects:\n",
    "    print (objects[item].meanVec)\n",
    "#     for i in objects[item].meanVec:\n",
    "# #         flat_list.append(i)\n",
    "#         print(i)\n",
    "    count += 1\n",
    "    if count > 2:\n",
    "        break"
   ]
  },
  {
   "cell_type": "code",
   "execution_count": null,
   "metadata": {
    "collapsed": true
   },
   "outputs": [],
   "source": [
    "#dump object to pickles\n",
    "filename = 'sentiVectors2'\n",
    "outfile = open(filename,'wb')\n",
    "pickle.dump(objects,outfile)\n",
    "outfile.close()"
   ]
  },
  {
   "cell_type": "code",
   "execution_count": null,
   "metadata": {
    "collapsed": true
   },
   "outputs": [],
   "source": []
  },
  {
   "cell_type": "code",
   "execution_count": 9,
   "metadata": {
    "collapsed": true
   },
   "outputs": [],
   "source": []
  }
 ],
 "metadata": {
  "kernelspec": {
   "display_name": "Python 3",
   "language": "python",
   "name": "python3"
  },
  "language_info": {
   "codemirror_mode": {
    "name": "ipython",
    "version": 3
   },
   "file_extension": ".py",
   "mimetype": "text/x-python",
   "name": "python",
   "nbconvert_exporter": "python",
   "pygments_lexer": "ipython3",
   "version": "3.6.1"
  }
 },
 "nbformat": 4,
 "nbformat_minor": 2
}
