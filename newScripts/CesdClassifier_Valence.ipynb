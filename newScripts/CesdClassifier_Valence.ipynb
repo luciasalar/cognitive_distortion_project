{
 "cells": [
  {
   "cell_type": "code",
   "execution_count": 55,
   "metadata": {
    "collapsed": true
   },
   "outputs": [],
   "source": [
    "import pandas as pd\n",
    "from sklearn.model_selection import GridSearchCV\n",
    "from imblearn.pipeline import make_pipeline, Pipeline\n",
    "from sklearn.metrics import confusion_matrix, f1_score, precision_score,\\\n",
    "recall_score, confusion_matrix, classification_report, accuracy_score \n",
    "from sklearn.model_selection import GridSearchCV, cross_val_score, StratifiedKFold\n",
    "from sklearn.ensemble import RandomForestClassifier\n",
    "from sklearn.preprocessing import StandardScaler, Normalizer\n",
    "from sklearn import svm\n",
    "from sklearn.model_selection import train_test_split\n",
    "from sklearn.linear_model import LogisticRegression\n",
    "from sklearn.tree import DecisionTreeClassifier\n",
    "from sklearn.svm import SVC\n",
    "from sklearn.ensemble import VotingClassifier\n",
    "from sklearn.metrics import roc_auc_score\n",
    "from sklearn.metrics import roc_curve\n",
    "import matplotlib.pyplot as plt\n",
    "from scipy import stats"
   ]
  },
  {
   "cell_type": "markdown",
   "metadata": {},
   "source": [
    "Split train test, use train set to tune parameters (kfold cross validation), we don't have enough data for validation set\n",
    "*Note: no need to scale anything, features are on the same scale!\n",
    "\n",
    "Ensemble classfier won't work because the classifers in our case does not produce results that compensate each other, so we can adopt svm only\n",
    "\n",
    "Result analysis:\n",
    "We analysis the valence day frequency in the train test set and the prediction results\n",
    "in the ValenceVector2.ipyn file, we already show that the differences of valence days. (In general, low group has slightly more empty days, less negative days, less positive days and less mixed days. The two groups are significantly different in negative days from 60 days 30 days and 10 days, the p value is getting smaller as the time is close to the time they fill out the CES-D scale. There are no significant difference found in positive valence and  neutral. Mix days are significantly different in 10 days)\n",
    "\n",
    "We check the train test split has similar statistics as the whole sample. \n",
    "*Note: the difference are not significant in the test set because the test set has 24 cases only\n",
    "\n",
    "In our test result from SVM, low group has more empty days, less negative days, less positive days, less mixed days. Therefore, the svm classifier is able to capture the features in the sample.\n",
    "\n",
    "*Note: the classifers are not good in class 0 (non-depressed). The 10 days vector has been shown to have more significant differences, however, the 10 days feature perfrom badly in the classification, probably because our sample size is too small, less features won't help the classification. \n",
    "\n",
    "This part will need to be rerun after the new annotations are ready.\n",
    "\n",
    "\n"
   ]
  },
  {
   "cell_type": "code",
   "execution_count": 10,
   "metadata": {},
   "outputs": [
    {
     "data": {
      "text/plain": [
       "(77, 62)"
      ]
     },
     "execution_count": 10,
     "metadata": {},
     "output_type": "execute_result"
    }
   ],
   "source": [
    "#merge with CESD\n",
    "cesd = pd.read_csv('../important_data/adjustedCESD.csv')\n",
    "cesdSum = cesd[['userid','cesd_sum']]\n",
    "valenceVec = pd.read_csv('../important_data/ValenceVec_Norm_Mix.csv')\n",
    "ValCesd = pd.merge(valenceVec, cesdSum, how = 'left', on ='userid')\n",
    "#remove duplicate\n",
    "ValCesd = ValCesd.drop_duplicates(subset='userid', keep=\"first\")\n",
    "ValCesd.shape"
   ]
  },
  {
   "cell_type": "code",
   "execution_count": 66,
   "metadata": {},
   "outputs": [
    {
     "name": "stdout",
     "output_type": "stream",
     "text": [
      "41\n",
      "36\n"
     ]
    }
   ],
   "source": [
    "y = ValCesd[\"cesd_sum\"]\n",
    "X = ValCesd.iloc[:,1:61]\n",
    "def recode(array):\n",
    "    new = []\n",
    "    for num in array:\n",
    "        if num <= 23:\n",
    "            new.append(0)\n",
    "        if num > 23:\n",
    "            new.append(1)\n",
    "    return new\n",
    "        \n",
    "y = recode(y)\n",
    "print(y.count(1))\n",
    "print(y.count(0))"
   ]
  },
  {
   "cell_type": "markdown",
   "metadata": {},
   "source": []
  },
  {
   "cell_type": "code",
   "execution_count": null,
   "metadata": {
    "collapsed": true
   },
   "outputs": [],
   "source": []
  },
  {
   "cell_type": "code",
   "execution_count": 68,
   "metadata": {},
   "outputs": [
    {
     "name": "stdout",
     "output_type": "stream",
     "text": [
      "0.6792452830188679\n",
      "{'svc__C': 2.0, 'svc__class_weight': 'balanced', 'svc__gamma': 0.01, 'svc__kernel': 'sigmoid'}\n",
      "              precision    recall  f1-score   support\n",
      "\n",
      "           0       0.60      0.67      0.63         9\n",
      "           1       0.79      0.73      0.76        15\n",
      "\n",
      "   micro avg       0.71      0.71      0.71        24\n",
      "   macro avg       0.69      0.70      0.70        24\n",
      "weighted avg       0.72      0.71      0.71        24\n",
      "\n"
     ]
    },
    {
     "name": "stderr",
     "output_type": "stream",
     "text": [
      "/Users/lucia/anaconda3/lib/python3.6/site-packages/sklearn/model_selection/_search.py:841: DeprecationWarning: The default of the `iid` parameter will change from True to False in version 0.22 and will be removed in 0.24. This will change numeric results when test-set sizes are unequal.\n",
      "  DeprecationWarning)\n"
     ]
    }
   ],
   "source": [
    "X_train, X_test, y_train, y_test = train_test_split(X, y, test_size=0.30, random_state = 300)\n",
    "cv = StratifiedKFold(n_splits=3, random_state = 0)\n",
    "svc = make_pipeline(svm.SVC())\n",
    "parameters = [{'svc__kernel': ['linear', 'poly', 'rbf', 'sigmoid'], 'svc__gamma': [0.5,0.1, 0.01,0.001, 0.0001],\n",
    "                     'svc__C':[0.1, 0.3, 0.5, 0.7, 0.9, 1.0, 1.5, 2.0, 10] , 'svc__class_weight':['balanced']}]\n",
    "\n",
    "grid_search_item = GridSearchCV(svc,\n",
    "                          param_grid = parameters,\n",
    "                           cv = cv,\n",
    "                           scoring = 'accuracy',\n",
    "                           n_jobs = -1)\n",
    "grid_searchSVC = grid_search_item.fit(X_train, y_train)\n",
    "\n",
    "print(grid_searchSVC.best_score_)\n",
    "print(grid_searchSVC.best_params_)\n",
    "\n",
    "means = grid_searchSVC.cv_results_['mean_test_score']\n",
    "stds = grid_searchSVC.cv_results_['std_test_score']\n",
    "params = grid_searchSVC.cv_results_['params']\n",
    "\n",
    "y_true, y_predSvm = y_test, grid_searchSVC.predict(X_test)\n",
    "print(classification_report(y_true, y_predSvm))"
   ]
  },
  {
   "cell_type": "code",
   "execution_count": 38,
   "metadata": {},
   "outputs": [
    {
     "name": "stdout",
     "output_type": "stream",
     "text": [
      "[0.         0.33333333 1.        ] [0.         0.73333333 1.        ] [2 1 0]\n"
     ]
    },
    {
     "data": {
      "image/png": "[encoded data removed]",
      "text/plain": [
       "<matplotlib.figure.Figure at 0x1a1a143c50>"
      ]
     },
     "metadata": {},
     "output_type": "display_data"
    }
   ],
   "source": [
    "fpr, tpr, thresholds = roc_curve(y_true, y_pred)\n",
    "print(fpr, tpr, thresholds)\n",
    "def plot_roc_curve(fpr, tpr, label=None): \n",
    "    plt.plot(fpr, tpr, linewidth=2, label=label) \n",
    "    plt.plot([0, 1], [0, 1], 'k--') \n",
    "    plt.axis([0, 1, 0, 1])\n",
    "    plt.xlabel('False Positive Rate') \n",
    "    plt.ylabel('True Positive Rate')\n",
    "plot_roc_curve(fpr, tpr) \n",
    "plt.show()"
   ]
  },
  {
   "cell_type": "code",
   "execution_count": 7,
   "metadata": {},
   "outputs": [
    {
     "name": "stdout",
     "output_type": "stream",
     "text": [
      "0.6037735849056604\n",
      "{'learning_rate': 1.0, 'max_depth': 4, 'n_estimators': 50, 'random_state': 100}\n",
      "              precision    recall  f1-score   support\n",
      "\n",
      "           0       0.38      0.56      0.45         9\n",
      "           1       0.64      0.47      0.54        15\n",
      "\n",
      "   micro avg       0.50      0.50      0.50        24\n",
      "   macro avg       0.51      0.51      0.50        24\n",
      "weighted avg       0.54      0.50      0.51        24\n",
      "\n"
     ]
    },
    {
     "name": "stderr",
     "output_type": "stream",
     "text": [
      "/Users/lucia/anaconda3/lib/python3.6/site-packages/sklearn/model_selection/_search.py:841: DeprecationWarning: The default of the `iid` parameter will change from True to False in version 0.22 and will be removed in 0.24. This will change numeric results when test-set sizes are unequal.\n",
      "  DeprecationWarning)\n"
     ]
    }
   ],
   "source": [
    "from sklearn.ensemble import GradientBoostingClassifier\n",
    "gbc = GradientBoostingClassifier()\n",
    "parameters = [{'max_depth': [1,2,3,4,5], 'n_estimators': [50,100,150,200],\n",
    "                     'learning_rate':[1.0, 1.5, 2.0, 2.5, 3.0],'random_state':[100]}]\n",
    "grid_search_item = GridSearchCV(gbc,\n",
    "                          param_grid = parameters,\n",
    "                           cv = cv,\n",
    "                           scoring = 'accuracy',\n",
    "                           n_jobs = -1)\n",
    "grid_search = grid_search_item.fit(X_train, y_train)\n",
    "\n",
    "print(grid_search.best_score_)\n",
    "print(grid_search.best_params_)\n",
    "\n",
    "means = grid_search.cv_results_['mean_test_score']\n",
    "stds = grid_search.cv_results_['std_test_score']\n",
    "params = grid_search.cv_results_['params']\n",
    "\n",
    "y_true, y_pred = y_test, grid_search.predict(X_test)\n",
    "print(classification_report(y_true, y_pred))"
   ]
  },
  {
   "cell_type": "code",
   "execution_count": 41,
   "metadata": {},
   "outputs": [
    {
     "name": "stdout",
     "output_type": "stream",
     "text": [
      "0.6226415094339622\n",
      "{'algorithm': 'SAMME.R', 'learning_rate': 2.5, 'n_estimators': 50, 'random_state': 100}\n",
      "              precision    recall  f1-score   support\n",
      "\n",
      "           0       0.33      0.56      0.42         9\n",
      "           1       0.56      0.33      0.42        15\n",
      "\n",
      "   micro avg       0.42      0.42      0.42        24\n",
      "   macro avg       0.44      0.44      0.42        24\n",
      "weighted avg       0.47      0.42      0.42        24\n",
      "\n"
     ]
    },
    {
     "name": "stderr",
     "output_type": "stream",
     "text": [
      "/Users/lucia/anaconda3/lib/python3.6/site-packages/sklearn/model_selection/_search.py:841: DeprecationWarning: The default of the `iid` parameter will change from True to False in version 0.22 and will be removed in 0.24. This will change numeric results when test-set sizes are unequal.\n",
      "  DeprecationWarning)\n"
     ]
    }
   ],
   "source": [
    "from sklearn import model_selection\n",
    "from sklearn.ensemble import AdaBoostClassifier\n",
    "Ada = AdaBoostClassifier()\n",
    "parameters = [{'algorithm': ['SAMME', 'SAMME.R'], 'n_estimators': [50,100,150,200],\n",
    "                     'learning_rate':[1.0, 1.5, 2.0, 2.5, 3.0],'random_state':[100]}]\n",
    "\n",
    "grid_search_item = GridSearchCV(Ada,\n",
    "                          param_grid = parameters,\n",
    "                           cv = cv,\n",
    "                           scoring = 'accuracy',\n",
    "                           n_jobs = -1)\n",
    "grid_search = grid_search_item.fit(X_train, y_train)\n",
    "\n",
    "print(grid_search.best_score_)\n",
    "print(grid_search.best_params_)\n",
    "\n",
    "means = grid_search.cv_results_['mean_test_score']\n",
    "stds = grid_search.cv_results_['std_test_score']\n",
    "params = grid_search.cv_results_['params']\n",
    "\n",
    "y_true, y_pred = y_test, grid_search.predict(X_test)\n",
    "print(classification_report(y_true, y_pred))\n"
   ]
  },
  {
   "cell_type": "code",
   "execution_count": 45,
   "metadata": {},
   "outputs": [
    {
     "name": "stdout",
     "output_type": "stream",
     "text": [
      "ROC is 0.5888888888888888\n",
      "              precision    recall  f1-score   support\n",
      "\n",
      "           0       0.44      0.78      0.56         9\n",
      "           1       0.75      0.40      0.52        15\n",
      "\n",
      "   micro avg       0.54      0.54      0.54        24\n",
      "   macro avg       0.59      0.59      0.54        24\n",
      "weighted avg       0.63      0.54      0.54        24\n",
      "\n"
     ]
    },
    {
     "data": {
      "text/plain": [
       "array([[7, 2],\n",
       "       [9, 6]])"
      ]
     },
     "execution_count": 45,
     "metadata": {},
     "output_type": "execute_result"
    }
   ],
   "source": [
    "#emsemble voting\n",
    "estimators = []\n",
    "model3 = svm.SVC(C = 2.0, kernel  = 'sigmoid', gamma =0.01,class_weight = 'balanced', random_state=300)\n",
    "estimators.append(('svm', model3))\n",
    "model1 = GradientBoostingClassifier(max_depth= 4, learning_rate= 1.0, n_estimators= 50, random_state= 100)\n",
    "estimators.append(('gbc', model1))\n",
    "# model2 = AdaBoostClassifier(algorithm= 'SAMME.R', learning_rate= 2.5, n_estimators= 50, random_state= 100)\n",
    "# estimators.append(('ada', model2))\n",
    "\n",
    "ensemble = VotingClassifier(estimators)\n",
    "eclf1 = ensemble.fit(X_train, y_train)\n",
    "y_pred = eclf1.predict(X_test)\n",
    "print('ROC is {}'. format(roc_auc_score(y_test, y_pred)))\n",
    "print(classification_report(y_test, y_pred))\n",
    "confusion_matrix(y_test, y_pred)\n"
   ]
  },
  {
   "cell_type": "markdown",
   "metadata": {},
   "source": [
    "Ensemble classfier won't work because the classifers in our case does not produce results that compensate each other, so we can adopt svm only"
   ]
  },
  {
   "cell_type": "markdown",
   "metadata": {},
   "source": [
    "Let's see what features the classifer capture\n",
    "First we see what our train test set look like"
   ]
  },
  {
   "cell_type": "markdown",
   "metadata": {},
   "source": [
    "Test set"
   ]
  },
  {
   "cell_type": "code",
   "execution_count": null,
   "metadata": {
    "collapsed": true
   },
   "outputs": [],
   "source": [
    "def VectorStats(df):\n",
    "    given_set = {-1}\n",
    "    given_set1 = {1}\n",
    "    given_set2 = {2}\n",
    "    given_set4 = {4}\n",
    "    given_set3 = {3}\n",
    "    df['empty']= df.isin(given_set).sum(1)\n",
    "    df['negative']= df.isin(given_set1).sum(1)\n",
    "    df['positive']= df.isin(given_set2).sum(1)\n",
    "    df['neutral']= df.isin(given_set4).sum(1)\n",
    "    df['mix']= df.isin(given_set3).sum(1)\n",
    "    print('empty days in this group {}'.format(df['empty'].describe()))\n",
    "    print('negative days in this group {}'.format(df['negative'].describe()))\n",
    "    print('positive days in this group {}'.format(df['positive'].describe()))\n",
    "    print('neutral days in this group {}'.format(df['neutral'].describe()))\n",
    "    print('mix days in this group {}'.format(df['mix'].describe()))\n",
    "\n",
    "# high_30 = OneMonthVec.loc[OneMonthVec['biLabel'] == 1, ]\n",
    "# VectorStats(high_30)"
   ]
  },
  {
   "cell_type": "code",
   "execution_count": 48,
   "metadata": {},
   "outputs": [
    {
     "data": {
      "text/html": [
       "<div>\n",
       "<style>\n",
       "    .dataframe thead tr:only-child th {\n",
       "        text-align: right;\n",
       "    }\n",
       "\n",
       "    .dataframe thead th {\n",
       "        text-align: left;\n",
       "    }\n",
       "\n",
       "    .dataframe tbody tr th {\n",
       "        vertical-align: top;\n",
       "    }\n",
       "</style>\n",
       "<table border=\"1\" class=\"dataframe\">\n",
       "  <thead>\n",
       "    <tr style=\"text-align: right;\">\n",
       "      <th></th>\n",
       "      <th>userid</th>\n",
       "      <th>0</th>\n",
       "      <th>1</th>\n",
       "      <th>2</th>\n",
       "      <th>3</th>\n",
       "      <th>4</th>\n",
       "      <th>5</th>\n",
       "      <th>6</th>\n",
       "      <th>7</th>\n",
       "      <th>8</th>\n",
       "      <th>...</th>\n",
       "      <th>52</th>\n",
       "      <th>53</th>\n",
       "      <th>54</th>\n",
       "      <th>55</th>\n",
       "      <th>56</th>\n",
       "      <th>57</th>\n",
       "      <th>58</th>\n",
       "      <th>59</th>\n",
       "      <th>cesd_sum</th>\n",
       "      <th>biLabel</th>\n",
       "    </tr>\n",
       "  </thead>\n",
       "  <tbody>\n",
       "    <tr>\n",
       "      <th>90</th>\n",
       "      <td>0e3fdb89c7706b13891170ab2a9017c7</td>\n",
       "      <td>2</td>\n",
       "      <td>1</td>\n",
       "      <td>-1</td>\n",
       "      <td>2</td>\n",
       "      <td>1</td>\n",
       "      <td>1</td>\n",
       "      <td>2</td>\n",
       "      <td>-1</td>\n",
       "      <td>-1</td>\n",
       "      <td>...</td>\n",
       "      <td>2</td>\n",
       "      <td>4</td>\n",
       "      <td>-1</td>\n",
       "      <td>-1</td>\n",
       "      <td>-1</td>\n",
       "      <td>-1</td>\n",
       "      <td>-1</td>\n",
       "      <td>-1</td>\n",
       "      <td>4</td>\n",
       "      <td>0</td>\n",
       "    </tr>\n",
       "    <tr>\n",
       "      <th>79</th>\n",
       "      <td>23cbbe03a89344129e1a6d8419a66d23</td>\n",
       "      <td>-1</td>\n",
       "      <td>-1</td>\n",
       "      <td>-1</td>\n",
       "      <td>-1</td>\n",
       "      <td>-1</td>\n",
       "      <td>-1</td>\n",
       "      <td>1</td>\n",
       "      <td>-1</td>\n",
       "      <td>1</td>\n",
       "      <td>...</td>\n",
       "      <td>2</td>\n",
       "      <td>-1</td>\n",
       "      <td>2</td>\n",
       "      <td>2</td>\n",
       "      <td>2</td>\n",
       "      <td>2</td>\n",
       "      <td>2</td>\n",
       "      <td>2</td>\n",
       "      <td>28</td>\n",
       "      <td>1</td>\n",
       "    </tr>\n",
       "    <tr>\n",
       "      <th>12</th>\n",
       "      <td>e9970fe8848e9505b52d414d81611de8</td>\n",
       "      <td>2</td>\n",
       "      <td>-1</td>\n",
       "      <td>-1</td>\n",
       "      <td>-1</td>\n",
       "      <td>-1</td>\n",
       "      <td>4</td>\n",
       "      <td>-1</td>\n",
       "      <td>-1</td>\n",
       "      <td>4</td>\n",
       "      <td>...</td>\n",
       "      <td>-1</td>\n",
       "      <td>-1</td>\n",
       "      <td>-1</td>\n",
       "      <td>-1</td>\n",
       "      <td>-1</td>\n",
       "      <td>-1</td>\n",
       "      <td>-1</td>\n",
       "      <td>-1</td>\n",
       "      <td>34</td>\n",
       "      <td>1</td>\n",
       "    </tr>\n",
       "    <tr>\n",
       "      <th>65</th>\n",
       "      <td>4764518d32334248e6ebbf681a18fd0c</td>\n",
       "      <td>4</td>\n",
       "      <td>4</td>\n",
       "      <td>-1</td>\n",
       "      <td>2</td>\n",
       "      <td>2</td>\n",
       "      <td>4</td>\n",
       "      <td>1</td>\n",
       "      <td>1</td>\n",
       "      <td>-1</td>\n",
       "      <td>...</td>\n",
       "      <td>2</td>\n",
       "      <td>1</td>\n",
       "      <td>2</td>\n",
       "      <td>4</td>\n",
       "      <td>-1</td>\n",
       "      <td>-1</td>\n",
       "      <td>1</td>\n",
       "      <td>1</td>\n",
       "      <td>23</td>\n",
       "      <td>0</td>\n",
       "    </tr>\n",
       "  </tbody>\n",
       "</table>\n",
       "<p>4 rows × 63 columns</p>\n",
       "</div>"
      ],
      "text/plain": [
       "                              userid  0  1  2  3  4  5  6  7  8   ...     52  \\\n",
       "90  0e3fdb89c7706b13891170ab2a9017c7  2  1 -1  2  1  1  2 -1 -1   ...      2   \n",
       "79  23cbbe03a89344129e1a6d8419a66d23 -1 -1 -1 -1 -1 -1  1 -1  1   ...      2   \n",
       "12  e9970fe8848e9505b52d414d81611de8  2 -1 -1 -1 -1  4 -1 -1  4   ...     -1   \n",
       "65  4764518d32334248e6ebbf681a18fd0c  4  4 -1  2  2  4  1  1 -1   ...      2   \n",
       "\n",
       "    53  54  55  56  57  58  59  cesd_sum  biLabel  \n",
       "90   4  -1  -1  -1  -1  -1  -1         4        0  \n",
       "79  -1   2   2   2   2   2   2        28        1  \n",
       "12  -1  -1  -1  -1  -1  -1  -1        34        1  \n",
       "65   1   2   4  -1  -1   1   1        23        0  \n",
       "\n",
       "[4 rows x 63 columns]"
      ]
     },
     "execution_count": 48,
     "metadata": {},
     "output_type": "execute_result"
    }
   ],
   "source": [
    "#select cases in the test set\n",
    "indexes = X_test.index.values\n",
    "ValCesd['biLabel'] = y\n",
    "TestFea = ValCesd.loc[indexes]\n"
   ]
  },
  {
   "cell_type": "code",
   "execution_count": 51,
   "metadata": {},
   "outputs": [
    {
     "name": "stdout",
     "output_type": "stream",
     "text": [
      "empty days in this group count    15.000000\n",
      "mean     31.200000\n",
      "std       6.678323\n",
      "min      15.000000\n",
      "25%      28.500000\n",
      "50%      33.000000\n",
      "75%      35.500000\n",
      "max      40.000000\n",
      "Name: empty, dtype: float64\n",
      "negative days in this group count    15.000000\n",
      "mean      8.866667\n",
      "std       4.290632\n",
      "min       4.000000\n",
      "25%       5.500000\n",
      "50%       8.000000\n",
      "75%      11.500000\n",
      "max      19.000000\n",
      "Name: negative, dtype: float64\n",
      "positive days in this group count    15.000000\n",
      "mean     14.533333\n",
      "std       3.979710\n",
      "min       8.000000\n",
      "25%      11.500000\n",
      "50%      15.000000\n",
      "75%      17.000000\n",
      "max      21.000000\n",
      "Name: positive, dtype: float64\n",
      "neutral days in this group count    15.000000\n",
      "mean      5.866667\n",
      "std       3.377799\n",
      "min       0.000000\n",
      "25%       3.500000\n",
      "50%       6.000000\n",
      "75%       8.500000\n",
      "max      12.000000\n",
      "Name: neutral, dtype: float64\n",
      "mix days in this group count    15.000000\n",
      "mean      0.866667\n",
      "std       0.833809\n",
      "min       0.000000\n",
      "25%       0.000000\n",
      "50%       1.000000\n",
      "75%       1.000000\n",
      "max       3.000000\n",
      "Name: mix, dtype: float64\n"
     ]
    },
    {
     "name": "stderr",
     "output_type": "stream",
     "text": [
      "/Users/lucia/anaconda3/lib/python3.6/site-packages/ipykernel_launcher.py:7: SettingWithCopyWarning: \n",
      "A value is trying to be set on a copy of a slice from a DataFrame.\n",
      "Try using .loc[row_indexer,col_indexer] = value instead\n",
      "\n",
      "See the caveats in the documentation: http://pandas.pydata.org/pandas-docs/stable/indexing.html#indexing-view-versus-copy\n",
      "  import sys\n",
      "/Users/lucia/anaconda3/lib/python3.6/site-packages/ipykernel_launcher.py:8: SettingWithCopyWarning: \n",
      "A value is trying to be set on a copy of a slice from a DataFrame.\n",
      "Try using .loc[row_indexer,col_indexer] = value instead\n",
      "\n",
      "See the caveats in the documentation: http://pandas.pydata.org/pandas-docs/stable/indexing.html#indexing-view-versus-copy\n",
      "  \n",
      "/Users/lucia/anaconda3/lib/python3.6/site-packages/ipykernel_launcher.py:9: SettingWithCopyWarning: \n",
      "A value is trying to be set on a copy of a slice from a DataFrame.\n",
      "Try using .loc[row_indexer,col_indexer] = value instead\n",
      "\n",
      "See the caveats in the documentation: http://pandas.pydata.org/pandas-docs/stable/indexing.html#indexing-view-versus-copy\n",
      "  if __name__ == '__main__':\n",
      "/Users/lucia/anaconda3/lib/python3.6/site-packages/ipykernel_launcher.py:10: SettingWithCopyWarning: \n",
      "A value is trying to be set on a copy of a slice from a DataFrame.\n",
      "Try using .loc[row_indexer,col_indexer] = value instead\n",
      "\n",
      "See the caveats in the documentation: http://pandas.pydata.org/pandas-docs/stable/indexing.html#indexing-view-versus-copy\n",
      "  # Remove the CWD from sys.path while we load stuff.\n",
      "/Users/lucia/anaconda3/lib/python3.6/site-packages/ipykernel_launcher.py:11: SettingWithCopyWarning: \n",
      "A value is trying to be set on a copy of a slice from a DataFrame.\n",
      "Try using .loc[row_indexer,col_indexer] = value instead\n",
      "\n",
      "See the caveats in the documentation: http://pandas.pydata.org/pandas-docs/stable/indexing.html#indexing-view-versus-copy\n",
      "  # This is added back by InteractiveShellApp.init_path()\n"
     ]
    }
   ],
   "source": [
    "high = TestFea.loc[TestFea['biLabel'] == 1, ]\n",
    "VectorStats(high)"
   ]
  },
  {
   "cell_type": "code",
   "execution_count": 52,
   "metadata": {},
   "outputs": [
    {
     "name": "stderr",
     "output_type": "stream",
     "text": [
      "/Users/lucia/anaconda3/lib/python3.6/site-packages/ipykernel_launcher.py:7: SettingWithCopyWarning: \n",
      "A value is trying to be set on a copy of a slice from a DataFrame.\n",
      "Try using .loc[row_indexer,col_indexer] = value instead\n",
      "\n",
      "See the caveats in the documentation: http://pandas.pydata.org/pandas-docs/stable/indexing.html#indexing-view-versus-copy\n",
      "  import sys\n",
      "/Users/lucia/anaconda3/lib/python3.6/site-packages/ipykernel_launcher.py:8: SettingWithCopyWarning: \n",
      "A value is trying to be set on a copy of a slice from a DataFrame.\n",
      "Try using .loc[row_indexer,col_indexer] = value instead\n",
      "\n",
      "See the caveats in the documentation: http://pandas.pydata.org/pandas-docs/stable/indexing.html#indexing-view-versus-copy\n",
      "  \n",
      "/Users/lucia/anaconda3/lib/python3.6/site-packages/ipykernel_launcher.py:9: SettingWithCopyWarning: \n",
      "A value is trying to be set on a copy of a slice from a DataFrame.\n",
      "Try using .loc[row_indexer,col_indexer] = value instead\n",
      "\n",
      "See the caveats in the documentation: http://pandas.pydata.org/pandas-docs/stable/indexing.html#indexing-view-versus-copy\n",
      "  if __name__ == '__main__':\n",
      "/Users/lucia/anaconda3/lib/python3.6/site-packages/ipykernel_launcher.py:10: SettingWithCopyWarning: \n",
      "A value is trying to be set on a copy of a slice from a DataFrame.\n",
      "Try using .loc[row_indexer,col_indexer] = value instead\n",
      "\n",
      "See the caveats in the documentation: http://pandas.pydata.org/pandas-docs/stable/indexing.html#indexing-view-versus-copy\n",
      "  # Remove the CWD from sys.path while we load stuff.\n"
     ]
    },
    {
     "name": "stdout",
     "output_type": "stream",
     "text": [
      "empty days in this group count     9.000000\n",
      "mean     37.000000\n",
      "std      11.146748\n",
      "min      12.000000\n",
      "25%      36.000000\n",
      "50%      37.000000\n",
      "75%      42.000000\n",
      "max      53.000000\n",
      "Name: empty, dtype: float64\n",
      "negative days in this group count     9.000000\n",
      "mean      6.888889\n",
      "std       4.284987\n",
      "min       1.000000\n",
      "25%       4.000000\n",
      "50%       6.000000\n",
      "75%       9.000000\n",
      "max      15.000000\n",
      "Name: negative, dtype: float64\n",
      "positive days in this group count     9.000000\n",
      "mean     11.444444\n",
      "std       6.765928\n",
      "min       1.000000\n",
      "25%       8.000000\n",
      "50%       9.000000\n",
      "75%      19.000000\n",
      "max      20.000000\n",
      "Name: positive, dtype: float64\n",
      "neutral days in this group count     9.000000\n",
      "mean      4.333333\n",
      "std       3.640055\n",
      "min       0.000000\n",
      "25%       2.000000\n",
      "50%       5.000000\n",
      "75%       6.000000\n",
      "max      12.000000\n",
      "Name: neutral, dtype: float64\n",
      "mix days in this group count    9.000000\n",
      "mean     0.666667\n",
      "std      0.707107\n",
      "min      0.000000\n",
      "25%      0.000000\n",
      "50%      1.000000\n",
      "75%      1.000000\n",
      "max      2.000000\n",
      "Name: mix, dtype: float64\n"
     ]
    },
    {
     "name": "stderr",
     "output_type": "stream",
     "text": [
      "/Users/lucia/anaconda3/lib/python3.6/site-packages/ipykernel_launcher.py:11: SettingWithCopyWarning: \n",
      "A value is trying to be set on a copy of a slice from a DataFrame.\n",
      "Try using .loc[row_indexer,col_indexer] = value instead\n",
      "\n",
      "See the caveats in the documentation: http://pandas.pydata.org/pandas-docs/stable/indexing.html#indexing-view-versus-copy\n",
      "  # This is added back by InteractiveShellApp.init_path()\n"
     ]
    }
   ],
   "source": [
    "low = TestFea.loc[TestFea['biLabel'] == 0, ]\n",
    "VectorStats(low)"
   ]
  },
  {
   "cell_type": "code",
   "execution_count": 56,
   "metadata": {},
   "outputs": [
    {
     "name": "stdout",
     "output_type": "stream",
     "text": [
      "compare empty days Ttest_indResult(statistic=-1.6038275245863756, pvalue=0.12301316971052453)\n",
      "compare negative days Ttest_indResult(statistic=1.0937680452942726, pvalue=0.2858885371803433)\n",
      "compare positive days Ttest_indResult(statistic=1.4171069928531999, pvalue=0.1704584244181032)\n",
      "compare neutral days Ttest_indResult(statistic=1.046372128455853, pvalue=0.3067502276103799)\n",
      "compare mix days Ttest_indResult(statistic=0.6003639672764213, pvalue=0.5543984940388119)\n"
     ]
    }
   ],
   "source": [
    "def ttest(high, low):\n",
    "    print('compare empty days {}'. format(stats.ttest_ind(high['empty'], low['empty'])))\n",
    "    print('compare negative days {}'. format(stats.ttest_ind(high['negative'], low['negative'])))\n",
    "    print('compare positive days {}'. format(stats.ttest_ind(high['positive'], low['positive'])))\n",
    "    print('compare neutral days {}'. format(stats.ttest_ind(high['neutral'], low['neutral'])))\n",
    "    print('compare mix days {}'. format(stats.ttest_ind(high['mix'], low['mix'])))\n",
    "ttest(high, low)"
   ]
  },
  {
   "cell_type": "markdown",
   "metadata": {},
   "source": [
    "Nothing is significantly different in the test sample\n",
    "Now let's see the train set"
   ]
  },
  {
   "cell_type": "code",
   "execution_count": 59,
   "metadata": {},
   "outputs": [],
   "source": [
    "#select cases in the test set\n",
    "indexes = X_train.index.values\n",
    "trainFea = ValCesd.loc[indexes]"
   ]
  },
  {
   "cell_type": "code",
   "execution_count": 64,
   "metadata": {},
   "outputs": [
    {
     "name": "stderr",
     "output_type": "stream",
     "text": [
      "/Users/lucia/anaconda3/lib/python3.6/site-packages/ipykernel_launcher.py:7: SettingWithCopyWarning: \n",
      "A value is trying to be set on a copy of a slice from a DataFrame.\n",
      "Try using .loc[row_indexer,col_indexer] = value instead\n",
      "\n",
      "See the caveats in the documentation: http://pandas.pydata.org/pandas-docs/stable/indexing.html#indexing-view-versus-copy\n",
      "  import sys\n",
      "/Users/lucia/anaconda3/lib/python3.6/site-packages/ipykernel_launcher.py:8: SettingWithCopyWarning: \n",
      "A value is trying to be set on a copy of a slice from a DataFrame.\n",
      "Try using .loc[row_indexer,col_indexer] = value instead\n",
      "\n",
      "See the caveats in the documentation: http://pandas.pydata.org/pandas-docs/stable/indexing.html#indexing-view-versus-copy\n",
      "  \n",
      "/Users/lucia/anaconda3/lib/python3.6/site-packages/ipykernel_launcher.py:9: SettingWithCopyWarning: \n",
      "A value is trying to be set on a copy of a slice from a DataFrame.\n",
      "Try using .loc[row_indexer,col_indexer] = value instead\n",
      "\n",
      "See the caveats in the documentation: http://pandas.pydata.org/pandas-docs/stable/indexing.html#indexing-view-versus-copy\n",
      "  if __name__ == '__main__':\n",
      "/Users/lucia/anaconda3/lib/python3.6/site-packages/ipykernel_launcher.py:10: SettingWithCopyWarning: \n",
      "A value is trying to be set on a copy of a slice from a DataFrame.\n",
      "Try using .loc[row_indexer,col_indexer] = value instead\n",
      "\n",
      "See the caveats in the documentation: http://pandas.pydata.org/pandas-docs/stable/indexing.html#indexing-view-versus-copy\n",
      "  # Remove the CWD from sys.path while we load stuff.\n"
     ]
    },
    {
     "name": "stdout",
     "output_type": "stream",
     "text": [
      "empty days in this group count    26.000000\n",
      "mean     27.038462\n",
      "std      14.801299\n",
      "min       1.000000\n",
      "25%      20.250000\n",
      "50%      29.000000\n",
      "75%      37.000000\n",
      "max      57.000000\n",
      "Name: empty, dtype: float64\n",
      "negative days in this group count    26.000000\n",
      "mean     11.961538\n",
      "std       7.701848\n",
      "min       1.000000\n",
      "25%       8.000000\n",
      "50%      11.000000\n",
      "75%      15.500000\n",
      "max      40.000000\n",
      "Name: negative, dtype: float64\n",
      "positive days in this group count    26.000000\n",
      "mean     16.038462\n",
      "std      11.714882\n",
      "min       0.000000\n",
      "25%      10.250000\n",
      "50%      12.500000\n",
      "75%      20.000000\n",
      "max      47.000000\n",
      "Name: positive, dtype: float64\n",
      "neutral days in this group count    26.000000\n",
      "mean      5.576923\n",
      "std       2.941742\n",
      "min       1.000000\n",
      "25%       4.000000\n",
      "50%       5.000000\n",
      "75%       8.000000\n",
      "max      13.000000\n",
      "Name: neutral, dtype: float64\n",
      "mix days in this group count    26.000000\n",
      "mean      0.615385\n",
      "std       1.328967\n",
      "min       0.000000\n",
      "25%       0.000000\n",
      "50%       0.000000\n",
      "75%       0.750000\n",
      "max       6.000000\n",
      "Name: mix, dtype: float64\n"
     ]
    },
    {
     "name": "stderr",
     "output_type": "stream",
     "text": [
      "/Users/lucia/anaconda3/lib/python3.6/site-packages/ipykernel_launcher.py:11: SettingWithCopyWarning: \n",
      "A value is trying to be set on a copy of a slice from a DataFrame.\n",
      "Try using .loc[row_indexer,col_indexer] = value instead\n",
      "\n",
      "See the caveats in the documentation: http://pandas.pydata.org/pandas-docs/stable/indexing.html#indexing-view-versus-copy\n",
      "  # This is added back by InteractiveShellApp.init_path()\n"
     ]
    }
   ],
   "source": [
    "high = trainFea.loc[trainFea['biLabel'] == 1, ]\n",
    "VectorStats(high)"
   ]
  },
  {
   "cell_type": "code",
   "execution_count": 63,
   "metadata": {},
   "outputs": [
    {
     "name": "stderr",
     "output_type": "stream",
     "text": [
      "/Users/lucia/anaconda3/lib/python3.6/site-packages/ipykernel_launcher.py:7: SettingWithCopyWarning: \n",
      "A value is trying to be set on a copy of a slice from a DataFrame.\n",
      "Try using .loc[row_indexer,col_indexer] = value instead\n",
      "\n",
      "See the caveats in the documentation: http://pandas.pydata.org/pandas-docs/stable/indexing.html#indexing-view-versus-copy\n",
      "  import sys\n",
      "/Users/lucia/anaconda3/lib/python3.6/site-packages/ipykernel_launcher.py:8: SettingWithCopyWarning: \n",
      "A value is trying to be set on a copy of a slice from a DataFrame.\n",
      "Try using .loc[row_indexer,col_indexer] = value instead\n",
      "\n",
      "See the caveats in the documentation: http://pandas.pydata.org/pandas-docs/stable/indexing.html#indexing-view-versus-copy\n",
      "  \n",
      "/Users/lucia/anaconda3/lib/python3.6/site-packages/ipykernel_launcher.py:9: SettingWithCopyWarning: \n",
      "A value is trying to be set on a copy of a slice from a DataFrame.\n",
      "Try using .loc[row_indexer,col_indexer] = value instead\n",
      "\n",
      "See the caveats in the documentation: http://pandas.pydata.org/pandas-docs/stable/indexing.html#indexing-view-versus-copy\n",
      "  if __name__ == '__main__':\n",
      "/Users/lucia/anaconda3/lib/python3.6/site-packages/ipykernel_launcher.py:10: SettingWithCopyWarning: \n",
      "A value is trying to be set on a copy of a slice from a DataFrame.\n",
      "Try using .loc[row_indexer,col_indexer] = value instead\n",
      "\n",
      "See the caveats in the documentation: http://pandas.pydata.org/pandas-docs/stable/indexing.html#indexing-view-versus-copy\n",
      "  # Remove the CWD from sys.path while we load stuff.\n"
     ]
    },
    {
     "name": "stdout",
     "output_type": "stream",
     "text": [
      "empty days in this group count    27.000000\n",
      "mean     28.259259\n",
      "std      12.330677\n",
      "min       0.000000\n",
      "25%      22.000000\n",
      "50%      28.000000\n",
      "75%      36.500000\n",
      "max      59.000000\n",
      "Name: empty, dtype: float64\n",
      "negative days in this group count    27.000000\n",
      "mean      8.000000\n",
      "std       4.332347\n",
      "min       0.000000\n",
      "25%       4.000000\n",
      "50%       8.000000\n",
      "75%      12.000000\n",
      "max      15.000000\n",
      "Name: negative, dtype: float64\n",
      "positive days in this group count    27.000000\n",
      "mean     17.481481\n",
      "std       9.333028\n",
      "min       1.000000\n",
      "25%      12.000000\n",
      "50%      15.000000\n",
      "75%      20.000000\n",
      "max      44.000000\n",
      "Name: positive, dtype: float64\n",
      "neutral days in this group count    27.000000\n",
      "mean      6.111111\n",
      "std       4.388213\n",
      "min       0.000000\n",
      "25%       2.500000\n",
      "50%       6.000000\n",
      "75%       9.000000\n",
      "max      14.000000\n",
      "Name: neutral, dtype: float64\n",
      "mix days in this group count    27.000000\n",
      "mean      0.629630\n",
      "std       0.741524\n",
      "min       0.000000\n",
      "25%       0.000000\n",
      "50%       0.000000\n",
      "75%       1.000000\n",
      "max       2.000000\n",
      "Name: mix, dtype: float64\n"
     ]
    },
    {
     "name": "stderr",
     "output_type": "stream",
     "text": [
      "/Users/lucia/anaconda3/lib/python3.6/site-packages/ipykernel_launcher.py:11: SettingWithCopyWarning: \n",
      "A value is trying to be set on a copy of a slice from a DataFrame.\n",
      "Try using .loc[row_indexer,col_indexer] = value instead\n",
      "\n",
      "See the caveats in the documentation: http://pandas.pydata.org/pandas-docs/stable/indexing.html#indexing-view-versus-copy\n",
      "  # This is added back by InteractiveShellApp.init_path()\n"
     ]
    }
   ],
   "source": [
    "low = trainFea.loc[trainFea['biLabel'] == 0, ]\n",
    "VectorStats(low)"
   ]
  },
  {
   "cell_type": "code",
   "execution_count": 65,
   "metadata": {},
   "outputs": [
    {
     "name": "stdout",
     "output_type": "stream",
     "text": [
      "compare empty days Ttest_indResult(statistic=-0.326738412106534, pvalue=0.7452029492520422)\n",
      "compare negative days Ttest_indResult(statistic=2.319212330198177, pvalue=0.024425955011303062)\n",
      "compare positive days Ttest_indResult(statistic=-0.49695195387525226, pvalue=0.6213585019006429)\n",
      "compare neutral days Ttest_indResult(statistic=-0.5184971867566572, pvalue=0.6063538708143157)\n",
      "compare mix days Ttest_indResult(statistic=-0.04842680423941222, pvalue=0.9615652494175815)\n"
     ]
    }
   ],
   "source": [
    "ttest(high, low)"
   ]
  },
  {
   "cell_type": "markdown",
   "metadata": {},
   "source": [
    "only negative valence is significantly different\n",
    "Now let's see the prediction result"
   ]
  },
  {
   "cell_type": "code",
   "execution_count": 73,
   "metadata": {},
   "outputs": [],
   "source": [
    "TestFea['preLabel'] = y_predSvm\n"
   ]
  },
  {
   "cell_type": "code",
   "execution_count": 75,
   "metadata": {},
   "outputs": [
    {
     "name": "stderr",
     "output_type": "stream",
     "text": [
      "/Users/lucia/anaconda3/lib/python3.6/site-packages/ipykernel_launcher.py:7: SettingWithCopyWarning: \n",
      "A value is trying to be set on a copy of a slice from a DataFrame.\n",
      "Try using .loc[row_indexer,col_indexer] = value instead\n",
      "\n",
      "See the caveats in the documentation: http://pandas.pydata.org/pandas-docs/stable/indexing.html#indexing-view-versus-copy\n",
      "  import sys\n",
      "/Users/lucia/anaconda3/lib/python3.6/site-packages/ipykernel_launcher.py:8: SettingWithCopyWarning: \n",
      "A value is trying to be set on a copy of a slice from a DataFrame.\n",
      "Try using .loc[row_indexer,col_indexer] = value instead\n",
      "\n",
      "See the caveats in the documentation: http://pandas.pydata.org/pandas-docs/stable/indexing.html#indexing-view-versus-copy\n",
      "  \n",
      "/Users/lucia/anaconda3/lib/python3.6/site-packages/ipykernel_launcher.py:9: SettingWithCopyWarning: \n",
      "A value is trying to be set on a copy of a slice from a DataFrame.\n",
      "Try using .loc[row_indexer,col_indexer] = value instead\n",
      "\n",
      "See the caveats in the documentation: http://pandas.pydata.org/pandas-docs/stable/indexing.html#indexing-view-versus-copy\n",
      "  if __name__ == '__main__':\n",
      "/Users/lucia/anaconda3/lib/python3.6/site-packages/ipykernel_launcher.py:10: SettingWithCopyWarning: \n",
      "A value is trying to be set on a copy of a slice from a DataFrame.\n",
      "Try using .loc[row_indexer,col_indexer] = value instead\n",
      "\n",
      "See the caveats in the documentation: http://pandas.pydata.org/pandas-docs/stable/indexing.html#indexing-view-versus-copy\n",
      "  # Remove the CWD from sys.path while we load stuff.\n",
      "/Users/lucia/anaconda3/lib/python3.6/site-packages/ipykernel_launcher.py:11: SettingWithCopyWarning: \n",
      "A value is trying to be set on a copy of a slice from a DataFrame.\n",
      "Try using .loc[row_indexer,col_indexer] = value instead\n",
      "\n",
      "See the caveats in the documentation: http://pandas.pydata.org/pandas-docs/stable/indexing.html#indexing-view-versus-copy\n",
      "  # This is added back by InteractiveShellApp.init_path()\n"
     ]
    },
    {
     "name": "stdout",
     "output_type": "stream",
     "text": [
      "empty days in this group count    14.000000\n",
      "mean     31.571429\n",
      "std       6.548215\n",
      "min      15.000000\n",
      "25%      30.000000\n",
      "50%      32.500000\n",
      "75%      35.500000\n",
      "max      42.000000\n",
      "Name: empty, dtype: float64\n",
      "negative days in this group count    14.000000\n",
      "mean      9.642857\n",
      "std       4.465373\n",
      "min       5.000000\n",
      "25%       6.250000\n",
      "50%       9.000000\n",
      "75%      12.000000\n",
      "max      20.000000\n",
      "Name: negative, dtype: float64\n",
      "positive days in this group count    14.000000\n",
      "mean     14.357143\n",
      "std       4.829511\n",
      "min       6.000000\n",
      "25%      10.250000\n",
      "50%      15.000000\n",
      "75%      19.000000\n",
      "max      21.000000\n",
      "Name: positive, dtype: float64\n",
      "neutral days in this group count    14.000000\n",
      "mean      5.642857\n",
      "std       2.619664\n",
      "min       2.000000\n",
      "25%       3.250000\n",
      "50%       5.500000\n",
      "75%       6.750000\n",
      "max      10.000000\n",
      "Name: neutral, dtype: float64\n",
      "mix days in this group count    14.000000\n",
      "mean      0.857143\n",
      "std       0.949262\n",
      "min       0.000000\n",
      "25%       0.000000\n",
      "50%       1.000000\n",
      "75%       1.000000\n",
      "max       3.000000\n",
      "Name: mix, dtype: float64\n"
     ]
    }
   ],
   "source": [
    "#high group\n",
    "preHigh = TestFea.loc[TestFea['preLabel'] == 1, ]\n",
    "VectorStats(preHigh)"
   ]
  },
  {
   "cell_type": "code",
   "execution_count": 76,
   "metadata": {},
   "outputs": [
    {
     "name": "stdout",
     "output_type": "stream",
     "text": [
      "empty days in this group count    10.00000\n",
      "mean     35.90000\n",
      "std      11.25907\n",
      "min      12.00000\n",
      "25%      35.25000\n",
      "50%      37.50000\n",
      "75%      41.50000\n",
      "max      53.00000\n",
      "Name: empty, dtype: float64\n",
      "negative days in this group count    10.000000\n",
      "mean      7.400000\n",
      "std       4.195235\n",
      "min       1.000000\n",
      "25%       4.500000\n",
      "50%       7.500000\n",
      "75%       9.000000\n",
      "max      15.000000\n",
      "Name: negative, dtype: float64\n",
      "positive days in this group count    10.000000\n",
      "mean     12.000000\n",
      "std       5.830952\n",
      "min       1.000000\n",
      "25%       9.000000\n",
      "50%      11.500000\n",
      "75%      16.750000\n",
      "max      20.000000\n",
      "Name: positive, dtype: float64\n",
      "neutral days in this group count    10.000000\n",
      "mean      4.500000\n",
      "std       4.478343\n",
      "min       0.000000\n",
      "25%       1.250000\n",
      "50%       3.500000\n",
      "75%       5.750000\n",
      "max      12.000000\n",
      "Name: neutral, dtype: float64\n",
      "mix days in this group count    10.000000\n",
      "mean      0.800000\n",
      "std       0.632456\n",
      "min       0.000000\n",
      "25%       0.250000\n",
      "50%       1.000000\n",
      "75%       1.000000\n",
      "max       2.000000\n",
      "Name: mix, dtype: float64\n"
     ]
    },
    {
     "name": "stderr",
     "output_type": "stream",
     "text": [
      "/Users/lucia/anaconda3/lib/python3.6/site-packages/ipykernel_launcher.py:7: SettingWithCopyWarning: \n",
      "A value is trying to be set on a copy of a slice from a DataFrame.\n",
      "Try using .loc[row_indexer,col_indexer] = value instead\n",
      "\n",
      "See the caveats in the documentation: http://pandas.pydata.org/pandas-docs/stable/indexing.html#indexing-view-versus-copy\n",
      "  import sys\n",
      "/Users/lucia/anaconda3/lib/python3.6/site-packages/ipykernel_launcher.py:8: SettingWithCopyWarning: \n",
      "A value is trying to be set on a copy of a slice from a DataFrame.\n",
      "Try using .loc[row_indexer,col_indexer] = value instead\n",
      "\n",
      "See the caveats in the documentation: http://pandas.pydata.org/pandas-docs/stable/indexing.html#indexing-view-versus-copy\n",
      "  \n",
      "/Users/lucia/anaconda3/lib/python3.6/site-packages/ipykernel_launcher.py:9: SettingWithCopyWarning: \n",
      "A value is trying to be set on a copy of a slice from a DataFrame.\n",
      "Try using .loc[row_indexer,col_indexer] = value instead\n",
      "\n",
      "See the caveats in the documentation: http://pandas.pydata.org/pandas-docs/stable/indexing.html#indexing-view-versus-copy\n",
      "  if __name__ == '__main__':\n",
      "/Users/lucia/anaconda3/lib/python3.6/site-packages/ipykernel_launcher.py:10: SettingWithCopyWarning: \n",
      "A value is trying to be set on a copy of a slice from a DataFrame.\n",
      "Try using .loc[row_indexer,col_indexer] = value instead\n",
      "\n",
      "See the caveats in the documentation: http://pandas.pydata.org/pandas-docs/stable/indexing.html#indexing-view-versus-copy\n",
      "  # Remove the CWD from sys.path while we load stuff.\n",
      "/Users/lucia/anaconda3/lib/python3.6/site-packages/ipykernel_launcher.py:11: SettingWithCopyWarning: \n",
      "A value is trying to be set on a copy of a slice from a DataFrame.\n",
      "Try using .loc[row_indexer,col_indexer] = value instead\n",
      "\n",
      "See the caveats in the documentation: http://pandas.pydata.org/pandas-docs/stable/indexing.html#indexing-view-versus-copy\n",
      "  # This is added back by InteractiveShellApp.init_path()\n"
     ]
    }
   ],
   "source": [
    "preLow = TestFea.loc[TestFea['preLabel'] == 0, ]\n",
    "VectorStats(preLow)"
   ]
  },
  {
   "cell_type": "code",
   "execution_count": 77,
   "metadata": {},
   "outputs": [
    {
     "name": "stdout",
     "output_type": "stream",
     "text": [
      "compare empty days Ttest_indResult(statistic=-1.189880830547892, pvalue=0.24677612177139144)\n",
      "compare negative days Ttest_indResult(statistic=1.2433221664927563, pvalue=0.2268363375617889)\n",
      "compare positive days Ttest_indResult(statistic=1.0818588502808761, pvalue=0.29103165993002766)\n",
      "compare neutral days Ttest_indResult(statistic=0.7883330048613166, pvalue=0.4389145234469928)\n",
      "compare mix days Ttest_indResult(statistic=0.16541820963727633, pvalue=0.8701254725500155)\n"
     ]
    }
   ],
   "source": [
    "ttest(preHigh, preLow)"
   ]
  },
  {
   "cell_type": "code",
   "execution_count": null,
   "metadata": {
    "collapsed": true
   },
   "outputs": [],
   "source": []
  }
 ],
 "metadata": {
  "kernelspec": {
   "display_name": "Python 3",
   "language": "python",
   "name": "python3"
  },
  "language_info": {
   "codemirror_mode": {
    "name": "ipython",
    "version": 3
   },
   "file_extension": ".py",
   "mimetype": "text/x-python",
   "name": "python",
   "nbconvert_exporter": "python",
   "pygments_lexer": "ipython3",
   "version": "3.6.1"
  }
 },
 "nbformat": 4,
 "nbformat_minor": 2
}
