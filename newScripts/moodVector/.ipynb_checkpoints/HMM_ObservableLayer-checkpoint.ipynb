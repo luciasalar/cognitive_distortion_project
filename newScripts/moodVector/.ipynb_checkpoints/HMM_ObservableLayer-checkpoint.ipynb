{
 "cells": [
  {
   "cell_type": "code",
   "execution_count": 2,
   "metadata": {
    "collapsed": true
   },
   "outputs": [],
   "source": [
    "import pandas as pd\n",
    "import pickle"
   ]
  },
  {
   "cell_type": "markdown",
   "metadata": {},
   "source": [
    "valence vector design 1: empty: -1, positive:2, negative:1, mix:3, neutral:4 "
   ]
  },
  {
   "cell_type": "code",
   "execution_count": 4,
   "metadata": {},
   "outputs": [],
   "source": [
    "# import the object\n",
    "valencVec = pickle.load( open( \"../../data/important_data/moodVectorsData/MoodVecDes1.pickle\", \"rb\" ))"
   ]
  },
  {
   "cell_type": "code",
   "execution_count": 90,
   "metadata": {},
   "outputs": [],
   "source": [
    "def getTransitions(ValenceObject):\n",
    "    emptyTran = 0\n",
    "    negaTran = 0\n",
    "    posiTran = 0\n",
    "    mixTran = 0\n",
    "    neuTran = 0\n",
    "    preValence = 0\n",
    "    for valence in ValenceObject:\n",
    "    #         print(valence)\n",
    "    #         print('prepre',preValence)\n",
    "        if valence == -1 and preValence == -1:\n",
    "            emptyTran = emptyTran + 1\n",
    "    #             print('empty tran is', emptyTran)\n",
    "    #             print('pre', preValence)\n",
    "        elif valence == 1 and preValence == 1:\n",
    "            negaTran = negaTran + 1\n",
    "    #             print('nega tran is', negaTran)\n",
    "    #             print('pre',preValence)\n",
    "        elif valence == 2 and preValence == 2:\n",
    "            posiTran = posiTran + 1\n",
    "        elif valence == 3 and preValence == 3:\n",
    "            mixTran = mixTran + 1\n",
    "        elif valence == 4 and preValence == 4:\n",
    "            neuTran = neuTran + 1\n",
    "        preValence = valence\n",
    "    return [emptyTran,negaTran, posiTran, mixTran, neuTran]\n"
   ]
  },
  {
   "cell_type": "code",
   "execution_count": 91,
   "metadata": {},
   "outputs": [
    {
     "name": "stdout",
     "output_type": "stream",
     "text": [
      "[17, 2, 6, 0, 0]\n",
      "[0, 21, 14, 0, 1]\n",
      "[17, 3, 3, 0, 1]\n",
      "[9, 0, 4, 0, 0]\n",
      "[35, 2, 0, 0, 1]\n",
      "[12, 1, 2, 0, 0]\n",
      "[27, 0, 2, 0, 0]\n",
      "[13, 0, 6, 0, 1]\n",
      "[29, 0, 4, 0, 1]\n",
      "[13, 6, 0, 0, 0]\n",
      "[22, 1, 1, 0, 0]\n",
      "[13, 1, 1, 0, 3]\n",
      "[14, 1, 6, 0, 2]\n",
      "[3, 7, 4, 0, 0]\n",
      "[9, 2, 15, 0, 0]\n",
      "[0, 17, 16, 0, 0]\n",
      "[34, 1, 0, 0, 2]\n",
      "[11, 6, 2, 0, 1]\n",
      "[14, 4, 1, 0, 0]\n",
      "[27, 2, 0, 0, 0]\n",
      "[13, 0, 3, 0, 1]\n",
      "[20, 1, 6, 0, 0]\n",
      "[25, 0, 10, 0, 0]\n",
      "[8, 3, 2, 0, 0]\n",
      "[9, 2, 5, 0, 0]\n",
      "[25, 0, 4, 0, 0]\n",
      "[4, 9, 2, 0, 0]\n",
      "[0, 18, 5, 0, 0]\n",
      "[28, 2, 5, 0, 0]\n",
      "[23, 1, 0, 0, 0]\n",
      "[33, 4, 0, 0, 1]\n",
      "[23, 1, 7, 0, 1]\n",
      "[0, 7, 11, 0, 0]\n",
      "[18, 4, 5, 0, 0]\n",
      "[11, 2, 6, 0, 1]\n",
      "[11, 1, 1, 0, 0]\n",
      "[30, 4, 5, 0, 0]\n",
      "[21, 1, 6, 0, 0]\n",
      "[29, 1, 1, 0, 0]\n",
      "[1, 0, 37, 0, 1]\n",
      "[12, 3, 4, 0, 0]\n",
      "[17, 1, 3, 0, 1]\n",
      "[11, 2, 7, 0, 0]\n",
      "[8, 8, 1, 0, 1]\n",
      "[31, 0, 1, 0, 0]\n",
      "[25, 0, 2, 0, 0]\n",
      "[30, 0, 2, 0, 0]\n",
      "[5, 6, 4, 0, 1]\n",
      "[19, 1, 1, 0, 0]\n",
      "[21, 1, 5, 0, 0]\n",
      "[4, 7, 12, 0, 0]\n",
      "[2, 13, 3, 0, 0]\n",
      "[26, 1, 6, 0, 2]\n",
      "[24, 2, 1, 0, 0]\n",
      "[31, 3, 0, 0, 0]\n",
      "[7, 7, 3, 0, 0]\n",
      "[0, 27, 5, 0, 0]\n",
      "[13, 3, 8, 0, 2]\n",
      "[15, 5, 1, 0, 0]\n",
      "[8, 5, 4, 0, 1]\n",
      "[0, 49, 0, 0, 0]\n",
      "[18, 0, 7, 0, 0]\n",
      "[5, 3, 0, 0, 1]\n",
      "[20, 0, 7, 0, 0]\n",
      "[11, 0, 5, 0, 1]\n",
      "[16, 1, 1, 0, 2]\n",
      "[32, 2, 2, 0, 0]\n",
      "[17, 7, 1, 0, 0]\n",
      "[19, 0, 5, 0, 1]\n",
      "[24, 0, 4, 0, 0]\n",
      "[9, 3, 5, 0, 0]\n",
      "[26, 1, 3, 0, 0]\n",
      "[24, 4, 1, 0, 0]\n",
      "[16, 3, 2, 0, 0]\n"
     ]
    }
   ],
   "source": [
    "for item in valencVec:\n",
    "    result = getTransitions(valencVec[item])\n",
    "    print(result)\n",
    "    "
   ]
  },
  {
   "cell_type": "code",
   "execution_count": 77,
   "metadata": {},
   "outputs": [
    {
     "name": "stdout",
     "output_type": "stream",
     "text": [
      "16\n",
      "3\n",
      "2\n",
      "0\n",
      "0\n"
     ]
    }
   ],
   "source": [
    "for item in valencVec:\n",
    "#     print(valencVec[item][1])\n",
    "    emptyTran = 0\n",
    "    negaTran = 0\n",
    "    posiTran = 0\n",
    "    mixTran = 0\n",
    "    neuTran = 0\n",
    "    preValence = 0\n",
    "    for valence in valencVec[item]:\n",
    "#         print(valence)\n",
    "#         print('prepre',preValence)\n",
    "        if valence == -1 and preValence == -1:\n",
    "            emptyTran = emptyTran + 1\n",
    "#             print('empty tran is', emptyTran)\n",
    "#             print('pre', preValence)\n",
    "        elif valence == 1 and preValence == 1:\n",
    "            negaTran = negaTran + 1\n",
    "#             print('nega tran is', negaTran)\n",
    "#             print('pre',preValence)\n",
    "        \n",
    "        elif valence == 2 and preValence == 2:\n",
    "            posiTran = posiTran + 1\n",
    "        elif valence == 3 and preValence == 3:\n",
    "            mixTran = mixTran + 1\n",
    "        elif valence == 4 and preValence == 4:\n",
    "            neuTran = neuTran + 1\n",
    "        preValence = valence\n",
    "            \n",
    "        \n",
    "  \n",
    "#     if emptyTran is not 0:\n",
    "#         emptyTran = emptyTran + 1\n",
    "#     if negaTran is not 0:\n",
    "#         negaTran = negaTran + 1\n",
    "#     if posiTran is not 0:\n",
    "#         posiTran = posiTran + 1\n",
    "#     if mixTran is not 0:\n",
    "#         mixTran = mixTran + 1\n",
    "\n",
    "print(emptyTran)\n",
    "print(negaTran)\n",
    "print(posiTran)\n",
    "print(mixTran)\n",
    "print(neuTran)\n",
    "            "
   ]
  },
  {
   "cell_type": "code",
   "execution_count": null,
   "metadata": {
    "collapsed": true
   },
   "outputs": [],
   "source": []
  },
  {
   "cell_type": "code",
   "execution_count": null,
   "metadata": {
    "collapsed": true
   },
   "outputs": [],
   "source": []
  },
  {
   "cell_type": "code",
   "execution_count": null,
   "metadata": {
    "collapsed": true
   },
   "outputs": [],
   "source": []
  },
  {
   "cell_type": "code",
   "execution_count": null,
   "metadata": {
    "collapsed": true
   },
   "outputs": [],
   "source": []
  },
  {
   "cell_type": "code",
   "execution_count": null,
   "metadata": {
    "collapsed": true
   },
   "outputs": [],
   "source": []
  },
  {
   "cell_type": "code",
   "execution_count": null,
   "metadata": {
    "collapsed": true
   },
   "outputs": [],
   "source": []
  },
  {
   "cell_type": "code",
   "execution_count": null,
   "metadata": {
    "collapsed": true
   },
   "outputs": [],
   "source": []
  },
  {
   "cell_type": "code",
   "execution_count": null,
   "metadata": {
    "collapsed": true
   },
   "outputs": [],
   "source": []
  }
 ],
 "metadata": {
  "kernelspec": {
   "display_name": "Python 3",
   "language": "python",
   "name": "python3"
  },
  "language_info": {
   "codemirror_mode": {
    "name": "ipython",
    "version": 3
   },
   "file_extension": ".py",
   "mimetype": "text/x-python",
   "name": "python",
   "nbconvert_exporter": "python",
   "pygments_lexer": "ipython3",
   "version": "3.6.1"
  }
 },
 "nbformat": 4,
 "nbformat_minor": 2
}
