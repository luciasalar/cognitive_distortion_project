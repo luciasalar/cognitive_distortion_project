{
 "cells": [
  {
   "cell_type": "code",
   "execution_count": 1,
   "metadata": {},
   "outputs": [
    {
     "name": "stderr",
     "output_type": "stream",
     "text": [
      "/home/lucia/anaconda3/lib/python3.6/site-packages/statsmodels/compat/pandas.py:56: FutureWarning: The pandas.core.datetools module is deprecated and will be removed in a future version. Please use the pandas.tseries module instead.\n",
      "  from pandas.core import datetools\n"
     ]
    }
   ],
   "source": [
    "import pandas as pd\n",
    "import numpy as np\n",
    "import statsmodels.api as sm\n",
    "import csv\n",
    "from datetime import datetime"
   ]
  },
  {
   "cell_type": "code",
   "execution_count": 35,
   "metadata": {},
   "outputs": [
    {
     "data": {
      "text/plain": [
       "(4099, 6)"
      ]
     },
     "execution_count": 35,
     "metadata": {},
     "output_type": "execute_result"
    }
   ],
   "source": [
    "time = pd.read_csv('../important_data/twoM_newLabels.csv')\n",
    "ids = pd.read_csv('../important_data/Id80PerRetained.csv')\n",
    "time  = time[['text','id','negative_ny','userid','time','time_diff']]\n",
    "time.shape"
   ]
  },
  {
   "cell_type": "code",
   "execution_count": 36,
   "metadata": {},
   "outputs": [
    {
     "data": {
      "text/plain": [
       "(4086, 6)"
      ]
     },
     "execution_count": 36,
     "metadata": {},
     "output_type": "execute_result"
    }
   ],
   "source": [
    "ids2 = ids[['userid']]\n",
    "time = pd.merge(ids2, time, how = 'left', on = 'userid' )\n",
    "time.shape"
   ]
  },
  {
   "cell_type": "code",
   "execution_count": 37,
   "metadata": {},
   "outputs": [
    {
     "data": {
      "text/html": [
       "<div>\n",
       "<style scoped>\n",
       "    .dataframe tbody tr th:only-of-type {\n",
       "        vertical-align: middle;\n",
       "    }\n",
       "\n",
       "    .dataframe tbody tr th {\n",
       "        vertical-align: top;\n",
       "    }\n",
       "\n",
       "    .dataframe thead th {\n",
       "        text-align: right;\n",
       "    }\n",
       "</style>\n",
       "<table border=\"1\" class=\"dataframe\">\n",
       "  <thead>\n",
       "    <tr style=\"text-align: right;\">\n",
       "      <th></th>\n",
       "      <th>userid</th>\n",
       "      <th>text</th>\n",
       "      <th>id</th>\n",
       "      <th>negative_ny</th>\n",
       "      <th>time</th>\n",
       "      <th>time_diff</th>\n",
       "    </tr>\n",
       "  </thead>\n",
       "  <tbody>\n",
       "    <tr>\n",
       "      <th>1</th>\n",
       "      <td>009d96a823b6f6c085c092fb177491f6</td>\n",
       "      <td>In honor of Mother's Day, we are trying to see...</td>\n",
       "      <td>948</td>\n",
       "      <td>4</td>\n",
       "      <td>05/05/2011</td>\n",
       "      <td>7</td>\n",
       "    </tr>\n",
       "    <tr>\n",
       "      <th>2</th>\n",
       "      <td>009d96a823b6f6c085c092fb177491f6</td>\n",
       "      <td>What would your liqour do? If it could, it wou...</td>\n",
       "      <td>949</td>\n",
       "      <td>2</td>\n",
       "      <td>05/05/2011</td>\n",
       "      <td>7</td>\n",
       "    </tr>\n",
       "    <tr>\n",
       "      <th>3</th>\n",
       "      <td>009d96a823b6f6c085c092fb177491f6</td>\n",
       "      <td>War is about who's left not who's right.... be...</td>\n",
       "      <td>946</td>\n",
       "      <td>2</td>\n",
       "      <td>04/05/2011</td>\n",
       "      <td>8</td>\n",
       "    </tr>\n",
       "    <tr>\n",
       "      <th>4</th>\n",
       "      <td>009d96a823b6f6c085c092fb177491f6</td>\n",
       "      <td>Loving the fact my babie made me breakfast mmm...</td>\n",
       "      <td>942</td>\n",
       "      <td>2</td>\n",
       "      <td>01/05/2011</td>\n",
       "      <td>11</td>\n",
       "    </tr>\n",
       "  </tbody>\n",
       "</table>\n",
       "</div>"
      ],
      "text/plain": [
       "                             userid  \\\n",
       "1  009d96a823b6f6c085c092fb177491f6   \n",
       "2  009d96a823b6f6c085c092fb177491f6   \n",
       "3  009d96a823b6f6c085c092fb177491f6   \n",
       "4  009d96a823b6f6c085c092fb177491f6   \n",
       "\n",
       "                                                text   id  negative_ny  \\\n",
       "1  In honor of Mother's Day, we are trying to see...  948            4   \n",
       "2  What would your liqour do? If it could, it wou...  949            2   \n",
       "3  War is about who's left not who's right.... be...  946            2   \n",
       "4  Loving the fact my babie made me breakfast mmm...  942            2   \n",
       "\n",
       "         time  time_diff  \n",
       "1  05/05/2011          7  \n",
       "2  05/05/2011          7  \n",
       "3  04/05/2011          8  \n",
       "4  01/05/2011         11  "
      ]
     },
     "execution_count": 37,
     "metadata": {},
     "output_type": "execute_result"
    }
   ],
   "source": [
    "#select date\n",
    "time['time'] = time['time'].apply(lambda x: x.split()[0])\n",
    "time[1:5]"
   ]
  },
  {
   "cell_type": "code",
   "execution_count": 38,
   "metadata": {},
   "outputs": [
    {
     "data": {
      "text/plain": [
       "1   2011-05-05\n",
       "2   2011-05-05\n",
       "3   2011-05-04\n",
       "4   2011-05-01\n",
       "5   2011-04-28\n",
       "6   2011-04-25\n",
       "7   2011-04-20\n",
       "8   2011-04-20\n",
       "9   2011-04-19\n",
       "Name: time, dtype: datetime64[ns]"
      ]
     },
     "execution_count": 38,
     "metadata": {},
     "output_type": "execute_result"
    }
   ],
   "source": [
    "#convert to time series\n",
    "# time['time'] = time['time'].apply(lambda x: parser.parse(x))\n",
    "# time['time'] = time['time'].apply(lambda x: datetime.strptime(x, '%d %b %Y'))\n",
    "time['time'] = time['time'].apply(lambda x: datetime.strptime(x, '%d/%m/%Y'))\n",
    "time['time'][1:10]"
   ]
  },
  {
   "cell_type": "code",
   "execution_count": 39,
   "metadata": {},
   "outputs": [
    {
     "data": {
      "text/html": [
       "<div>\n",
       "<style scoped>\n",
       "    .dataframe tbody tr th:only-of-type {\n",
       "        vertical-align: middle;\n",
       "    }\n",
       "\n",
       "    .dataframe tbody tr th {\n",
       "        vertical-align: top;\n",
       "    }\n",
       "\n",
       "    .dataframe thead th {\n",
       "        text-align: right;\n",
       "    }\n",
       "</style>\n",
       "<table border=\"1\" class=\"dataframe\">\n",
       "  <thead>\n",
       "    <tr style=\"text-align: right;\">\n",
       "      <th></th>\n",
       "      <th>userid</th>\n",
       "      <th>text</th>\n",
       "      <th>id</th>\n",
       "      <th>negative_ny</th>\n",
       "      <th>time</th>\n",
       "      <th>time_diff</th>\n",
       "    </tr>\n",
       "  </thead>\n",
       "  <tbody>\n",
       "    <tr>\n",
       "      <th>4083</th>\n",
       "      <td>fbd681e79ebca2cd9509218403f23ec6</td>\n",
       "      <td>Happy birthday Giancarlo!!!!!!!</td>\n",
       "      <td>4105</td>\n",
       "      <td>2</td>\n",
       "      <td>2010-12-20</td>\n",
       "      <td>57</td>\n",
       "    </tr>\n",
       "    <tr>\n",
       "      <th>4084</th>\n",
       "      <td>fbd681e79ebca2cd9509218403f23ec6</td>\n",
       "      <td>I want a Christmas tree, I want a Christmas tr...</td>\n",
       "      <td>4106</td>\n",
       "      <td>2</td>\n",
       "      <td>2010-12-20</td>\n",
       "      <td>57</td>\n",
       "    </tr>\n",
       "    <tr>\n",
       "      <th>4082</th>\n",
       "      <td>fbd681e79ebca2cd9509218403f23ec6</td>\n",
       "      <td>SHOOTAH!</td>\n",
       "      <td>4107</td>\n",
       "      <td>2</td>\n",
       "      <td>2010-12-22</td>\n",
       "      <td>55</td>\n",
       "    </tr>\n",
       "    <tr>\n",
       "      <th>4081</th>\n",
       "      <td>fbd681e79ebca2cd9509218403f23ec6</td>\n",
       "      <td>(oh, you're making me live) ... Oh, you're the...</td>\n",
       "      <td>276</td>\n",
       "      <td>2</td>\n",
       "      <td>2010-12-23</td>\n",
       "      <td>54</td>\n",
       "    </tr>\n",
       "    <tr>\n",
       "      <th>4080</th>\n",
       "      <td>fbd681e79ebca2cd9509218403f23ec6</td>\n",
       "      <td>?? ? /My ears like to talk</td>\n",
       "      <td>4110</td>\n",
       "      <td>4</td>\n",
       "      <td>2010-12-24</td>\n",
       "      <td>53</td>\n",
       "    </tr>\n",
       "    <tr>\n",
       "      <th>4079</th>\n",
       "      <td>fbd681e79ebca2cd9509218403f23ec6</td>\n",
       "      <td>DIVINE LITURGY THIS SUNDAY!!!!! YES YES YES YE...</td>\n",
       "      <td>4109</td>\n",
       "      <td>2</td>\n",
       "      <td>2010-12-24</td>\n",
       "      <td>53</td>\n",
       "    </tr>\n",
       "    <tr>\n",
       "      <th>4078</th>\n",
       "      <td>fbd681e79ebca2cd9509218403f23ec6</td>\n",
       "      <td>keeps stealing her little brother's presents...</td>\n",
       "      <td>4111</td>\n",
       "      <td>4</td>\n",
       "      <td>2010-12-25</td>\n",
       "      <td>52</td>\n",
       "    </tr>\n",
       "    <tr>\n",
       "      <th>4077</th>\n",
       "      <td>fbd681e79ebca2cd9509218403f23ec6</td>\n",
       "      <td>IT'S SNOWING!!!!!!! Finally!</td>\n",
       "      <td>4112</td>\n",
       "      <td>2</td>\n",
       "      <td>2010-12-26</td>\n",
       "      <td>51</td>\n",
       "    </tr>\n",
       "    <tr>\n",
       "      <th>4076</th>\n",
       "      <td>fbd681e79ebca2cd9509218403f23ec6</td>\n",
       "      <td>had a furious battle with a 6-foot snowdrift f...</td>\n",
       "      <td>4113</td>\n",
       "      <td>2</td>\n",
       "      <td>2010-12-27</td>\n",
       "      <td>50</td>\n",
       "    </tr>\n",
       "  </tbody>\n",
       "</table>\n",
       "</div>"
      ],
      "text/plain": [
       "                                userid  \\\n",
       "4083  fbd681e79ebca2cd9509218403f23ec6   \n",
       "4084  fbd681e79ebca2cd9509218403f23ec6   \n",
       "4082  fbd681e79ebca2cd9509218403f23ec6   \n",
       "4081  fbd681e79ebca2cd9509218403f23ec6   \n",
       "4080  fbd681e79ebca2cd9509218403f23ec6   \n",
       "4079  fbd681e79ebca2cd9509218403f23ec6   \n",
       "4078  fbd681e79ebca2cd9509218403f23ec6   \n",
       "4077  fbd681e79ebca2cd9509218403f23ec6   \n",
       "4076  fbd681e79ebca2cd9509218403f23ec6   \n",
       "\n",
       "                                                   text    id  negative_ny  \\\n",
       "4083                    Happy birthday Giancarlo!!!!!!!  4105            2   \n",
       "4084  I want a Christmas tree, I want a Christmas tr...  4106            2   \n",
       "4082                                           SHOOTAH!  4107            2   \n",
       "4081  (oh, you're making me live) ... Oh, you're the...   276            2   \n",
       "4080                         ?? ? /My ears like to talk  4110            4   \n",
       "4079  DIVINE LITURGY THIS SUNDAY!!!!! YES YES YES YE...  4109            2   \n",
       "4078    keeps stealing her little brother's presents...  4111            4   \n",
       "4077                       IT'S SNOWING!!!!!!! Finally!  4112            2   \n",
       "4076  had a furious battle with a 6-foot snowdrift f...  4113            2   \n",
       "\n",
       "           time  time_diff  \n",
       "4083 2010-12-20         57  \n",
       "4084 2010-12-20         57  \n",
       "4082 2010-12-22         55  \n",
       "4081 2010-12-23         54  \n",
       "4080 2010-12-24         53  \n",
       "4079 2010-12-24         53  \n",
       "4078 2010-12-25         52  \n",
       "4077 2010-12-26         51  \n",
       "4076 2010-12-27         50  "
      ]
     },
     "execution_count": 39,
     "metadata": {},
     "output_type": "execute_result"
    }
   ],
   "source": [
    "#sort values according to userid, time and valence\n",
    "time = time.sort_values(by=['userid','time_diff','negative_ny'],  ascending=False)\n",
    "time[1:10]"
   ]
  },
  {
   "cell_type": "code",
   "execution_count": 40,
   "metadata": {},
   "outputs": [
    {
     "data": {
      "text/plain": [
       "(74, 2)"
      ]
     },
     "execution_count": 40,
     "metadata": {},
     "output_type": "execute_result"
    }
   ],
   "source": [
    "#count_post = time.groupby(['userid']).size().reset_index(name='counts')\n",
    "# #remove users with less than 10 post, they are acutally users who have 80% of their foreign language posts removed \n",
    "#clean = count_post.loc[count_post['counts'] >= 16, ]\n",
    "#clean.shape"
   ]
  },
  {
   "cell_type": "markdown",
   "metadata": {},
   "source": [
    "Create user vector"
   ]
  },
  {
   "cell_type": "code",
   "execution_count": 52,
   "metadata": {
    "collapsed": true
   },
   "outputs": [],
   "source": [
    "def user_obj(dfUserid):\n",
    "    users = {}\n",
    "    for user in dfUserid:\n",
    "       # print(user)\n",
    "        if user not in users:\n",
    "            users[user] = [-1]*60 \n",
    "    return users\n",
    "\n",
    "#get the which valence is dominate in one day\n",
    "def getValenceFromMultipleDays(curdayPosts):\n",
    "    positive_count = 0\n",
    "    neg_count = 0\n",
    "    neu_count = 0\n",
    "    mix_count = 0\n",
    "    for post in curdayPosts:\n",
    "        if post == 1:\n",
    "            neg_count += 1\n",
    "        elif post == 3:\n",
    "            mix_count += 1\n",
    "        elif post == 4:\n",
    "            neu_count += 1\n",
    "        else:\n",
    "            positive_count +=1\n",
    "#     print(mix_count < positive_count or mix_count < neg_count)\n",
    "#     print('neg_count{}, pos_count{}, neu_count{}, mix_count{}'. format(neg_count,positive_count,neu_count,mix_count))\n",
    "    if (neg_count !=0 and (neg_count > positive_count or neg_count > neu_count or neg_count > mix_count )):\n",
    "        return 1\n",
    "    #give more weights to mix\n",
    "    if (mix_count !=0 and (mix_count >= positive_count or mix_count >= neg_count or neg_count == positive_count)):\n",
    "        return 3\n",
    "    #here we give positive emotions more weights\n",
    "    if (positive_count !=0 and (positive_count > neg_count or positive_count > neu_count or positive_count > mix_count)):\n",
    "        return 2\n",
    "    elif (neu_count !=0 and (neu_count >= positive_count or neu_count >= neg_count or neu_count > mix_count)):\n",
    "        return 4\n",
    "    else:\n",
    "        return -1\n",
    "\n",
    "def getValenceVector(userObject, df):\n",
    "    preDay = None\n",
    "    preValence = None\n",
    "    curdayPosts = []\n",
    "    for valence, day, user in zip(df['negative_ny'], df['time_diff'], df['userid']):\n",
    "\n",
    "        posVal = 0\n",
    "        if day == preDay:# and valence != preValence:\n",
    "            curdayPosts.append(valence)\n",
    "\n",
    "        else:\n",
    "            dayvalence = getValenceFromMultipleDays(curdayPosts)\n",
    "            curdayPosts = [valence]\n",
    "            userObject[user][int(day)-1] = dayvalence\n",
    "    return userObject\n"
   ]
  },
  {
   "cell_type": "code",
   "execution_count": 53,
   "metadata": {
    "collapsed": true
   },
   "outputs": [],
   "source": [
    "users = user_obj(time['userid'])\n",
    "users2 = getValenceVector(users, time)"
   ]
  },
  {
   "cell_type": "code",
   "execution_count": 69,
   "metadata": {},
   "outputs": [
    {
     "name": "stdout",
     "output_type": "stream",
     "text": [
      "user fbd681e79ebca2cd9509218403f23ec6 has 31 empty days, 7 negative days, 19 positive days 3, neutral days and mix days 0\n",
      "user f8708568eff1535c85247b28dc126f9b has 1 empty days, 14 negative days, 38 positive days 6, neutral days and mix days 1\n",
      "user f49956142aab2ad74decfd49a103c2f1 has 29 empty days, 9 negative days, 13 positive days 9, neutral days and mix days 0\n",
      "user f358b75c71d85c91ec0452c6114e3b15 has 28 empty days, 7 negative days, 21 positive days 3, neutral days and mix days 1\n",
      "user ec3dc451b8a811f05ace158a0d76e32e has 43 empty days, 10 negative days, 2 positive days 5, neutral days and mix days 0\n",
      "user eaeabcfe25866f0455d349bae2450d88 has 27 empty days, 8 negative days, 20 positive days 5, neutral days and mix days 0\n",
      "user e9970fe8848e9505b52d414d81611de8 has 40 empty days, 3 negative days, 11 positive days 5, neutral days and mix days 1\n",
      "user e076953cd3fcf8927b8f21574c0890f3 has 27 empty days, 7 negative days, 15 positive days 10, neutral days and mix days 1\n",
      "user dcbe08425f5edef5e5c1053f21e83640 has 40 empty days, 4 negative days, 10 positive days 6, neutral days and mix days 0\n",
      "user db7f1b0130b2138e13b7bbca9cc63823 has 28 empty days, 10 negative days, 13 positive days 9, neutral days and mix days 0\n",
      "user d5380466e18422d7b2c2d54d57cbbde2 has 36 empty days, 9 negative days, 9 positive days 5, neutral days and mix days 1\n",
      "user cfb021cfbff46ffdb75c7dcafe7c2087 has 23 empty days, 11 negative days, 13 positive days 12, neutral days and mix days 1\n",
      "user cea00424ced413c108d878b1a14f3316 has 29 empty days, 6 negative days, 15 positive days 10, neutral days and mix days 0\n",
      "user cd86d1e6d68c3770eaec0db419dceb2f has 15 empty days, 18 negative days, 16 positive days 10, neutral days and mix days 1\n",
      "user c70b15854118907c8f0a234e2ba44bbc has 22 empty days, 9 negative days, 26 positive days 2, neutral days and mix days 1\n",
      "user c0289bdb4cd4eda90653b2c84af61e03 has 0 empty days, 15 negative days, 44 positive days 0, neutral days and mix days 1\n",
      "user b6f1257ff213585723c66e253d2b92f7 has 42 empty days, 6 negative days, 6 positive days 6, neutral days and mix days 0\n",
      "user b5efdb17945bc5ac2504e6c0c70f41b1 has 26 empty days, 17 negative days, 12 positive days 5, neutral days and mix days 0\n",
      "user b15cf300b5693210682e36cfe5f9789b has 30 empty days, 13 negative days, 12 positive days 5, neutral days and mix days 0\n",
      "user b121d90e407cd597da17491f36e7b2c5 has 42 empty days, 7 negative days, 8 positive days 2, neutral days and mix days 1\n",
      "user aed86a3085a364f5484679649f064467 has 30 empty days, 5 negative days, 19 positive days 6, neutral days and mix days 0\n",
      "user a8b2c778af65ca2c46306554f338cacb has 32 empty days, 4 negative days, 21 positive days 3, neutral days and mix days 0\n",
      "user a7a3af125074cb806a200f51ea7e10bf has 37 empty days, 0 negative days, 22 positive days 1, neutral days and mix days 0\n",
      "user a504bfd98bdc8e7a61edcfe8c4e2a801 has 24 empty days, 18 negative days, 12 positive days 6, neutral days and mix days 0\n",
      "user 968157017daec34ee86050fe9bd72293 has 21 empty days, 10 negative days, 20 positive days 9, neutral days and mix days 0\n",
      "user 9138a4af7fa7a5c5bf363d867ff6c56c has 39 empty days, 3 negative days, 17 positive days 1, neutral days and mix days 0\n",
      "user 8ff6192bbbb717c36097b33e244d91de has 14 empty days, 20 negative days, 13 positive days 13, neutral days and mix days 0\n",
      "user 8c393982479748c5a53acaa7a3717c71 has 4 empty days, 10 negative days, 37 positive days 3, neutral days and mix days 6\n",
      "user 8b6ceafaf2ea6bd34f26ff463156363c has 39 empty days, 7 negative days, 12 positive days 2, neutral days and mix days 0\n",
      "user 8a1c6e4eb35abbf1ae252628fca46cdb has 38 empty days, 7 negative days, 4 positive days 11, neutral days and mix days 0\n",
      "user 87ab3ba2cf5dd6ef4f4807a754dd968b has 41 empty days, 10 negative days, 0 positive days 9, neutral days and mix days 0\n",
      "user 83b42f70e17daecbc41b785c2b9ce869 has 36 empty days, 5 negative days, 15 positive days 4, neutral days and mix days 0\n",
      "user 82e932005d8c94bb93bcb54fa19f421c has 2 empty days, 11 negative days, 37 positive days 8, neutral days and mix days 2\n",
      "user 7e450a79b8bacd420727a5dd9305f8d8 has 27 empty days, 13 negative days, 15 positive days 5, neutral days and mix days 0\n",
      "user 748b929276449add1cb3bb5985e85fa1 has 28 empty days, 8 negative days, 19 positive days 5, neutral days and mix days 0\n",
      "user 7175a46eaf9d0a6e00c562bfaa614360 has 27 empty days, 7 negative days, 15 positive days 9, neutral days and mix days 2\n",
      "user 6665bcd5e5324938fdbb5ea467fb5e3f has 40 empty days, 5 negative days, 13 positive days 2, neutral days and mix days 0\n",
      "user 66495ec54feb9e2399db05a67a80f2c6 has 37 empty days, 3 negative days, 19 positive days 0, neutral days and mix days 1\n",
      "user 64463aa93c9145fa0724a9e89ea7be2a has 42 empty days, 5 negative days, 11 positive days 0, neutral days and mix days 2\n",
      "user 6262f9ea246e00408561aa9a73c49175 has 7 empty days, 3 negative days, 47 positive days 3, neutral days and mix days 0\n",
      "user 61e7f6145fd03d709cabbde3faf33412 has 29 empty days, 12 negative days, 15 positive days 3, neutral days and mix days 1\n",
      "user 5fcf46eb6809a240af3ab9bcb4f2b92f has 33 empty days, 10 negative days, 8 positive days 9, neutral days and mix days 0\n",
      "user 5f86969fe97dd82aba8a683fe7ce6460 has 27 empty days, 3 negative days, 27 positive days 3, neutral days and mix days 0\n",
      "user 5cc136477bfe3fcfe809dc451e4243ef has 22 empty days, 12 negative days, 12 positive days 14, neutral days and mix days 0\n",
      "user 5c31d7d80e78643cd5289acec0561d77 has 43 empty days, 6 negative days, 6 positive days 5, neutral days and mix days 0\n",
      "user 5b1eb32579450829ec8faab4d3472ffb has 38 empty days, 4 negative days, 10 positive days 5, neutral days and mix days 3\n",
      "user 57118d9a71e91b6568471ffbd7077415 has 42 empty days, 4 negative days, 11 positive days 3, neutral days and mix days 0\n",
      "user 55a72284594fdda49b22a6610b9b91d6 has 16 empty days, 12 negative days, 17 positive days 14, neutral days and mix days 1\n",
      "user 4d7ae0617845c6b30eb85b55a991f4c5 has 35 empty days, 10 negative days, 11 positive days 2, neutral days and mix days 2\n",
      "user 49fb9fce8f4dc022318b8cd432aad8b6 has 35 empty days, 7 negative days, 18 positive days 0, neutral days and mix days 0\n",
      "user 4908adae6cf09defb838925defcc5e61 has 13 empty days, 10 negative days, 30 positive days 6, neutral days and mix days 1\n",
      "user 4764518d32334248e6ebbf681a18fd0c has 12 empty days, 15 negative days, 20 positive days 12, neutral days and mix days 1\n",
      "user 41ef345410ba421410cb4d09c331aec3 has 35 empty days, 7 negative days, 10 positive days 8, neutral days and mix days 0\n",
      "user 4104c0b8700d519d1661c8a59b065363 has 35 empty days, 9 negative days, 8 positive days 8, neutral days and mix days 0\n",
      "user 3e6f69fc89da71e8237c717ac218677b has 42 empty days, 9 negative days, 7 positive days 2, neutral days and mix days 0\n",
      "user 3ac58ad39d81acfe169aadc4815effe6 has 20 empty days, 16 negative days, 16 positive days 8, neutral days and mix days 0\n",
      "user 39b2af957c2488970cb89c161b6bf94e has 1 empty days, 14 negative days, 35 positive days 8, neutral days and mix days 2\n",
      "user 30723e9e5ecfe6d20e5e67d1163e3965 has 22 empty days, 2 negative days, 22 positive days 14, neutral days and mix days 0\n",
      "user 2fba0f9dccc84f3516d8b553426af527 has 30 empty days, 17 negative days, 11 positive days 1, neutral days and mix days 1\n",
      "user 2dca898dfbdae6716a587adbfd99c542 has 24 empty days, 15 negative days, 12 positive days 8, neutral days and mix days 1\n",
      "user 2a9b90b41e9399bb331fef2582f657c3 has 2 empty days, 39 negative days, 15 positive days 4, neutral days and mix days 0\n",
      "user 29cda473b52e1c75fbfe958ed3aec565 has 34 empty days, 3 negative days, 14 positive days 7, neutral days and mix days 2\n",
      "user 2549774d68d7ccbcba069afb45c7e237 has 22 empty days, 12 negative days, 17 positive days 9, neutral days and mix days 0\n",
      "user 23cbbe03a89344129e1a6d8419a66d23 has 33 empty days, 3 negative days, 20 positive days 3, neutral days and mix days 1\n",
      "user 1e84bfe1c9bbd549913aad1bc57c8878 has 28 empty days, 4 negative days, 18 positive days 9, neutral days and mix days 1\n",
      "user 1c1a61d11a10f9fa967f250095792db3 has 32 empty days, 7 negative days, 15 positive days 6, neutral days and mix days 0\n",
      "user 193165601dfad67e79ef52b2caf9fd9e has 43 empty days, 6 negative days, 9 positive days 1, neutral days and mix days 1\n",
      "user 1789589a6d2bba0f09d768f8f3445be5 has 30 empty days, 13 negative days, 10 positive days 6, neutral days and mix days 1\n",
      "user 0e3fdb89c7706b13891170ab2a9017c7 has 32 empty days, 4 negative days, 20 positive days 4, neutral days and mix days 0\n",
      "user 0c5d06511ef79fba34da417e8c751fff has 38 empty days, 8 negative days, 12 positive days 2, neutral days and mix days 0\n",
      "user 0b12516100c16f779b152858619786ff has 24 empty days, 12 negative days, 21 positive days 3, neutral days and mix days 0\n",
      "user 088bf0ed841bcc366475b3975eb1b9d2 has 37 empty days, 7 negative days, 11 positive days 5, neutral days and mix days 0\n",
      "user 0724fe854bd455061ba84efecdeff469 has 36 empty days, 11 negative days, 11 positive days 2, neutral days and mix days 0\n",
      "user 009d96a823b6f6c085c092fb177491f6 has 30 empty days, 11 negative days, 12 positive days 6, neutral days and mix days 1\n"
     ]
    },
    {
     "data": {
      "text/plain": [
       "74"
      ]
     },
     "execution_count": 69,
     "metadata": {},
     "output_type": "execute_result"
    }
   ],
   "source": [
    "count = 0\n",
    "emptyD = []\n",
    "negativeD = []\n",
    "positiveD = []\n",
    "neutralD = []\n",
    "mixed = []\n",
    "for userid in users2:\n",
    "    emptyD.append(users[userid].count(-1))\n",
    "    negativeD.append(users[userid].count(1))\n",
    "    positiveD.append(users[userid].count(2))\n",
    "    neutralD.append(users[userid].count(4))\n",
    "    mixed.append(users[userid].count(3))\n",
    "    print('user {} has {} empty days, {} negative days, {} positive days {}, neutral days and mix days {}'.format(userid, users[userid].count(-1), users[userid].count(1), users[userid].count(2), users[userid].count(4), users[userid].count(3)))\n",
    "    count += 1\n",
    "count\n"
   ]
  },
  {
   "cell_type": "markdown",
   "metadata": {},
   "source": [
    "statistics"
   ]
  },
  {
   "cell_type": "code",
   "execution_count": 77,
   "metadata": {},
   "outputs": [
    {
     "data": {
      "text/html": [
       "<div>\n",
       "<style scoped>\n",
       "    .dataframe tbody tr th:only-of-type {\n",
       "        vertical-align: middle;\n",
       "    }\n",
       "\n",
       "    .dataframe tbody tr th {\n",
       "        vertical-align: top;\n",
       "    }\n",
       "\n",
       "    .dataframe thead th {\n",
       "        text-align: right;\n",
       "    }\n",
       "</style>\n",
       "<table border=\"1\" class=\"dataframe\">\n",
       "  <thead>\n",
       "    <tr style=\"text-align: right;\">\n",
       "      <th></th>\n",
       "      <th>EmptyDays</th>\n",
       "      <th>NegativeDays</th>\n",
       "      <th>PositiveDays</th>\n",
       "      <th>NeutralDays</th>\n",
       "      <th>MixedDays</th>\n",
       "    </tr>\n",
       "  </thead>\n",
       "  <tbody>\n",
       "    <tr>\n",
       "      <th>1</th>\n",
       "      <td>1</td>\n",
       "      <td>14</td>\n",
       "      <td>38</td>\n",
       "      <td>6</td>\n",
       "      <td>1</td>\n",
       "    </tr>\n",
       "    <tr>\n",
       "      <th>2</th>\n",
       "      <td>29</td>\n",
       "      <td>9</td>\n",
       "      <td>13</td>\n",
       "      <td>9</td>\n",
       "      <td>0</td>\n",
       "    </tr>\n",
       "    <tr>\n",
       "      <th>3</th>\n",
       "      <td>28</td>\n",
       "      <td>7</td>\n",
       "      <td>21</td>\n",
       "      <td>3</td>\n",
       "      <td>1</td>\n",
       "    </tr>\n",
       "    <tr>\n",
       "      <th>4</th>\n",
       "      <td>43</td>\n",
       "      <td>10</td>\n",
       "      <td>2</td>\n",
       "      <td>5</td>\n",
       "      <td>0</td>\n",
       "    </tr>\n",
       "  </tbody>\n",
       "</table>\n",
       "</div>"
      ],
      "text/plain": [
       "   EmptyDays  NegativeDays  PositiveDays  NeutralDays  MixedDays\n",
       "1          1            14            38            6          1\n",
       "2         29             9            13            9          0\n",
       "3         28             7            21            3          1\n",
       "4         43            10             2            5          0"
      ]
     },
     "execution_count": 77,
     "metadata": {},
     "output_type": "execute_result"
    }
   ],
   "source": [
    "df = pd.DataFrame(np.array(emptyD).reshape(74,1), columns=['EmptyDays'])\n",
    "df['NegativeDays'] = negativeD\n",
    "df['PositiveDays'] = positiveD\n",
    "df['NeutralDays'] = neutralD\n",
    "df['MixedDays'] = mixed\n",
    "df[1:5]"
   ]
  },
  {
   "cell_type": "code",
   "execution_count": 78,
   "metadata": {},
   "outputs": [
    {
     "data": {
      "text/html": [
       "<div>\n",
       "<style scoped>\n",
       "    .dataframe tbody tr th:only-of-type {\n",
       "        vertical-align: middle;\n",
       "    }\n",
       "\n",
       "    .dataframe tbody tr th {\n",
       "        vertical-align: top;\n",
       "    }\n",
       "\n",
       "    .dataframe thead th {\n",
       "        text-align: right;\n",
       "    }\n",
       "</style>\n",
       "<table border=\"1\" class=\"dataframe\">\n",
       "  <thead>\n",
       "    <tr style=\"text-align: right;\">\n",
       "      <th></th>\n",
       "      <th>EmptyDays</th>\n",
       "      <th>NegativeDays</th>\n",
       "      <th>PositiveDays</th>\n",
       "      <th>NeutralDays</th>\n",
       "      <th>MixedDays</th>\n",
       "    </tr>\n",
       "  </thead>\n",
       "  <tbody>\n",
       "    <tr>\n",
       "      <th>count</th>\n",
       "      <td>74.000000</td>\n",
       "      <td>74.000000</td>\n",
       "      <td>74.000000</td>\n",
       "      <td>74.000000</td>\n",
       "      <td>74.000000</td>\n",
       "    </tr>\n",
       "    <tr>\n",
       "      <th>mean</th>\n",
       "      <td>28.364865</td>\n",
       "      <td>9.162162</td>\n",
       "      <td>16.243243</td>\n",
       "      <td>5.648649</td>\n",
       "      <td>0.581081</td>\n",
       "    </tr>\n",
       "    <tr>\n",
       "      <th>std</th>\n",
       "      <td>11.422849</td>\n",
       "      <td>5.627786</td>\n",
       "      <td>8.936321</td>\n",
       "      <td>3.624243</td>\n",
       "      <td>0.950944</td>\n",
       "    </tr>\n",
       "    <tr>\n",
       "      <th>min</th>\n",
       "      <td>0.000000</td>\n",
       "      <td>0.000000</td>\n",
       "      <td>0.000000</td>\n",
       "      <td>0.000000</td>\n",
       "      <td>0.000000</td>\n",
       "    </tr>\n",
       "    <tr>\n",
       "      <th>25%</th>\n",
       "      <td>23.250000</td>\n",
       "      <td>5.250000</td>\n",
       "      <td>11.000000</td>\n",
       "      <td>3.000000</td>\n",
       "      <td>0.000000</td>\n",
       "    </tr>\n",
       "    <tr>\n",
       "      <th>50%</th>\n",
       "      <td>30.000000</td>\n",
       "      <td>8.500000</td>\n",
       "      <td>15.000000</td>\n",
       "      <td>5.000000</td>\n",
       "      <td>0.000000</td>\n",
       "    </tr>\n",
       "    <tr>\n",
       "      <th>75%</th>\n",
       "      <td>37.000000</td>\n",
       "      <td>12.000000</td>\n",
       "      <td>19.750000</td>\n",
       "      <td>8.000000</td>\n",
       "      <td>1.000000</td>\n",
       "    </tr>\n",
       "    <tr>\n",
       "      <th>max</th>\n",
       "      <td>43.000000</td>\n",
       "      <td>39.000000</td>\n",
       "      <td>47.000000</td>\n",
       "      <td>14.000000</td>\n",
       "      <td>6.000000</td>\n",
       "    </tr>\n",
       "  </tbody>\n",
       "</table>\n",
       "</div>"
      ],
      "text/plain": [
       "       EmptyDays  NegativeDays  PositiveDays  NeutralDays  MixedDays\n",
       "count  74.000000     74.000000     74.000000    74.000000  74.000000\n",
       "mean   28.364865      9.162162     16.243243     5.648649   0.581081\n",
       "std    11.422849      5.627786      8.936321     3.624243   0.950944\n",
       "min     0.000000      0.000000      0.000000     0.000000   0.000000\n",
       "25%    23.250000      5.250000     11.000000     3.000000   0.000000\n",
       "50%    30.000000      8.500000     15.000000     5.000000   0.000000\n",
       "75%    37.000000     12.000000     19.750000     8.000000   1.000000\n",
       "max    43.000000     39.000000     47.000000    14.000000   6.000000"
      ]
     },
     "execution_count": 78,
     "metadata": {},
     "output_type": "execute_result"
    }
   ],
   "source": [
    "df.describe()"
   ]
  },
  {
   "cell_type": "markdown",
   "metadata": {},
   "source": [
    "Now we write the valence vector as csv file "
   ]
  },
  {
   "cell_type": "code",
   "execution_count": 1069,
   "metadata": {
    "collapsed": true
   },
   "outputs": [],
   "source": [
    "#write result as csv\n",
    "#header = ['userid','vector']\n",
    "with open('../important_data/ValenceVec_Norm_Clean.csv','w') as csv_file:\n",
    "    writer = csv.writer(csv_file)\n",
    "   # writer.writerow(i for i in header)\n",
    "    writer.writerow(users.keys())\n",
    "    for row in zip(*users.values()):\n",
    "        writer.writerow(list(row))"
   ]
  },
  {
   "cell_type": "code",
   "execution_count": 1070,
   "metadata": {},
   "outputs": [
    {
     "data": {
      "text/html": [
       "<div>\n",
       "<style>\n",
       "    .dataframe thead tr:only-child th {\n",
       "        text-align: right;\n",
       "    }\n",
       "\n",
       "    .dataframe thead th {\n",
       "        text-align: left;\n",
       "    }\n",
       "\n",
       "    .dataframe tbody tr th {\n",
       "        vertical-align: top;\n",
       "    }\n",
       "</style>\n",
       "<table border=\"1\" class=\"dataframe\">\n",
       "  <thead>\n",
       "    <tr style=\"text-align: right;\">\n",
       "      <th></th>\n",
       "      <th>fd3e8af4c8c61729334dae47c3cddd51</th>\n",
       "      <th>fbd681e79ebca2cd9509218403f23ec6</th>\n",
       "      <th>f8708568eff1535c85247b28dc126f9b</th>\n",
       "      <th>f49956142aab2ad74decfd49a103c2f1</th>\n",
       "      <th>f358b75c71d85c91ec0452c6114e3b15</th>\n",
       "      <th>ec3dc451b8a811f05ace158a0d76e32e</th>\n",
       "      <th>eaeabcfe25866f0455d349bae2450d88</th>\n",
       "      <th>e9970fe8848e9505b52d414d81611de8</th>\n",
       "      <th>e076953cd3fcf8927b8f21574c0890f3</th>\n",
       "      <th>dcbe08425f5edef5e5c1053f21e83640</th>\n",
       "      <th>...</th>\n",
       "      <th>1c1a61d11a10f9fa967f250095792db3</th>\n",
       "      <th>193165601dfad67e79ef52b2caf9fd9e</th>\n",
       "      <th>1789589a6d2bba0f09d768f8f3445be5</th>\n",
       "      <th>10aef9f9c929fbfcffa58b68eda20dfb</th>\n",
       "      <th>0e3fdb89c7706b13891170ab2a9017c7</th>\n",
       "      <th>0c5d06511ef79fba34da417e8c751fff</th>\n",
       "      <th>0b12516100c16f779b152858619786ff</th>\n",
       "      <th>088bf0ed841bcc366475b3975eb1b9d2</th>\n",
       "      <th>0724fe854bd455061ba84efecdeff469</th>\n",
       "      <th>009d96a823b6f6c085c092fb177491f6</th>\n",
       "    </tr>\n",
       "  </thead>\n",
       "  <tbody>\n",
       "    <tr>\n",
       "      <th>1</th>\n",
       "      <td>-1</td>\n",
       "      <td>-1</td>\n",
       "      <td>2</td>\n",
       "      <td>-1</td>\n",
       "      <td>2</td>\n",
       "      <td>1</td>\n",
       "      <td>4</td>\n",
       "      <td>-1</td>\n",
       "      <td>2</td>\n",
       "      <td>-1</td>\n",
       "      <td>...</td>\n",
       "      <td>2</td>\n",
       "      <td>-1</td>\n",
       "      <td>2</td>\n",
       "      <td>-1</td>\n",
       "      <td>1</td>\n",
       "      <td>-1</td>\n",
       "      <td>1</td>\n",
       "      <td>2</td>\n",
       "      <td>-1</td>\n",
       "      <td>-1</td>\n",
       "    </tr>\n",
       "    <tr>\n",
       "      <th>2</th>\n",
       "      <td>-1</td>\n",
       "      <td>-1</td>\n",
       "      <td>2</td>\n",
       "      <td>-1</td>\n",
       "      <td>2</td>\n",
       "      <td>1</td>\n",
       "      <td>-1</td>\n",
       "      <td>-1</td>\n",
       "      <td>-1</td>\n",
       "      <td>-1</td>\n",
       "      <td>...</td>\n",
       "      <td>1</td>\n",
       "      <td>-1</td>\n",
       "      <td>-1</td>\n",
       "      <td>-1</td>\n",
       "      <td>-1</td>\n",
       "      <td>-1</td>\n",
       "      <td>1</td>\n",
       "      <td>-1</td>\n",
       "      <td>-1</td>\n",
       "      <td>-1</td>\n",
       "    </tr>\n",
       "    <tr>\n",
       "      <th>3</th>\n",
       "      <td>-1</td>\n",
       "      <td>-1</td>\n",
       "      <td>2</td>\n",
       "      <td>2</td>\n",
       "      <td>1</td>\n",
       "      <td>4</td>\n",
       "      <td>2</td>\n",
       "      <td>-1</td>\n",
       "      <td>2</td>\n",
       "      <td>2</td>\n",
       "      <td>...</td>\n",
       "      <td>-1</td>\n",
       "      <td>-1</td>\n",
       "      <td>-1</td>\n",
       "      <td>-1</td>\n",
       "      <td>2</td>\n",
       "      <td>-1</td>\n",
       "      <td>-1</td>\n",
       "      <td>-1</td>\n",
       "      <td>2</td>\n",
       "      <td>2</td>\n",
       "    </tr>\n",
       "    <tr>\n",
       "      <th>4</th>\n",
       "      <td>-1</td>\n",
       "      <td>-1</td>\n",
       "      <td>1</td>\n",
       "      <td>1</td>\n",
       "      <td>-1</td>\n",
       "      <td>2</td>\n",
       "      <td>1</td>\n",
       "      <td>-1</td>\n",
       "      <td>2</td>\n",
       "      <td>4</td>\n",
       "      <td>...</td>\n",
       "      <td>2</td>\n",
       "      <td>2</td>\n",
       "      <td>1</td>\n",
       "      <td>-1</td>\n",
       "      <td>1</td>\n",
       "      <td>-1</td>\n",
       "      <td>1</td>\n",
       "      <td>-1</td>\n",
       "      <td>-1</td>\n",
       "      <td>-1</td>\n",
       "    </tr>\n",
       "  </tbody>\n",
       "</table>\n",
       "<p>4 rows × 77 columns</p>\n",
       "</div>"
      ],
      "text/plain": [
       "   fd3e8af4c8c61729334dae47c3cddd51  fbd681e79ebca2cd9509218403f23ec6  \\\n",
       "1                                -1                                -1   \n",
       "2                                -1                                -1   \n",
       "3                                -1                                -1   \n",
       "4                                -1                                -1   \n",
       "\n",
       "   f8708568eff1535c85247b28dc126f9b  f49956142aab2ad74decfd49a103c2f1  \\\n",
       "1                                 2                                -1   \n",
       "2                                 2                                -1   \n",
       "3                                 2                                 2   \n",
       "4                                 1                                 1   \n",
       "\n",
       "   f358b75c71d85c91ec0452c6114e3b15  ec3dc451b8a811f05ace158a0d76e32e  \\\n",
       "1                                 2                                 1   \n",
       "2                                 2                                 1   \n",
       "3                                 1                                 4   \n",
       "4                                -1                                 2   \n",
       "\n",
       "   eaeabcfe25866f0455d349bae2450d88  e9970fe8848e9505b52d414d81611de8  \\\n",
       "1                                 4                                -1   \n",
       "2                                -1                                -1   \n",
       "3                                 2                                -1   \n",
       "4                                 1                                -1   \n",
       "\n",
       "   e076953cd3fcf8927b8f21574c0890f3  dcbe08425f5edef5e5c1053f21e83640  \\\n",
       "1                                 2                                -1   \n",
       "2                                -1                                -1   \n",
       "3                                 2                                 2   \n",
       "4                                 2                                 4   \n",
       "\n",
       "                 ...                 1c1a61d11a10f9fa967f250095792db3  \\\n",
       "1                ...                                                2   \n",
       "2                ...                                                1   \n",
       "3                ...                                               -1   \n",
       "4                ...                                                2   \n",
       "\n",
       "   193165601dfad67e79ef52b2caf9fd9e  1789589a6d2bba0f09d768f8f3445be5  \\\n",
       "1                                -1                                 2   \n",
       "2                                -1                                -1   \n",
       "3                                -1                                -1   \n",
       "4                                 2                                 1   \n",
       "\n",
       "   10aef9f9c929fbfcffa58b68eda20dfb  0e3fdb89c7706b13891170ab2a9017c7  \\\n",
       "1                                -1                                 1   \n",
       "2                                -1                                -1   \n",
       "3                                -1                                 2   \n",
       "4                                -1                                 1   \n",
       "\n",
       "   0c5d06511ef79fba34da417e8c751fff  0b12516100c16f779b152858619786ff  \\\n",
       "1                                -1                                 1   \n",
       "2                                -1                                 1   \n",
       "3                                -1                                -1   \n",
       "4                                -1                                 1   \n",
       "\n",
       "   088bf0ed841bcc366475b3975eb1b9d2  0724fe854bd455061ba84efecdeff469  \\\n",
       "1                                 2                                -1   \n",
       "2                                -1                                -1   \n",
       "3                                -1                                 2   \n",
       "4                                -1                                -1   \n",
       "\n",
       "   009d96a823b6f6c085c092fb177491f6  \n",
       "1                                -1  \n",
       "2                                -1  \n",
       "3                                 2  \n",
       "4                                -1  \n",
       "\n",
       "[4 rows x 77 columns]"
      ]
     },
     "execution_count": 1070,
     "metadata": {},
     "output_type": "execute_result"
    }
   ],
   "source": [
    "valenceVec = pd.read_csv('../important_data/ValenceVec_Norm_Clean.csv')\n",
    "valenceVec[1:5]"
   ]
  },
  {
   "cell_type": "code",
   "execution_count": 1071,
   "metadata": {},
   "outputs": [
    {
     "data": {
      "text/html": [
       "<div>\n",
       "<style>\n",
       "    .dataframe thead tr:only-child th {\n",
       "        text-align: right;\n",
       "    }\n",
       "\n",
       "    .dataframe thead th {\n",
       "        text-align: left;\n",
       "    }\n",
       "\n",
       "    .dataframe tbody tr th {\n",
       "        vertical-align: top;\n",
       "    }\n",
       "</style>\n",
       "<table border=\"1\" class=\"dataframe\">\n",
       "  <thead>\n",
       "    <tr style=\"text-align: right;\">\n",
       "      <th></th>\n",
       "      <th>0</th>\n",
       "      <th>1</th>\n",
       "      <th>2</th>\n",
       "      <th>3</th>\n",
       "      <th>4</th>\n",
       "      <th>5</th>\n",
       "      <th>6</th>\n",
       "      <th>7</th>\n",
       "      <th>8</th>\n",
       "      <th>9</th>\n",
       "      <th>...</th>\n",
       "      <th>50</th>\n",
       "      <th>51</th>\n",
       "      <th>52</th>\n",
       "      <th>53</th>\n",
       "      <th>54</th>\n",
       "      <th>55</th>\n",
       "      <th>56</th>\n",
       "      <th>57</th>\n",
       "      <th>58</th>\n",
       "      <th>59</th>\n",
       "    </tr>\n",
       "  </thead>\n",
       "  <tbody>\n",
       "    <tr>\n",
       "      <th>fbd681e79ebca2cd9509218403f23ec6</th>\n",
       "      <td>-1</td>\n",
       "      <td>-1</td>\n",
       "      <td>-1</td>\n",
       "      <td>-1</td>\n",
       "      <td>-1</td>\n",
       "      <td>1</td>\n",
       "      <td>2</td>\n",
       "      <td>2</td>\n",
       "      <td>2</td>\n",
       "      <td>2</td>\n",
       "      <td>...</td>\n",
       "      <td>4</td>\n",
       "      <td>2</td>\n",
       "      <td>4</td>\n",
       "      <td>2</td>\n",
       "      <td>2</td>\n",
       "      <td>-1</td>\n",
       "      <td>2</td>\n",
       "      <td>-1</td>\n",
       "      <td>2</td>\n",
       "      <td>-1</td>\n",
       "    </tr>\n",
       "    <tr>\n",
       "      <th>f8708568eff1535c85247b28dc126f9b</th>\n",
       "      <td>2</td>\n",
       "      <td>2</td>\n",
       "      <td>2</td>\n",
       "      <td>2</td>\n",
       "      <td>1</td>\n",
       "      <td>1</td>\n",
       "      <td>2</td>\n",
       "      <td>2</td>\n",
       "      <td>4</td>\n",
       "      <td>-1</td>\n",
       "      <td>...</td>\n",
       "      <td>1</td>\n",
       "      <td>2</td>\n",
       "      <td>2</td>\n",
       "      <td>2</td>\n",
       "      <td>1</td>\n",
       "      <td>2</td>\n",
       "      <td>2</td>\n",
       "      <td>4</td>\n",
       "      <td>1</td>\n",
       "      <td>2</td>\n",
       "    </tr>\n",
       "    <tr>\n",
       "      <th>f49956142aab2ad74decfd49a103c2f1</th>\n",
       "      <td>-1</td>\n",
       "      <td>-1</td>\n",
       "      <td>-1</td>\n",
       "      <td>2</td>\n",
       "      <td>1</td>\n",
       "      <td>4</td>\n",
       "      <td>2</td>\n",
       "      <td>2</td>\n",
       "      <td>-1</td>\n",
       "      <td>4</td>\n",
       "      <td>...</td>\n",
       "      <td>-1</td>\n",
       "      <td>-1</td>\n",
       "      <td>1</td>\n",
       "      <td>4</td>\n",
       "      <td>4</td>\n",
       "      <td>-1</td>\n",
       "      <td>1</td>\n",
       "      <td>1</td>\n",
       "      <td>4</td>\n",
       "      <td>-1</td>\n",
       "    </tr>\n",
       "    <tr>\n",
       "      <th>f358b75c71d85c91ec0452c6114e3b15</th>\n",
       "      <td>-1</td>\n",
       "      <td>2</td>\n",
       "      <td>2</td>\n",
       "      <td>1</td>\n",
       "      <td>-1</td>\n",
       "      <td>2</td>\n",
       "      <td>-1</td>\n",
       "      <td>2</td>\n",
       "      <td>-1</td>\n",
       "      <td>4</td>\n",
       "      <td>...</td>\n",
       "      <td>-1</td>\n",
       "      <td>2</td>\n",
       "      <td>2</td>\n",
       "      <td>2</td>\n",
       "      <td>-1</td>\n",
       "      <td>2</td>\n",
       "      <td>-1</td>\n",
       "      <td>-1</td>\n",
       "      <td>-1</td>\n",
       "      <td>-1</td>\n",
       "    </tr>\n",
       "  </tbody>\n",
       "</table>\n",
       "<p>4 rows × 60 columns</p>\n",
       "</div>"
      ],
      "text/plain": [
       "                                  0   1   2   3   4   5   6   7   8   9  ...  \\\n",
       "fbd681e79ebca2cd9509218403f23ec6  -1  -1  -1  -1  -1   1   2   2   2   2 ...   \n",
       "f8708568eff1535c85247b28dc126f9b   2   2   2   2   1   1   2   2   4  -1 ...   \n",
       "f49956142aab2ad74decfd49a103c2f1  -1  -1  -1   2   1   4   2   2  -1   4 ...   \n",
       "f358b75c71d85c91ec0452c6114e3b15  -1   2   2   1  -1   2  -1   2  -1   4 ...   \n",
       "\n",
       "                                  50  51  52  53  54  55  56  57  58  59  \n",
       "fbd681e79ebca2cd9509218403f23ec6   4   2   4   2   2  -1   2  -1   2  -1  \n",
       "f8708568eff1535c85247b28dc126f9b   1   2   2   2   1   2   2   4   1   2  \n",
       "f49956142aab2ad74decfd49a103c2f1  -1  -1   1   4   4  -1   1   1   4  -1  \n",
       "f358b75c71d85c91ec0452c6114e3b15  -1   2   2   2  -1   2  -1  -1  -1  -1  \n",
       "\n",
       "[4 rows x 60 columns]"
      ]
     },
     "execution_count": 1071,
     "metadata": {},
     "output_type": "execute_result"
    }
   ],
   "source": [
    "valenceVec = valenceVec.transpose()\n",
    "valenceVec[1:5]\n"
   ]
  },
  {
   "cell_type": "markdown",
   "metadata": {
    "collapsed": true
   },
   "source": [
    "need to mannually change first column to userid"
   ]
  },
  {
   "cell_type": "code",
   "execution_count": 1072,
   "metadata": {
    "collapsed": true
   },
   "outputs": [],
   "source": [
    "valenceVec.to_csv('../important_data/ValenceVec_Norm_Clean2.csv')"
   ]
  },
  {
   "cell_type": "code",
   "execution_count": 1085,
   "metadata": {},
   "outputs": [
    {
     "data": {
      "text/plain": [
       "(77, 62)"
      ]
     },
     "execution_count": 1085,
     "metadata": {},
     "output_type": "execute_result"
    }
   ],
   "source": [
    "#merge with CESD\n",
    "cesd = pd.read_csv('../important_data/adjustedCESD.csv')\n",
    "cesdSum = cesd[['userid','cesd_sum']]\n",
    "valenceVec = pd.read_csv('../important_data/ValenceVec_Norm_Mix.csv')\n",
    "ValCesd = pd.merge(valenceVec, cesdSum, how = 'left', on ='userid')\n",
    "#remove duplicate\n",
    "ValCesd = ValCesd.drop_duplicates(subset='userid', keep=\"first\")\n",
    "ValCesd.shape\n"
   ]
  },
  {
   "cell_type": "code",
   "execution_count": 292,
   "metadata": {
    "collapsed": true
   },
   "outputs": [],
   "source": [
    "from sklearn.model_selection import GridSearchCV\n",
    "from imblearn.pipeline import make_pipeline, Pipeline\n",
    "from sklearn.metrics import confusion_matrix, f1_score, precision_score,\\\n",
    "recall_score, confusion_matrix, classification_report, accuracy_score \n",
    "from sklearn.model_selection import GridSearchCV, cross_val_score, StratifiedKFold\n",
    "from sklearn.ensemble import RandomForestClassifier\n",
    "from sklearn.preprocessing import StandardScaler, Normalizer\n",
    "from sklearn import svm\n",
    "from sklearn.model_selection import train_test_split\n"
   ]
  },
  {
   "cell_type": "markdown",
   "metadata": {},
   "source": [
    "binary classifer, 23 as threadshold"
   ]
  },
  {
   "cell_type": "code",
   "execution_count": 1091,
   "metadata": {},
   "outputs": [
    {
     "name": "stdout",
     "output_type": "stream",
     "text": [
      "41\n",
      "36\n"
     ]
    }
   ],
   "source": [
    "y = ValCesd[\"cesd_sum\"]\n",
    "X = ValCesd.iloc[:,1:31]\n",
    "def recode(array):\n",
    "    new = []\n",
    "    for num in array:\n",
    "        if num <= 23:\n",
    "            new.append(0)\n",
    "        if num > 23:\n",
    "            new.append(1)\n",
    "    return new\n",
    "        \n",
    "y = recode(y)\n",
    "print(y.count(1))\n",
    "print(y.count(0))"
   ]
  },
  {
   "cell_type": "markdown",
   "metadata": {},
   "source": [
    "Don't scale it, all the features are on the same scale already"
   ]
  },
  {
   "cell_type": "code",
   "execution_count": 1094,
   "metadata": {},
   "outputs": [
    {
     "name": "stdout",
     "output_type": "stream",
     "text": [
      "0.6792452830188679\n",
      "{'svc__C': 0.1, 'svc__class_weight': 'balanced', 'svc__gamma': 0.5, 'svc__kernel': 'linear'}\n",
      "              precision    recall  f1-score   support\n",
      "\n",
      "           0       0.47      0.70      0.56        10\n",
      "           1       0.67      0.43      0.52        14\n",
      "\n",
      "   micro avg       0.54      0.54      0.54        24\n",
      "   macro avg       0.57      0.56      0.54        24\n",
      "weighted avg       0.58      0.54      0.54        24\n",
      "\n"
     ]
    },
    {
     "name": "stderr",
     "output_type": "stream",
     "text": [
      "/Users/lucia/anaconda3/lib/python3.6/site-packages/sklearn/model_selection/_search.py:841: DeprecationWarning: The default of the `iid` parameter will change from True to False in version 0.22 and will be removed in 0.24. This will change numeric results when test-set sizes are unequal.\n",
      "  DeprecationWarning)\n"
     ]
    }
   ],
   "source": [
    "X_train, X_test, y_train, y_test = train_test_split(X, y, test_size=0.30, random_state = 70)\n",
    "cv = StratifiedKFold(n_splits=3, random_state = 0)\n",
    "svc = make_pipeline(svm.SVC())\n",
    "parameters = [{'svc__kernel': ['linear', 'poly', 'rbf', 'sigmoid'], 'svc__gamma': [0.5,0.1, 0.01,0.001, 0.0001],\n",
    "                     'svc__C':[0.1, 0.3, 0.5, 0.7, 0.9, 1.0, 1.5, 2.0, 10] , 'svc__class_weight':['balanced']}]\n",
    "\n",
    "grid_search_item = GridSearchCV(svc,\n",
    "                          param_grid = parameters,\n",
    "                           cv = cv,\n",
    "                           scoring = 'accuracy',\n",
    "                           n_jobs = -1)\n",
    "grid_searchSVC = grid_search_item.fit(X_train, y_train)\n",
    "\n",
    "print(grid_searchSVC.best_score_)\n",
    "print(grid_searchSVC.best_params_)\n",
    "\n",
    "means = grid_searchSVC.cv_results_['mean_test_score']\n",
    "stds = grid_searchSVC.cv_results_['std_test_score']\n",
    "params = grid_searchSVC.cv_results_['params']\n",
    "\n",
    "y_true, y_pred = y_test, grid_searchSVC.predict(X_test)\n",
    "print(classification_report(y_true, y_pred))"
   ]
  },
  {
   "cell_type": "code",
   "execution_count": 1095,
   "metadata": {},
   "outputs": [
    {
     "name": "stdout",
     "output_type": "stream",
     "text": [
      "0.6415094339622641\n",
      "{'algorithm': 'SAMME', 'learning_rate': 1.5, 'n_estimators': 100, 'random_state': 100}\n",
      "              precision    recall  f1-score   support\n",
      "\n",
      "           0       0.56      0.90      0.69        10\n",
      "           1       0.88      0.50      0.64        14\n",
      "\n",
      "   micro avg       0.67      0.67      0.67        24\n",
      "   macro avg       0.72      0.70      0.66        24\n",
      "weighted avg       0.74      0.67      0.66        24\n",
      "\n"
     ]
    },
    {
     "name": "stderr",
     "output_type": "stream",
     "text": [
      "/Users/lucia/anaconda3/lib/python3.6/site-packages/sklearn/model_selection/_search.py:841: DeprecationWarning: The default of the `iid` parameter will change from True to False in version 0.22 and will be removed in 0.24. This will change numeric results when test-set sizes are unequal.\n",
      "  DeprecationWarning)\n"
     ]
    }
   ],
   "source": [
    "from sklearn import model_selection\n",
    "from sklearn.ensemble import AdaBoostClassifier\n",
    "Ada = AdaBoostClassifier()\n",
    "parameters = [{'algorithm': ['SAMME', 'SAMME.R'], 'n_estimators': [50,100,150,200],\n",
    "                     'learning_rate':[1.0, 1.5, 2.0, 2.5, 3.0],'random_state':[100]}]\n",
    "\n",
    "grid_search_item = GridSearchCV(Ada,\n",
    "                          param_grid = parameters,\n",
    "                           cv = cv,\n",
    "                           scoring = 'accuracy',\n",
    "                           n_jobs = -1)\n",
    "grid_search = grid_search_item.fit(X_train, y_train)\n",
    "\n",
    "print(grid_search.best_score_)\n",
    "print(grid_search.best_params_)\n",
    "\n",
    "means = grid_search.cv_results_['mean_test_score']\n",
    "stds = grid_search.cv_results_['std_test_score']\n",
    "params = grid_search.cv_results_['params']\n",
    "\n",
    "y_true, y_pred = y_test, grid_search.predict(X_test)\n",
    "print(classification_report(y_true, y_pred))\n"
   ]
  },
  {
   "cell_type": "code",
   "execution_count": 1033,
   "metadata": {},
   "outputs": [
    {
     "name": "stdout",
     "output_type": "stream",
     "text": [
      "0.6037735849056604\n",
      "{'learning_rate': 1.0, 'max_depth': 4, 'n_estimators': 50, 'random_state': 100}\n",
      "              precision    recall  f1-score   support\n",
      "\n",
      "           0       0.38      0.56      0.45         9\n",
      "           1       0.64      0.47      0.54        15\n",
      "\n",
      "   micro avg       0.50      0.50      0.50        24\n",
      "   macro avg       0.51      0.51      0.50        24\n",
      "weighted avg       0.54      0.50      0.51        24\n",
      "\n"
     ]
    },
    {
     "name": "stderr",
     "output_type": "stream",
     "text": [
      "/Users/lucia/anaconda3/lib/python3.6/site-packages/sklearn/model_selection/_search.py:841: DeprecationWarning: The default of the `iid` parameter will change from True to False in version 0.22 and will be removed in 0.24. This will change numeric results when test-set sizes are unequal.\n",
      "  DeprecationWarning)\n"
     ]
    }
   ],
   "source": [
    "from sklearn.ensemble import GradientBoostingClassifier\n",
    "gbc = GradientBoostingClassifier()\n",
    "parameters = [{'max_depth': [1,2,3,4,5], 'n_estimators': [50,100,150,200],\n",
    "                     'learning_rate':[1.0, 1.5, 2.0, 2.5, 3.0],'random_state':[100]}]\n",
    "grid_search_item = GridSearchCV(gbc,\n",
    "                          param_grid = parameters,\n",
    "                           cv = cv,\n",
    "                           scoring = 'accuracy',\n",
    "                           n_jobs = -1)\n",
    "grid_search = grid_search_item.fit(X_train, y_train)\n",
    "\n",
    "print(grid_search.best_score_)\n",
    "print(grid_search.best_params_)\n",
    "\n",
    "means = grid_search.cv_results_['mean_test_score']\n",
    "stds = grid_search.cv_results_['std_test_score']\n",
    "params = grid_search.cv_results_['params']\n",
    "\n",
    "y_true, y_pred = y_test, grid_search.predict(X_test)\n",
    "print(classification_report(y_true, y_pred))"
   ]
  },
  {
   "cell_type": "code",
   "execution_count": 645,
   "metadata": {},
   "outputs": [
    {
     "data": {
      "text/plain": [
       "dict_keys(['priors', 'var_smoothing'])"
      ]
     },
     "execution_count": 645,
     "metadata": {},
     "output_type": "execute_result"
    }
   ],
   "source": [
    "gnb.get_params().keys()"
   ]
  },
  {
   "cell_type": "code",
   "execution_count": null,
   "metadata": {
    "collapsed": true
   },
   "outputs": [],
   "source": []
  },
  {
   "cell_type": "code",
   "execution_count": 1096,
   "metadata": {},
   "outputs": [
    {
     "name": "stdout",
     "output_type": "stream",
     "text": [
      "0.6415094339622641\n",
      "{'sgdclassifier__alpha': 0.01, 'sgdclassifier__class_weight': 'balanced', 'sgdclassifier__loss': 'hinge', 'sgdclassifier__penalty': 'none'}\n",
      "              precision    recall  f1-score   support\n",
      "\n",
      "           0       0.47      0.70      0.56        10\n",
      "           1       0.67      0.43      0.52        14\n",
      "\n",
      "   micro avg       0.54      0.54      0.54        24\n",
      "   macro avg       0.57      0.56      0.54        24\n",
      "weighted avg       0.58      0.54      0.54        24\n",
      "\n"
     ]
    },
    {
     "name": "stderr",
     "output_type": "stream",
     "text": [
      "/Users/lucia/anaconda3/lib/python3.6/site-packages/sklearn/model_selection/_search.py:841: DeprecationWarning: The default of the `iid` parameter will change from True to False in version 0.22 and will be removed in 0.24. This will change numeric results when test-set sizes are unequal.\n",
      "  DeprecationWarning)\n",
      "/Users/lucia/anaconda3/lib/python3.6/site-packages/sklearn/preprocessing/data.py:625: DataConversionWarning: Data with input dtype int64 were all converted to float64 by StandardScaler.\n",
      "  return self.partial_fit(X, y)\n",
      "/Users/lucia/anaconda3/lib/python3.6/site-packages/sklearn/base.py:465: DataConversionWarning: Data with input dtype int64 were all converted to float64 by StandardScaler.\n",
      "  return self.fit(X, y, **fit_params).transform(X)\n",
      "/Users/lucia/anaconda3/lib/python3.6/site-packages/sklearn/linear_model/stochastic_gradient.py:183: FutureWarning: max_iter and tol parameters have been added in SGDClassifier in 0.19. If max_iter is set but tol is left unset, the default value for tol in 0.19 and 0.20 will be None (which is equivalent to -infinity, so it has no effect) but will change in 0.21 to 1e-3. Specify tol to silence this warning.\n",
      "  FutureWarning)\n",
      "/Users/lucia/anaconda3/lib/python3.6/site-packages/imblearn/pipeline.py:349: DataConversionWarning: Data with input dtype int64 were all converted to float64 by StandardScaler.\n",
      "  Xt = transform.transform(Xt)\n"
     ]
    }
   ],
   "source": [
    "from sklearn.linear_model import SGDClassifier\n",
    "clf = make_pipeline(StandardScaler(),SGDClassifier(max_iter= 1000, random_state = 2))\n",
    "parameters = [{'sgdclassifier__alpha': [0.001, 0.01, 0.05, 0.001, 0.005], 'sgdclassifier__class_weight':['balanced'],\n",
    "              'sgdclassifier__loss': ['hinge','log','modified_huber','squared_hinge', 'perceptron'], \n",
    "               'sgdclassifier__penalty':['none','l1','l2']}]\n",
    "grid_search_item = GridSearchCV(clf,\n",
    "                          param_grid = parameters,\n",
    "                           cv = cv,\n",
    "                           scoring = 'accuracy',\n",
    "                           n_jobs = -1)\n",
    "grid_search = grid_search_item.fit(X_train, y_train)\n",
    "\n",
    "print(grid_search.best_score_)\n",
    "print(grid_search.best_params_)\n",
    "\n",
    "means = grid_search.cv_results_['mean_test_score']\n",
    "stds = grid_search.cv_results_['std_test_score']\n",
    "params = grid_search.cv_results_['params']\n",
    "\n",
    "y_true, y_pred = y_test, grid_search.predict(X_test)\n",
    "print(classification_report(y_true, y_pred))"
   ]
  },
  {
   "cell_type": "code",
   "execution_count": 1053,
   "metadata": {},
   "outputs": [
    {
     "name": "stdout",
     "output_type": "stream",
     "text": [
      "ROC is 0.6000000000000001\n",
      "              precision    recall  f1-score   support\n",
      "\n",
      "           0       0.46      0.67      0.55         9\n",
      "           1       0.73      0.53      0.62        15\n",
      "\n",
      "   micro avg       0.58      0.58      0.58        24\n",
      "   macro avg       0.59      0.60      0.58        24\n",
      "weighted avg       0.63      0.58      0.59        24\n",
      "\n"
     ]
    },
    {
     "name": "stderr",
     "output_type": "stream",
     "text": [
      "/Users/lucia/anaconda3/lib/python3.6/site-packages/sklearn/linear_model/stochastic_gradient.py:166: FutureWarning: max_iter and tol parameters have been added in SGDClassifier in 0.19. If both are left unset, they default to max_iter=5 and tol=None. If tol is not None, max_iter defaults to max_iter=1000. From 0.21, default max_iter will be 1000, and default tol will be 1e-3.\n",
      "  FutureWarning)\n"
     ]
    },
    {
     "data": {
      "text/plain": [
       "array([[6, 3],\n",
       "       [7, 8]])"
      ]
     },
     "execution_count": 1053,
     "metadata": {},
     "output_type": "execute_result"
    }
   ],
   "source": [
    "from sklearn.linear_model import LogisticRegression\n",
    "from sklearn.tree import DecisionTreeClassifier\n",
    "from sklearn.svm import SVC\n",
    "from sklearn.ensemble import VotingClassifier\n",
    "from sklearn.metrics import roc_auc_score\n",
    "\n",
    "estimators = []\n",
    "\n",
    "model3 = svm.SVC(C = 2.0, kernel  = 'sigmoid', gamma =0.01,class_weight = 'balanced', random_state=300)\n",
    "estimators.append(('svm', model3))\n",
    "model2 = SGDClassifier(alpha = 0.001, class_weight = 'balanced', loss = 'hinge', penalty = 'l2', random_state = 2)\n",
    "estimators.append(('logistic', model2))\n",
    "model1 = GradientBoostingClassifier(max_depth= 4, learning_rate= 1.0, n_estimators= 50, random_state= 100)\n",
    "estimators.append(('gbc', model1))\n",
    "# model4 = AdaBoostClassifier(algorithm= 'SAMME', learning_rate= 2.0, n_estimators= 50, random_state= 100)\n",
    "# estimators.append(('ada', model4))\n",
    "\n",
    "ensemble = VotingClassifier(estimators)\n",
    "eclf1 = ensemble.fit(X_train, y_train)\n",
    "y_pred = eclf1.predict(X_test)\n",
    "print('ROC is {}'. format(roc_auc_score(y_test, y_pred)))\n",
    "print(classification_report(y_test, y_pred))\n",
    "confusion_matrix(y_test, y_pred)\n"
   ]
  },
  {
   "cell_type": "markdown",
   "metadata": {},
   "source": [
    "Ensemble classfier won't work because the classifers in our case does not produce results that compensate each other, so we can adopt svm only"
   ]
  },
  {
   "cell_type": "markdown",
   "metadata": {},
   "source": [
    "ROC AUC score\n",
    "A perfect classifier will have a ROC AUC equal to 1, whereas a purely random classifier will have a ROC AUC equal to 0.5."
   ]
  },
  {
   "cell_type": "code",
   "execution_count": null,
   "metadata": {
    "collapsed": true
   },
   "outputs": [],
   "source": []
  },
  {
   "cell_type": "code",
   "execution_count": 1042,
   "metadata": {},
   "outputs": [
    {
     "name": "stdout",
     "output_type": "stream",
     "text": [
      "[0.         0.33333333 1.        ] [0.         0.73333333 1.        ] [2 1 0]\n"
     ]
    },
    {
     "data": {
      "image/png": "[encoded data removed]",
      "text/plain": [
       "<matplotlib.figure.Figure at 0x1c182da470>"
      ]
     },
     "metadata": {},
     "output_type": "display_data"
    }
   ],
   "source": [
    "from sklearn.metrics import roc_curve\n",
    "import matplotlib.pyplot as plt\n",
    "fpr, tpr, thresholds = roc_curve(y_true, y_pred)\n",
    "print(fpr, tpr, thresholds)\n",
    "def plot_roc_curve(fpr, tpr, label=None): \n",
    "    plt.plot(fpr, tpr, linewidth=2, label=label) \n",
    "    plt.plot([0, 1], [0, 1], 'k--') \n",
    "    plt.axis([0, 1, 0, 1])\n",
    "    plt.xlabel('False Positive Rate') \n",
    "    plt.ylabel('True Positive Rate')\n",
    "plot_roc_curve(fpr, tpr) \n",
    "plt.show()"
   ]
  },
  {
   "cell_type": "code",
   "execution_count": 674,
   "metadata": {},
   "outputs": [
    {
     "name": "stdout",
     "output_type": "stream",
     "text": [
      "[0, 0, 1, 1, 0, 1, 0, 1, 0, 0, 1, 1, 1, 1, 0, 1, 0, 1, 1, 1, 0, 1, 1, 1]\n"
     ]
    }
   ],
   "source": [
    "print(y_true)"
   ]
  },
  {
   "cell_type": "code",
   "execution_count": 675,
   "metadata": {},
   "outputs": [
    {
     "name": "stdout",
     "output_type": "stream",
     "text": [
      "[1 1 1 0 0 1 0 1 0 0 1 0 0 0 0 1 0 0 0 0 0 1 1 1]\n"
     ]
    }
   ],
   "source": [
    "print(y_pred)"
   ]
  },
  {
   "cell_type": "code",
   "execution_count": null,
   "metadata": {
    "collapsed": true
   },
   "outputs": [],
   "source": []
  },
  {
   "cell_type": "code",
   "execution_count": 1077,
   "metadata": {
    "collapsed": true
   },
   "outputs": [],
   "source": [
    "#select cases in the test set\n",
    "indexes = X_test.index.values\n",
    "TestVal = ValCesd.loc[indexes]"
   ]
  },
  {
   "cell_type": "code",
   "execution_count": 1078,
   "metadata": {},
   "outputs": [
    {
     "data": {
      "text/html": [
       "<div>\n",
       "<style>\n",
       "    .dataframe thead tr:only-child th {\n",
       "        text-align: right;\n",
       "    }\n",
       "\n",
       "    .dataframe thead th {\n",
       "        text-align: left;\n",
       "    }\n",
       "\n",
       "    .dataframe tbody tr th {\n",
       "        vertical-align: top;\n",
       "    }\n",
       "</style>\n",
       "<table border=\"1\" class=\"dataframe\">\n",
       "  <thead>\n",
       "    <tr style=\"text-align: right;\">\n",
       "      <th></th>\n",
       "      <th>userid</th>\n",
       "      <th>0</th>\n",
       "      <th>1</th>\n",
       "      <th>2</th>\n",
       "      <th>3</th>\n",
       "      <th>4</th>\n",
       "      <th>5</th>\n",
       "      <th>6</th>\n",
       "      <th>7</th>\n",
       "      <th>8</th>\n",
       "      <th>...</th>\n",
       "      <th>51</th>\n",
       "      <th>52</th>\n",
       "      <th>53</th>\n",
       "      <th>54</th>\n",
       "      <th>55</th>\n",
       "      <th>56</th>\n",
       "      <th>57</th>\n",
       "      <th>58</th>\n",
       "      <th>59</th>\n",
       "      <th>cesd_sum</th>\n",
       "    </tr>\n",
       "  </thead>\n",
       "  <tbody>\n",
       "    <tr>\n",
       "      <th>90</th>\n",
       "      <td>0e3fdb89c7706b13891170ab2a9017c7</td>\n",
       "      <td>2</td>\n",
       "      <td>1</td>\n",
       "      <td>-1</td>\n",
       "      <td>2</td>\n",
       "      <td>1</td>\n",
       "      <td>1</td>\n",
       "      <td>2</td>\n",
       "      <td>-1</td>\n",
       "      <td>-1</td>\n",
       "      <td>...</td>\n",
       "      <td>2</td>\n",
       "      <td>2</td>\n",
       "      <td>4</td>\n",
       "      <td>-1</td>\n",
       "      <td>-1</td>\n",
       "      <td>-1</td>\n",
       "      <td>-1</td>\n",
       "      <td>-1</td>\n",
       "      <td>-1</td>\n",
       "      <td>4</td>\n",
       "    </tr>\n",
       "    <tr>\n",
       "      <th>79</th>\n",
       "      <td>23cbbe03a89344129e1a6d8419a66d23</td>\n",
       "      <td>-1</td>\n",
       "      <td>-1</td>\n",
       "      <td>-1</td>\n",
       "      <td>-1</td>\n",
       "      <td>-1</td>\n",
       "      <td>-1</td>\n",
       "      <td>1</td>\n",
       "      <td>-1</td>\n",
       "      <td>1</td>\n",
       "      <td>...</td>\n",
       "      <td>4</td>\n",
       "      <td>2</td>\n",
       "      <td>-1</td>\n",
       "      <td>2</td>\n",
       "      <td>2</td>\n",
       "      <td>2</td>\n",
       "      <td>2</td>\n",
       "      <td>2</td>\n",
       "      <td>2</td>\n",
       "      <td>28</td>\n",
       "    </tr>\n",
       "    <tr>\n",
       "      <th>12</th>\n",
       "      <td>e9970fe8848e9505b52d414d81611de8</td>\n",
       "      <td>2</td>\n",
       "      <td>-1</td>\n",
       "      <td>-1</td>\n",
       "      <td>-1</td>\n",
       "      <td>-1</td>\n",
       "      <td>4</td>\n",
       "      <td>-1</td>\n",
       "      <td>-1</td>\n",
       "      <td>4</td>\n",
       "      <td>...</td>\n",
       "      <td>-1</td>\n",
       "      <td>-1</td>\n",
       "      <td>-1</td>\n",
       "      <td>-1</td>\n",
       "      <td>-1</td>\n",
       "      <td>-1</td>\n",
       "      <td>-1</td>\n",
       "      <td>-1</td>\n",
       "      <td>-1</td>\n",
       "      <td>34</td>\n",
       "    </tr>\n",
       "    <tr>\n",
       "      <th>65</th>\n",
       "      <td>4764518d32334248e6ebbf681a18fd0c</td>\n",
       "      <td>4</td>\n",
       "      <td>4</td>\n",
       "      <td>-1</td>\n",
       "      <td>2</td>\n",
       "      <td>2</td>\n",
       "      <td>4</td>\n",
       "      <td>1</td>\n",
       "      <td>1</td>\n",
       "      <td>-1</td>\n",
       "      <td>...</td>\n",
       "      <td>4</td>\n",
       "      <td>2</td>\n",
       "      <td>1</td>\n",
       "      <td>2</td>\n",
       "      <td>4</td>\n",
       "      <td>-1</td>\n",
       "      <td>-1</td>\n",
       "      <td>1</td>\n",
       "      <td>1</td>\n",
       "      <td>23</td>\n",
       "    </tr>\n",
       "  </tbody>\n",
       "</table>\n",
       "<p>4 rows × 62 columns</p>\n",
       "</div>"
      ],
      "text/plain": [
       "                              userid  0  1  2  3  4  5  6  7  8    ...     51  \\\n",
       "90  0e3fdb89c7706b13891170ab2a9017c7  2  1 -1  2  1  1  2 -1 -1    ...      2   \n",
       "79  23cbbe03a89344129e1a6d8419a66d23 -1 -1 -1 -1 -1 -1  1 -1  1    ...      4   \n",
       "12  e9970fe8848e9505b52d414d81611de8  2 -1 -1 -1 -1  4 -1 -1  4    ...     -1   \n",
       "65  4764518d32334248e6ebbf681a18fd0c  4  4 -1  2  2  4  1  1 -1    ...      4   \n",
       "\n",
       "    52  53  54  55  56  57  58  59  cesd_sum  \n",
       "90   2   4  -1  -1  -1  -1  -1  -1         4  \n",
       "79   2  -1   2   2   2   2   2   2        28  \n",
       "12  -1  -1  -1  -1  -1  -1  -1  -1        34  \n",
       "65   2   1   2   4  -1  -1   1   1        23  \n",
       "\n",
       "[4 rows x 62 columns]"
      ]
     },
     "execution_count": 1078,
     "metadata": {},
     "output_type": "execute_result"
    }
   ],
   "source": [
    "TestVal[1:5]"
   ]
  },
  {
   "cell_type": "code",
   "execution_count": 1079,
   "metadata": {
    "collapsed": true
   },
   "outputs": [],
   "source": [
    "TestVal['labels'] = y_test\n",
    "TestVal['prelabels'] = y_pred"
   ]
  },
  {
   "cell_type": "code",
   "execution_count": 692,
   "metadata": {},
   "outputs": [
    {
     "data": {
      "text/plain": [
       "[0, 0, 1, 1, 0, 1, 0, 1, 0, 0, 1, 1, 1, 1, 0, 1, 0, 1, 1, 1, 0, 1, 1, 1]"
      ]
     },
     "execution_count": 692,
     "metadata": {},
     "output_type": "execute_result"
    }
   ],
   "source": []
  },
  {
   "cell_type": "code",
   "execution_count": 170,
   "metadata": {
    "collapsed": true
   },
   "outputs": [],
   "source": [
    "TestVal[1:5]\n",
    "TestVal.to_csv('preEvaluate.csv')"
   ]
  },
  {
   "cell_type": "markdown",
   "metadata": {},
   "source": [
    "Let's see what features the classifer capture`"
   ]
  },
  {
   "cell_type": "code",
   "execution_count": 1045,
   "metadata": {},
   "outputs": [
    {
     "data": {
      "text/plain": [
       "array([[ 6,  3],\n",
       "       [ 4, 11]])"
      ]
     },
     "execution_count": 1045,
     "metadata": {},
     "output_type": "execute_result"
    }
   ],
   "source": [
    "#juding from the confusion matix (class 0, class 1), most of the class 0 are predicted correctly\n",
    "confusion_matrix(y_test, y_pred)"
   ]
  },
  {
   "cell_type": "code",
   "execution_count": 1046,
   "metadata": {},
   "outputs": [
    {
     "name": "stdout",
     "output_type": "stream",
     "text": [
      "user b6f1257ff213585723c66e253d2b92f7 has 42 empty days, 6 negative days, 6 positive days and 6 neutral days\n",
      "user 0e3fdb89c7706b13891170ab2a9017c7 has 32 empty days, 4 negative days, 20 positive days and 4 neutral days\n",
      "user 23cbbe03a89344129e1a6d8419a66d23 has 33 empty days, 3 negative days, 20 positive days and 3 neutral days\n",
      "user cd86d1e6d68c3770eaec0db419dceb2f has 15 empty days, 18 negative days, 16 positive days and 10 neutral days\n",
      "user 0724fe854bd455061ba84efecdeff469 has 36 empty days, 11 negative days, 11 positive days and 2 neutral days\n",
      "user 83b42f70e17daecbc41b785c2b9ce869 has 36 empty days, 5 negative days, 15 positive days and 4 neutral days\n",
      "user 5fcf46eb6809a240af3ab9bcb4f2b92f has 33 empty days, 10 negative days, 8 positive days and 9 neutral days\n",
      "user 5b1eb32579450829ec8faab4d3472ffb has 38 empty days, 4 negative days, 10 positive days and 5 neutral days\n",
      "user 1789589a6d2bba0f09d768f8f3445be5 has 30 empty days, 13 negative days, 10 positive days and 6 neutral days\n",
      "user 0b12516100c16f779b152858619786ff has 24 empty days, 12 negative days, 21 positive days and 3 neutral days\n",
      "user fbd681e79ebca2cd9509218403f23ec6 has 30 empty days, 7 negative days, 20 positive days and 3 neutral days\n",
      "user 29cda473b52e1c75fbfe958ed3aec565 has 34 empty days, 3 negative days, 14 positive days and 7 neutral days\n",
      "user 1c1a61d11a10f9fa967f250095792db3 has 32 empty days, 7 negative days, 15 positive days and 6 neutral days\n",
      "user e076953cd3fcf8927b8f21574c0890f3 has 27 empty days, 7 negative days, 15 positive days and 10 neutral days\n",
      "--------here shows the stats for label class-----------------\n",
      "stats for empty days DescribeResult(nobs=14, minmax=(15, 42), mean=31.571428571428573, variance=42.87912087912088, skewness=-0.9934098159144189, kurtosis=1.2124881219818944):\n",
      "stats for negative days DescribeResult(nobs=14, minmax=(3, 18), mean=7.857142857142857, variance=19.362637362637365, skewness=0.8581416676887316, kurtosis=-0.05404806477006785):\n",
      "stats for positive days DescribeResult(nobs=14, minmax=(6, 21), mean=14.357142857142858, variance=23.32417582417583, skewness=-0.1463460636148967, kurtosis=-1.118529968743107):\n",
      "stats for neutral days DescribeResult(nobs=14, minmax=(2, 10), mean=5.571428571428571, variance=7.032967032967033, skewness=0.4821521576483925, kurtosis=-0.9602734374999997):\n"
     ]
    }
   ],
   "source": [
    "#let's see the features of class 1 (high depression symptoms)\n",
    "from collections import Counter\n",
    "def DescribeUserVecTestSet(labelClass):\n",
    "    highDep = []\n",
    "    for userid, labels, prelabels in zip(TestVal['userid'],TestVal['labels'],TestVal['prelabels']):\n",
    "    #     print(userid, labels, prelabels)\n",
    "        if prelabels == labelClass:\n",
    "            highDep.append(userid)\n",
    "\n",
    "    for userid in highDep:\n",
    "        print('user {} has {} empty days, {} negative days, {} positive days and {} neutral days'.format(userid, users[userid].count(-1), users[userid].count(1), users[userid].count(2), users[userid].count(4)))\n",
    "    \n",
    "    print('--------here shows the stats for label class-----------------')\n",
    "    describeUserVec(highDep)\n",
    "#Here we see the prediction labels: high group vectors\n",
    "DescribeUserVecTestSet(1)"
   ]
  },
  {
   "cell_type": "code",
   "execution_count": 1047,
   "metadata": {},
   "outputs": [
    {
     "name": "stdout",
     "output_type": "stream",
     "text": [
      "user e9970fe8848e9505b52d414d81611de8 has 40 empty days, 3 negative days, 11 positive days and 5 neutral days\n",
      "user 4764518d32334248e6ebbf681a18fd0c has 12 empty days, 15 negative days, 20 positive days and 12 neutral days\n",
      "user 193165601dfad67e79ef52b2caf9fd9e has 43 empty days, 6 negative days, 9 positive days and 1 neutral days\n",
      "user b121d90e407cd597da17491f36e7b2c5 has 42 empty days, 7 negative days, 8 positive days and 2 neutral days\n",
      "user 49fb9fce8f4dc022318b8cd432aad8b6 has 35 empty days, 7 negative days, 18 positive days and 0 neutral days\n",
      "user cfb021cfbff46ffdb75c7dcafe7c2087 has 23 empty days, 11 negative days, 13 positive days and 12 neutral days\n",
      "user 3e61391d06340a430182ec676ed47eaf has 53 empty days, 1 negative days, 1 positive days and 5 neutral days\n",
      "user 66495ec54feb9e2399db05a67a80f2c6 has 37 empty days, 3 negative days, 19 positive days and 0 neutral days\n",
      "user 0c5d06511ef79fba34da417e8c751fff has 38 empty days, 8 negative days, 12 positive days and 2 neutral days\n",
      "user d5380466e18422d7b2c2d54d57cbbde2 has 36 empty days, 9 negative days, 9 positive days and 5 neutral days\n",
      "--------here shows the stats for label class-----------------\n",
      "stats for empty days DescribeResult(nobs=10, minmax=(12, 53), mean=35.9, variance=126.76666666666668, skewness=-0.8316496027280169, kurtosis=0.4087942160244702):\n",
      "stats for negative days DescribeResult(nobs=10, minmax=(1, 15), mean=7.0, variance=17.11111111111111, skewness=0.39712768163970824, kurtosis=-0.39500758981278494):\n",
      "stats for positive days DescribeResult(nobs=10, minmax=(1, 20), mean=12.0, variance=34.0, skewness=-0.22331076540155778, kurtosis=-0.5592720748430091):\n",
      "stats for neutral days DescribeResult(nobs=10, minmax=(0, 12), mean=4.4, variance=19.822222222222223, skewness=0.8510506749022406, kurtosis=-0.6050091495907819):\n"
     ]
    }
   ],
   "source": [
    "#low group vectors\n",
    "DescribeUserVecTestSet(0)"
   ]
  },
  {
   "cell_type": "markdown",
   "metadata": {},
   "source": [
    "We can see the classifier predict those with less empty days, more positive days and more neutral days as high group\n"
   ]
  },
  {
   "cell_type": "markdown",
   "metadata": {},
   "source": [
    "Let's see what are the actual difference between low and high group"
   ]
  },
  {
   "cell_type": "code",
   "execution_count": 1048,
   "metadata": {
    "collapsed": true
   },
   "outputs": [],
   "source": [
    "TestVal['labels'] = y_test\n",
    "def DescribeUserVecTestSet(labelClass):\n",
    "    highDep = []\n",
    "    for userid, labels, prelabels in zip(TestVal['userid'],TestVal['labels'],TestVal['prelabels']):\n",
    "    #     print(userid, labels, prelabels)\n",
    "        if labels == labelClass:\n",
    "            highDep.append(userid)\n",
    "\n",
    "    for userid in highDep:\n",
    "        print('user {} has {} empty days, {} negative days, {} positive days and {} neutral days'.format(userid, users[userid].count(-1), users[userid].count(1), users[userid].count(2), users[userid].count(4)))\n",
    "    \n",
    "    print('--------here shows the stats for label class-----------------')\n",
    "    describeUserVec(highDep)\n",
    "#Here we see the prediction labels: high group vectors"
   ]
  },
  {
   "cell_type": "code",
   "execution_count": 1049,
   "metadata": {},
   "outputs": [
    {
     "name": "stdout",
     "output_type": "stream",
     "text": [
      "user 23cbbe03a89344129e1a6d8419a66d23 has 33 empty days, 3 negative days, 20 positive days and 3 neutral days\n",
      "user e9970fe8848e9505b52d414d81611de8 has 40 empty days, 3 negative days, 11 positive days and 5 neutral days\n",
      "user cd86d1e6d68c3770eaec0db419dceb2f has 15 empty days, 18 negative days, 16 positive days and 10 neutral days\n",
      "user 83b42f70e17daecbc41b785c2b9ce869 has 36 empty days, 5 negative days, 15 positive days and 4 neutral days\n",
      "user 5fcf46eb6809a240af3ab9bcb4f2b92f has 33 empty days, 10 negative days, 8 positive days and 9 neutral days\n",
      "user 49fb9fce8f4dc022318b8cd432aad8b6 has 35 empty days, 7 negative days, 18 positive days and 0 neutral days\n",
      "user 5b1eb32579450829ec8faab4d3472ffb has 38 empty days, 4 negative days, 10 positive days and 5 neutral days\n",
      "user cfb021cfbff46ffdb75c7dcafe7c2087 has 23 empty days, 11 negative days, 13 positive days and 12 neutral days\n",
      "user 1789589a6d2bba0f09d768f8f3445be5 has 30 empty days, 13 negative days, 10 positive days and 6 neutral days\n",
      "user 0b12516100c16f779b152858619786ff has 24 empty days, 12 negative days, 21 positive days and 3 neutral days\n",
      "user 0c5d06511ef79fba34da417e8c751fff has 38 empty days, 8 negative days, 12 positive days and 2 neutral days\n",
      "user fbd681e79ebca2cd9509218403f23ec6 has 30 empty days, 7 negative days, 20 positive days and 3 neutral days\n",
      "user 29cda473b52e1c75fbfe958ed3aec565 has 34 empty days, 3 negative days, 14 positive days and 7 neutral days\n",
      "user 1c1a61d11a10f9fa967f250095792db3 has 32 empty days, 7 negative days, 15 positive days and 6 neutral days\n",
      "user e076953cd3fcf8927b8f21574c0890f3 has 27 empty days, 7 negative days, 15 positive days and 10 neutral days\n",
      "--------here shows the stats for label class-----------------\n",
      "stats for empty days DescribeResult(nobs=15, minmax=(15, 40), mean=31.2, variance=44.60000000000001, skewness=-0.9293071695648484, kurtosis=0.3662345832781):\n",
      "stats for negative days DescribeResult(nobs=15, minmax=(3, 18), mean=7.866666666666666, variance=18.40952380952381, skewness=0.8022983083524975, kurtosis=0.07640287446316618):\n",
      "stats for positive days DescribeResult(nobs=15, minmax=(8, 21), mean=14.533333333333333, variance=15.838095238095237, skewness=0.1324920007117878, kurtosis=-1.0006174136316979):\n",
      "stats for neutral days DescribeResult(nobs=15, minmax=(0, 12), mean=5.666666666666667, variance=11.523809523809524, skewness=0.3078583447609587, kurtosis=-0.8029164674544091):\n"
     ]
    }
   ],
   "source": [
    "#high group\n",
    "DescribeUserVecTestSet(1)"
   ]
  },
  {
   "cell_type": "code",
   "execution_count": 1050,
   "metadata": {},
   "outputs": [
    {
     "name": "stdout",
     "output_type": "stream",
     "text": [
      "user b6f1257ff213585723c66e253d2b92f7 has 42 empty days, 6 negative days, 6 positive days and 6 neutral days\n",
      "user 0e3fdb89c7706b13891170ab2a9017c7 has 32 empty days, 4 negative days, 20 positive days and 4 neutral days\n",
      "user 4764518d32334248e6ebbf681a18fd0c has 12 empty days, 15 negative days, 20 positive days and 12 neutral days\n",
      "user 0724fe854bd455061ba84efecdeff469 has 36 empty days, 11 negative days, 11 positive days and 2 neutral days\n",
      "user 193165601dfad67e79ef52b2caf9fd9e has 43 empty days, 6 negative days, 9 positive days and 1 neutral days\n",
      "user b121d90e407cd597da17491f36e7b2c5 has 42 empty days, 7 negative days, 8 positive days and 2 neutral days\n",
      "user 3e61391d06340a430182ec676ed47eaf has 53 empty days, 1 negative days, 1 positive days and 5 neutral days\n",
      "user 66495ec54feb9e2399db05a67a80f2c6 has 37 empty days, 3 negative days, 19 positive days and 0 neutral days\n",
      "user d5380466e18422d7b2c2d54d57cbbde2 has 36 empty days, 9 negative days, 9 positive days and 5 neutral days\n",
      "--------here shows the stats for label class-----------------\n",
      "stats for empty days DescribeResult(nobs=9, minmax=(12, 53), mean=37.0, variance=124.25, skewness=-1.0712029614376082, kurtosis=1.1840641434117787):\n",
      "stats for negative days DescribeResult(nobs=9, minmax=(1, 15), mean=6.888888888888889, variance=18.36111111111111, skewness=0.5459460754908968, kurtosis=-0.44048580864733067):\n",
      "stats for positive days DescribeResult(nobs=9, minmax=(1, 20), mean=11.444444444444445, variance=45.77777777777778, skewness=0.13394565367290145, kurtosis=-1.1904997378405133):\n",
      "stats for neutral days DescribeResult(nobs=9, minmax=(0, 12), mean=4.111111111111111, variance=12.861111111111112, skewness=1.0943129961674027, kurtosis=0.6609840975140999):\n"
     ]
    }
   ],
   "source": [
    "#low group\n",
    "DescribeUserVecTestSet(0)"
   ]
  },
  {
   "cell_type": "markdown",
   "metadata": {},
   "source": [
    "In the test set, we can see that people in the high group are indeed have more positive days and less empty days in general, the classifer capture the right information"
   ]
  },
  {
   "cell_type": "code",
   "execution_count": 1081,
   "metadata": {
    "collapsed": true
   },
   "outputs": [],
   "source": [
    "ValCesd['biLabel'] = y"
   ]
  },
  {
   "cell_type": "code",
   "execution_count": 1082,
   "metadata": {},
   "outputs": [
    {
     "data": {
      "text/html": [
       "<div>\n",
       "<style>\n",
       "    .dataframe thead tr:only-child th {\n",
       "        text-align: right;\n",
       "    }\n",
       "\n",
       "    .dataframe thead th {\n",
       "        text-align: left;\n",
       "    }\n",
       "\n",
       "    .dataframe tbody tr th {\n",
       "        vertical-align: top;\n",
       "    }\n",
       "</style>\n",
       "<table border=\"1\" class=\"dataframe\">\n",
       "  <thead>\n",
       "    <tr style=\"text-align: right;\">\n",
       "      <th></th>\n",
       "      <th>0</th>\n",
       "      <th>1</th>\n",
       "      <th>2</th>\n",
       "      <th>3</th>\n",
       "      <th>4</th>\n",
       "      <th>5</th>\n",
       "      <th>6</th>\n",
       "      <th>7</th>\n",
       "      <th>8</th>\n",
       "      <th>9</th>\n",
       "      <th>...</th>\n",
       "      <th>52</th>\n",
       "      <th>53</th>\n",
       "      <th>54</th>\n",
       "      <th>55</th>\n",
       "      <th>56</th>\n",
       "      <th>57</th>\n",
       "      <th>58</th>\n",
       "      <th>59</th>\n",
       "      <th>cesd_sum</th>\n",
       "      <th>biLabel</th>\n",
       "    </tr>\n",
       "  </thead>\n",
       "  <tbody>\n",
       "    <tr>\n",
       "      <th>count</th>\n",
       "      <td>77.000000</td>\n",
       "      <td>77.000000</td>\n",
       "      <td>77.000000</td>\n",
       "      <td>77.000000</td>\n",
       "      <td>77.000000</td>\n",
       "      <td>77.000000</td>\n",
       "      <td>77.000000</td>\n",
       "      <td>77.000000</td>\n",
       "      <td>77.000000</td>\n",
       "      <td>77.000000</td>\n",
       "      <td>...</td>\n",
       "      <td>77.000000</td>\n",
       "      <td>77.000000</td>\n",
       "      <td>77.000000</td>\n",
       "      <td>77.000000</td>\n",
       "      <td>77.000000</td>\n",
       "      <td>77.000000</td>\n",
       "      <td>77.000000</td>\n",
       "      <td>77.000000</td>\n",
       "      <td>77.000000</td>\n",
       "      <td>77.000000</td>\n",
       "    </tr>\n",
       "    <tr>\n",
       "      <th>mean</th>\n",
       "      <td>0.610390</td>\n",
       "      <td>0.727273</td>\n",
       "      <td>0.545455</td>\n",
       "      <td>0.545455</td>\n",
       "      <td>0.636364</td>\n",
       "      <td>0.714286</td>\n",
       "      <td>0.792208</td>\n",
       "      <td>0.610390</td>\n",
       "      <td>0.636364</td>\n",
       "      <td>0.922078</td>\n",
       "      <td>...</td>\n",
       "      <td>0.597403</td>\n",
       "      <td>0.467532</td>\n",
       "      <td>0.636364</td>\n",
       "      <td>0.844156</td>\n",
       "      <td>0.493506</td>\n",
       "      <td>0.363636</td>\n",
       "      <td>0.298701</td>\n",
       "      <td>0.324675</td>\n",
       "      <td>23.857143</td>\n",
       "      <td>0.532468</td>\n",
       "    </tr>\n",
       "    <tr>\n",
       "      <th>std</th>\n",
       "      <td>1.800262</td>\n",
       "      <td>1.789122</td>\n",
       "      <td>1.788453</td>\n",
       "      <td>1.577352</td>\n",
       "      <td>1.653617</td>\n",
       "      <td>1.746102</td>\n",
       "      <td>1.757223</td>\n",
       "      <td>1.639607</td>\n",
       "      <td>1.776373</td>\n",
       "      <td>1.752939</td>\n",
       "      <td>...</td>\n",
       "      <td>1.726418</td>\n",
       "      <td>1.788740</td>\n",
       "      <td>1.653617</td>\n",
       "      <td>1.694146</td>\n",
       "      <td>1.698477</td>\n",
       "      <td>1.555204</td>\n",
       "      <td>1.504947</td>\n",
       "      <td>1.584809</td>\n",
       "      <td>11.758216</td>\n",
       "      <td>0.502217</td>\n",
       "    </tr>\n",
       "    <tr>\n",
       "      <th>min</th>\n",
       "      <td>-1.000000</td>\n",
       "      <td>-1.000000</td>\n",
       "      <td>-1.000000</td>\n",
       "      <td>-1.000000</td>\n",
       "      <td>-1.000000</td>\n",
       "      <td>-1.000000</td>\n",
       "      <td>-1.000000</td>\n",
       "      <td>-1.000000</td>\n",
       "      <td>-1.000000</td>\n",
       "      <td>-1.000000</td>\n",
       "      <td>...</td>\n",
       "      <td>-1.000000</td>\n",
       "      <td>-1.000000</td>\n",
       "      <td>-1.000000</td>\n",
       "      <td>-1.000000</td>\n",
       "      <td>-1.000000</td>\n",
       "      <td>-1.000000</td>\n",
       "      <td>-1.000000</td>\n",
       "      <td>-1.000000</td>\n",
       "      <td>2.000000</td>\n",
       "      <td>0.000000</td>\n",
       "    </tr>\n",
       "    <tr>\n",
       "      <th>25%</th>\n",
       "      <td>-1.000000</td>\n",
       "      <td>-1.000000</td>\n",
       "      <td>-1.000000</td>\n",
       "      <td>-1.000000</td>\n",
       "      <td>-1.000000</td>\n",
       "      <td>-1.000000</td>\n",
       "      <td>-1.000000</td>\n",
       "      <td>-1.000000</td>\n",
       "      <td>-1.000000</td>\n",
       "      <td>-1.000000</td>\n",
       "      <td>...</td>\n",
       "      <td>-1.000000</td>\n",
       "      <td>-1.000000</td>\n",
       "      <td>-1.000000</td>\n",
       "      <td>-1.000000</td>\n",
       "      <td>-1.000000</td>\n",
       "      <td>-1.000000</td>\n",
       "      <td>-1.000000</td>\n",
       "      <td>-1.000000</td>\n",
       "      <td>15.000000</td>\n",
       "      <td>0.000000</td>\n",
       "    </tr>\n",
       "    <tr>\n",
       "      <th>50%</th>\n",
       "      <td>-1.000000</td>\n",
       "      <td>1.000000</td>\n",
       "      <td>-1.000000</td>\n",
       "      <td>1.000000</td>\n",
       "      <td>1.000000</td>\n",
       "      <td>1.000000</td>\n",
       "      <td>1.000000</td>\n",
       "      <td>1.000000</td>\n",
       "      <td>1.000000</td>\n",
       "      <td>1.000000</td>\n",
       "      <td>...</td>\n",
       "      <td>1.000000</td>\n",
       "      <td>-1.000000</td>\n",
       "      <td>1.000000</td>\n",
       "      <td>1.000000</td>\n",
       "      <td>-1.000000</td>\n",
       "      <td>-1.000000</td>\n",
       "      <td>-1.000000</td>\n",
       "      <td>-1.000000</td>\n",
       "      <td>25.000000</td>\n",
       "      <td>1.000000</td>\n",
       "    </tr>\n",
       "    <tr>\n",
       "      <th>75%</th>\n",
       "      <td>2.000000</td>\n",
       "      <td>2.000000</td>\n",
       "      <td>2.000000</td>\n",
       "      <td>2.000000</td>\n",
       "      <td>2.000000</td>\n",
       "      <td>2.000000</td>\n",
       "      <td>2.000000</td>\n",
       "      <td>2.000000</td>\n",
       "      <td>2.000000</td>\n",
       "      <td>2.000000</td>\n",
       "      <td>...</td>\n",
       "      <td>2.000000</td>\n",
       "      <td>2.000000</td>\n",
       "      <td>2.000000</td>\n",
       "      <td>2.000000</td>\n",
       "      <td>2.000000</td>\n",
       "      <td>1.000000</td>\n",
       "      <td>2.000000</td>\n",
       "      <td>2.000000</td>\n",
       "      <td>33.000000</td>\n",
       "      <td>1.000000</td>\n",
       "    </tr>\n",
       "    <tr>\n",
       "      <th>max</th>\n",
       "      <td>4.000000</td>\n",
       "      <td>4.000000</td>\n",
       "      <td>4.000000</td>\n",
       "      <td>4.000000</td>\n",
       "      <td>4.000000</td>\n",
       "      <td>4.000000</td>\n",
       "      <td>4.000000</td>\n",
       "      <td>4.000000</td>\n",
       "      <td>4.000000</td>\n",
       "      <td>4.000000</td>\n",
       "      <td>...</td>\n",
       "      <td>4.000000</td>\n",
       "      <td>4.000000</td>\n",
       "      <td>4.000000</td>\n",
       "      <td>4.000000</td>\n",
       "      <td>4.000000</td>\n",
       "      <td>4.000000</td>\n",
       "      <td>4.000000</td>\n",
       "      <td>4.000000</td>\n",
       "      <td>48.000000</td>\n",
       "      <td>1.000000</td>\n",
       "    </tr>\n",
       "  </tbody>\n",
       "</table>\n",
       "<p>8 rows × 62 columns</p>\n",
       "</div>"
      ],
      "text/plain": [
       "               0          1          2          3          4          5  \\\n",
       "count  77.000000  77.000000  77.000000  77.000000  77.000000  77.000000   \n",
       "mean    0.610390   0.727273   0.545455   0.545455   0.636364   0.714286   \n",
       "std     1.800262   1.789122   1.788453   1.577352   1.653617   1.746102   \n",
       "min    -1.000000  -1.000000  -1.000000  -1.000000  -1.000000  -1.000000   \n",
       "25%    -1.000000  -1.000000  -1.000000  -1.000000  -1.000000  -1.000000   \n",
       "50%    -1.000000   1.000000  -1.000000   1.000000   1.000000   1.000000   \n",
       "75%     2.000000   2.000000   2.000000   2.000000   2.000000   2.000000   \n",
       "max     4.000000   4.000000   4.000000   4.000000   4.000000   4.000000   \n",
       "\n",
       "               6          7          8          9    ...             52  \\\n",
       "count  77.000000  77.000000  77.000000  77.000000    ...      77.000000   \n",
       "mean    0.792208   0.610390   0.636364   0.922078    ...       0.597403   \n",
       "std     1.757223   1.639607   1.776373   1.752939    ...       1.726418   \n",
       "min    -1.000000  -1.000000  -1.000000  -1.000000    ...      -1.000000   \n",
       "25%    -1.000000  -1.000000  -1.000000  -1.000000    ...      -1.000000   \n",
       "50%     1.000000   1.000000   1.000000   1.000000    ...       1.000000   \n",
       "75%     2.000000   2.000000   2.000000   2.000000    ...       2.000000   \n",
       "max     4.000000   4.000000   4.000000   4.000000    ...       4.000000   \n",
       "\n",
       "              53         54         55         56         57         58  \\\n",
       "count  77.000000  77.000000  77.000000  77.000000  77.000000  77.000000   \n",
       "mean    0.467532   0.636364   0.844156   0.493506   0.363636   0.298701   \n",
       "std     1.788740   1.653617   1.694146   1.698477   1.555204   1.504947   \n",
       "min    -1.000000  -1.000000  -1.000000  -1.000000  -1.000000  -1.000000   \n",
       "25%    -1.000000  -1.000000  -1.000000  -1.000000  -1.000000  -1.000000   \n",
       "50%    -1.000000   1.000000   1.000000  -1.000000  -1.000000  -1.000000   \n",
       "75%     2.000000   2.000000   2.000000   2.000000   1.000000   2.000000   \n",
       "max     4.000000   4.000000   4.000000   4.000000   4.000000   4.000000   \n",
       "\n",
       "              59   cesd_sum    biLabel  \n",
       "count  77.000000  77.000000  77.000000  \n",
       "mean    0.324675  23.857143   0.532468  \n",
       "std     1.584809  11.758216   0.502217  \n",
       "min    -1.000000   2.000000   0.000000  \n",
       "25%    -1.000000  15.000000   0.000000  \n",
       "50%    -1.000000  25.000000   1.000000  \n",
       "75%     2.000000  33.000000   1.000000  \n",
       "max     4.000000  48.000000   1.000000  \n",
       "\n",
       "[8 rows x 62 columns]"
      ]
     },
     "execution_count": 1082,
     "metadata": {},
     "output_type": "execute_result"
    }
   ],
   "source": [
    "ValCesd.describe()"
   ]
  }
 ],
 "metadata": {
  "kernelspec": {
   "display_name": "Python 3",
   "language": "python",
   "name": "python3"
  },
  "language_info": {
   "codemirror_mode": {
    "name": "ipython",
    "version": 3
   },
   "file_extension": ".py",
   "mimetype": "text/x-python",
   "name": "python",
   "nbconvert_exporter": "python",
   "pygments_lexer": "ipython3",
   "version": "3.6.1"
  }
 },
 "nbformat": 4,
 "nbformat_minor": 2
}
