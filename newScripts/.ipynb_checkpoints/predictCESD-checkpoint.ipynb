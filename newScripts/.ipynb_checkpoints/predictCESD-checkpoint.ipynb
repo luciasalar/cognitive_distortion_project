{
 "cells": [
  {
   "cell_type": "code",
   "execution_count": 29,
   "metadata": {
    "collapsed": true
   },
   "outputs": [],
   "source": [
    "from sklearn.model_selection import GridSearchCV\n",
    "from imblearn.pipeline import make_pipeline, Pipeline\n",
    "from sklearn.metrics import confusion_matrix, f1_score, precision_score,\\\n",
    "recall_score, confusion_matrix, classification_report, accuracy_score \n",
    "from sklearn.model_selection import GridSearchCV, cross_val_score, StratifiedKFold\n",
    "from sklearn.ensemble import RandomForestClassifier\n",
    "from sklearn.preprocessing import StandardScaler, Normalizer\n",
    "from sklearn import svm\n",
    "from sklearn.model_selection import train_test_split\n",
    "from sklearn.linear_model import SGDClassifier\n",
    "import pandas as pd\n",
    "from sklearn.linear_model import LogisticRegression\n",
    "from sklearn.tree import DecisionTreeClassifier\n",
    "from sklearn.svm import SVC\n",
    "from sklearn.ensemble import VotingClassifier\n",
    "from sklearn.metrics import roc_auc_score\n",
    "import pickle\n"
   ]
  },
  {
   "cell_type": "code",
   "execution_count": 4,
   "metadata": {},
   "outputs": [
    {
     "data": {
      "text/plain": [
       "(74, 62)"
      ]
     },
     "execution_count": 4,
     "metadata": {},
     "output_type": "execute_result"
    }
   ],
   "source": [
    "#merge with CESD\n",
    "cesd = pd.read_csv('../important_data/adjustedCESD.csv')\n",
    "cesdSum = cesd[['userid','cesd_sum']]\n",
    "valenceVec = pd.read_csv('../important_data/ValenceVec_Norm_Clean.csv')\n",
    "ValCesd = pd.merge(valenceVec, cesdSum, how = 'left', on ='userid')\n",
    "#remove duplicate\n",
    "ValCesd = ValCesd.drop_duplicates(subset='userid', keep=\"first\")\n",
    "ValCesd.shape"
   ]
  },
  {
   "cell_type": "markdown",
   "metadata": {},
   "source": [
    "binary classifer, 23 as threadshold"
   ]
  },
  {
   "cell_type": "code",
   "execution_count": null,
   "metadata": {
    "collapsed": true
   },
   "outputs": [],
   "source": []
  },
  {
   "cell_type": "code",
   "execution_count": 5,
   "metadata": {},
   "outputs": [
    {
     "name": "stdout",
     "output_type": "stream",
     "text": [
      "40\n",
      "34\n"
     ]
    }
   ],
   "source": [
    "y = ValCesd[\"cesd_sum\"]\n",
    "X = ValCesd.iloc[:,1:61]\n",
    "def recode(array):\n",
    "    new = []\n",
    "    for num in array:\n",
    "        if num <= 23:\n",
    "            new.append(0)\n",
    "        if num > 23:\n",
    "            new.append(1)\n",
    "    return new\n",
    "        \n",
    "y = recode(y)\n",
    "print(y.count(1))\n",
    "print(y.count(0))"
   ]
  },
  {
   "cell_type": "markdown",
   "metadata": {},
   "source": [
    "Don't scale it, all the features are on the same scale already"
   ]
  },
  {
   "cell_type": "code",
   "execution_count": 6,
   "metadata": {},
   "outputs": [
    {
     "name": "stdout",
     "output_type": "stream",
     "text": [
      "0.6274509803921569\n",
      "{'svc__C': 0.9, 'svc__class_weight': 'balanced', 'svc__gamma': 0.5, 'svc__kernel': 'sigmoid'}\n",
      "              precision    recall  f1-score   support\n",
      "\n",
      "           0       0.35      0.75      0.48         8\n",
      "           1       0.67      0.27      0.38        15\n",
      "\n",
      "   micro avg       0.43      0.43      0.43        23\n",
      "   macro avg       0.51      0.51      0.43        23\n",
      "weighted avg       0.56      0.43      0.42        23\n",
      "\n"
     ]
    },
    {
     "name": "stderr",
     "output_type": "stream",
     "text": [
      "/Users/lucia/anaconda3/lib/python3.6/site-packages/sklearn/model_selection/_search.py:841: DeprecationWarning: The default of the `iid` parameter will change from True to False in version 0.22 and will be removed in 0.24. This will change numeric results when test-set sizes are unequal.\n",
      "  DeprecationWarning)\n"
     ]
    }
   ],
   "source": [
    "#SVM\n",
    "X_train, X_test, y_train, y_test = train_test_split(X, y, test_size=0.30, random_state = 70)\n",
    "cv = StratifiedKFold(n_splits=3, random_state = 0)\n",
    "svc = make_pipeline(svm.SVC())\n",
    "parameters = [{'svc__kernel': ['linear', 'poly', 'rbf', 'sigmoid'], 'svc__gamma': [0.5,0.1, 0.01,0.001, 0.0001],\n",
    "                     'svc__C':[0.1, 0.3, 0.5, 0.7, 0.9, 1.0, 1.5, 2.0, 10] , 'svc__class_weight':['balanced']}]\n",
    "\n",
    "grid_search_item = GridSearchCV(svc,\n",
    "                          param_grid = parameters,\n",
    "                           cv = cv,\n",
    "                           scoring = 'accuracy',\n",
    "                           n_jobs = -1)\n",
    "grid_searchSVC = grid_search_item.fit(X_train, y_train)\n",
    "\n",
    "print(grid_searchSVC.best_score_)\n",
    "print(grid_searchSVC.best_params_)\n",
    "\n",
    "means = grid_searchSVC.cv_results_['mean_test_score']\n",
    "stds = grid_searchSVC.cv_results_['std_test_score']\n",
    "params = grid_searchSVC.cv_results_['params']\n",
    "\n",
    "y_true, y_pred = y_test, grid_searchSVC.predict(X_test)\n",
    "print(classification_report(y_true, y_pred))"
   ]
  },
  {
   "cell_type": "code",
   "execution_count": 15,
   "metadata": {},
   "outputs": [
    {
     "name": "stdout",
     "output_type": "stream",
     "text": [
      "0.6274509803921569\n",
      "{'sgdclassifier__alpha': 0.05, 'sgdclassifier__class_weight': 'balanced', 'sgdclassifier__loss': 'hinge', 'sgdclassifier__penalty': 'none'}\n",
      "              precision    recall  f1-score   support\n",
      "\n",
      "           0       0.44      0.50      0.47         8\n",
      "           1       0.71      0.67      0.69        15\n",
      "\n",
      "   micro avg       0.61      0.61      0.61        23\n",
      "   macro avg       0.58      0.58      0.58        23\n",
      "weighted avg       0.62      0.61      0.61        23\n",
      "\n"
     ]
    },
    {
     "name": "stderr",
     "output_type": "stream",
     "text": [
      "/Users/lucia/anaconda3/lib/python3.6/site-packages/sklearn/model_selection/_search.py:841: DeprecationWarning: The default of the `iid` parameter will change from True to False in version 0.22 and will be removed in 0.24. This will change numeric results when test-set sizes are unequal.\n",
      "  DeprecationWarning)\n",
      "/Users/lucia/anaconda3/lib/python3.6/site-packages/sklearn/preprocessing/data.py:625: DataConversionWarning: Data with input dtype int64 were all converted to float64 by StandardScaler.\n",
      "  return self.partial_fit(X, y)\n",
      "/Users/lucia/anaconda3/lib/python3.6/site-packages/sklearn/base.py:465: DataConversionWarning: Data with input dtype int64 were all converted to float64 by StandardScaler.\n",
      "  return self.fit(X, y, **fit_params).transform(X)\n",
      "/Users/lucia/anaconda3/lib/python3.6/site-packages/sklearn/linear_model/stochastic_gradient.py:183: FutureWarning: max_iter and tol parameters have been added in SGDClassifier in 0.19. If max_iter is set but tol is left unset, the default value for tol in 0.19 and 0.20 will be None (which is equivalent to -infinity, so it has no effect) but will change in 0.21 to 1e-3. Specify tol to silence this warning.\n",
      "  FutureWarning)\n",
      "/Users/lucia/anaconda3/lib/python3.6/site-packages/imblearn/pipeline.py:349: DataConversionWarning: Data with input dtype int64 were all converted to float64 by StandardScaler.\n",
      "  Xt = transform.transform(Xt)\n"
     ]
    }
   ],
   "source": [
    "#SGD\n",
    "clf = make_pipeline(StandardScaler(),SGDClassifier(max_iter= 1000, random_state = 2))\n",
    "parameters = [{'sgdclassifier__alpha': [0.001, 0.01, 0.05, 0.001, 0.005], 'sgdclassifier__class_weight':['balanced'],\n",
    "              'sgdclassifier__loss': ['hinge','log','modified_huber','squared_hinge', 'perceptron'], \n",
    "               'sgdclassifier__penalty':['none','l1','l2']}]\n",
    "grid_search_item = GridSearchCV(clf,\n",
    "                          param_grid = parameters,\n",
    "                           cv = cv,\n",
    "                           scoring = 'accuracy',\n",
    "                           n_jobs = -1)\n",
    "grid_search = grid_search_item.fit(X_train, y_train)\n",
    "\n",
    "print(grid_search.best_score_)\n",
    "print(grid_search.best_params_)\n",
    "\n",
    "means = grid_search.cv_results_['mean_test_score']\n",
    "stds = grid_search.cv_results_['std_test_score']\n",
    "params = grid_search.cv_results_['params']\n",
    "\n",
    "y_true, y_pred = y_test, grid_search.predict(X_test)\n",
    "print(classification_report(y_true, y_pred))"
   ]
  },
  {
   "cell_type": "code",
   "execution_count": 8,
   "metadata": {},
   "outputs": [
    {
     "name": "stdout",
     "output_type": "stream",
     "text": [
      "0.5490196078431373\n",
      "{'algorithm': 'SAMME', 'learning_rate': 2.0, 'n_estimators': 50, 'random_state': 100}\n",
      "              precision    recall  f1-score   support\n",
      "\n",
      "           0       0.33      0.50      0.40         8\n",
      "           1       0.64      0.47      0.54        15\n",
      "\n",
      "   micro avg       0.48      0.48      0.48        23\n",
      "   macro avg       0.48      0.48      0.47        23\n",
      "weighted avg       0.53      0.48      0.49        23\n",
      "\n"
     ]
    },
    {
     "name": "stderr",
     "output_type": "stream",
     "text": [
      "/Users/lucia/anaconda3/lib/python3.6/site-packages/sklearn/model_selection/_search.py:841: DeprecationWarning: The default of the `iid` parameter will change from True to False in version 0.22 and will be removed in 0.24. This will change numeric results when test-set sizes are unequal.\n",
      "  DeprecationWarning)\n"
     ]
    }
   ],
   "source": [
    "#boosting\n",
    "from sklearn import model_selection\n",
    "from sklearn.ensemble import AdaBoostClassifier\n",
    "Ada = AdaBoostClassifier()\n",
    "parameters = [{'algorithm': ['SAMME', 'SAMME.R'], 'n_estimators': [50,100,150,200],\n",
    "                     'learning_rate':[1.0, 1.5, 2.0, 2.5, 3.0],'random_state':[100]}]\n",
    "\n",
    "grid_search_item = GridSearchCV(Ada,\n",
    "                          param_grid = parameters,\n",
    "                           cv = cv,\n",
    "                           scoring = 'accuracy',\n",
    "                           n_jobs = -1)\n",
    "grid_search = grid_search_item.fit(X_train, y_train)\n",
    "\n",
    "print(grid_search.best_score_)\n",
    "print(grid_search.best_params_)\n",
    "\n",
    "means = grid_search.cv_results_['mean_test_score']\n",
    "stds = grid_search.cv_results_['std_test_score']\n",
    "params = grid_search.cv_results_['params']\n",
    "\n",
    "y_true, y_pred = y_test, grid_search.predict(X_test)\n",
    "print(classification_report(y_true, y_pred))\n"
   ]
  },
  {
   "cell_type": "code",
   "execution_count": 10,
   "metadata": {},
   "outputs": [
    {
     "name": "stdout",
     "output_type": "stream",
     "text": [
      "0.5098039215686274\n",
      "{'learning_rate': 1.0, 'max_depth': 4, 'n_estimators': 50, 'random_state': 100}\n",
      "              precision    recall  f1-score   support\n",
      "\n",
      "           0       0.29      0.50      0.36         8\n",
      "           1       0.56      0.33      0.42        15\n",
      "\n",
      "   micro avg       0.39      0.39      0.39        23\n",
      "   macro avg       0.42      0.42      0.39        23\n",
      "weighted avg       0.46      0.39      0.40        23\n",
      "\n"
     ]
    },
    {
     "name": "stderr",
     "output_type": "stream",
     "text": [
      "/Users/lucia/anaconda3/lib/python3.6/site-packages/sklearn/model_selection/_search.py:841: DeprecationWarning: The default of the `iid` parameter will change from True to False in version 0.22 and will be removed in 0.24. This will change numeric results when test-set sizes are unequal.\n",
      "  DeprecationWarning)\n"
     ]
    }
   ],
   "source": [
    "from sklearn.ensemble import GradientBoostingClassifier\n",
    "gbc = GradientBoostingClassifier()\n",
    "parameters = [{'max_depth': [1,2,3,4,5], 'n_estimators': [50,100,150,200],\n",
    "                     'learning_rate':[1.0, 1.5, 2.0, 2.5, 3.0],'random_state':[100]}]\n",
    "grid_search_item = GridSearchCV(gbc,\n",
    "                          param_grid = parameters,\n",
    "                           cv = cv,\n",
    "                           scoring = 'accuracy',\n",
    "                           n_jobs = -1)\n",
    "grid_search = grid_search_item.fit(X_train, y_train)\n",
    "\n",
    "print(grid_search.best_score_)\n",
    "print(grid_search.best_params_)\n",
    "\n",
    "means = grid_search.cv_results_['mean_test_score']\n",
    "stds = grid_search.cv_results_['std_test_score']\n",
    "params = grid_search.cv_results_['params']\n",
    "\n",
    "y_true, y_pred = y_test, grid_search.predict(X_test)\n",
    "print(classification_report(y_true, y_pred))"
   ]
  },
  {
   "cell_type": "code",
   "execution_count": 14,
   "metadata": {},
   "outputs": [
    {
     "name": "stdout",
     "output_type": "stream",
     "text": [
      "ROC is 0.5375\n",
      "              precision    recall  f1-score   support\n",
      "\n",
      "           0       0.37      0.88      0.52         8\n",
      "           1       0.75      0.20      0.32        15\n",
      "\n",
      "   micro avg       0.43      0.43      0.43        23\n",
      "   macro avg       0.56      0.54      0.42        23\n",
      "weighted avg       0.62      0.43      0.39        23\n",
      "\n"
     ]
    },
    {
     "name": "stderr",
     "output_type": "stream",
     "text": [
      "/Users/lucia/anaconda3/lib/python3.6/site-packages/sklearn/linear_model/stochastic_gradient.py:166: FutureWarning: max_iter and tol parameters have been added in SGDClassifier in 0.19. If both are left unset, they default to max_iter=5 and tol=None. If tol is not None, max_iter defaults to max_iter=1000. From 0.21, default max_iter will be 1000, and default tol will be 1e-3.\n",
      "  FutureWarning)\n"
     ]
    },
    {
     "data": {
      "text/plain": [
       "array([[ 7,  1],\n",
       "       [12,  3]])"
      ]
     },
     "execution_count": 14,
     "metadata": {},
     "output_type": "execute_result"
    }
   ],
   "source": [
    "#ensemble voting\n",
    "\n",
    "estimators = []\n",
    "\n",
    "model3 = svm.SVC(C = 0.9, kernel  = 'sigmoid', gamma =0.5,class_weight = 'balanced', random_state=300)\n",
    "estimators.append(('svm', model3))\n",
    "model2 = SGDClassifier(alpha = 0.05, class_weight = 'balanced', loss = 'hinge', penalty = 'none', random_state = 2)\n",
    "estimators.append(('logistic', model2))\n",
    "model1 = GradientBoostingClassifier(max_depth= 4, learning_rate= 1.0, n_estimators= 50, random_state= 100)\n",
    "estimators.append(('gbc', model1))\n",
    "model4 = AdaBoostClassifier(algorithm= 'SAMME', learning_rate= 2.0, n_estimators= 50, random_state= 100)\n",
    "estimators.append(('ada', model4))\n",
    "\n",
    "ensemble = VotingClassifier(estimators)\n",
    "eclf1 = ensemble.fit(X_train, y_train)\n",
    "y_pred = eclf1.predict(X_test)\n",
    "print('ROC is {}'. format(roc_auc_score(y_test, y_pred)))\n",
    "print(classification_report(y_test, y_pred))\n",
    "confusion_matrix(y_test, y_pred)\n"
   ]
  },
  {
   "cell_type": "markdown",
   "metadata": {},
   "source": [
    "Ensemble classfier won't work because the classifers in our case does not produce results that compensate each other, so we can adopt svm only\n",
    "\n",
    "ROC AUC score A perfect classifier will have a ROC AUC equal to 1, whereas a purely random classifier will have a ROC AUC equal to 0.5.\n",
    "\n",
    "Here we use the SGD model"
   ]
  },
  {
   "cell_type": "code",
   "execution_count": 16,
   "metadata": {},
   "outputs": [
    {
     "name": "stdout",
     "output_type": "stream",
     "text": [
      "[0.  0.5 1. ] [0.         0.66666667 1.        ] [2 1 0]\n"
     ]
    },
    {
     "data": {
      "image/png": "[encoded data removed]",
      "text/plain": [
       "<matplotlib.figure.Figure at 0x1a2507c6a0>"
      ]
     },
     "metadata": {},
     "output_type": "display_data"
    }
   ],
   "source": [
    "from sklearn.metrics import roc_curve\n",
    "import matplotlib.pyplot as plt\n",
    "fpr, tpr, thresholds = roc_curve(y_true, y_pred)\n",
    "print(fpr, tpr, thresholds)\n",
    "def plot_roc_curve(fpr, tpr, label=None): \n",
    "    plt.plot(fpr, tpr, linewidth=2, label=label) \n",
    "    plt.plot([0, 1], [0, 1], 'k--') \n",
    "    plt.axis([0, 1, 0, 1])\n",
    "    plt.xlabel('False Positive Rate') \n",
    "    plt.ylabel('True Positive Rate')\n",
    "plot_roc_curve(fpr, tpr) \n",
    "plt.show()"
   ]
  },
  {
   "cell_type": "code",
   "execution_count": 24,
   "metadata": {},
   "outputs": [
    {
     "name": "stdout",
     "output_type": "stream",
     "text": [
      "[1, 0, 1, 0, 1, 1, 1, 1, 1, 0, 0, 1, 0, 1, 1, 0, 1, 1, 1, 0, 1, 0, 1]\n",
      "[1 0 1 1 1 1 0 1 1 0 0 1 0 0 1 1 0 1 0 1 1 1 0]\n"
     ]
    }
   ],
   "source": [
    "print(y_true)\n",
    "print(y_pred)"
   ]
  },
  {
   "cell_type": "code",
   "execution_count": 25,
   "metadata": {
    "collapsed": true
   },
   "outputs": [],
   "source": [
    "#select cases in the test set\n",
    "indexes = X_test.index.values\n",
    "TestVal = ValCesd.loc[indexes]\n",
    "TestVal['labels'] = y_test\n",
    "TestVal['prelabels'] = y_pred"
   ]
  },
  {
   "cell_type": "code",
   "execution_count": null,
   "metadata": {
    "collapsed": true
   },
   "outputs": [],
   "source": [
    "TestVal.to_csv('preEvaluate.csv')"
   ]
  },
  {
   "cell_type": "markdown",
   "metadata": {},
   "source": [
    "Let's see what features the classifer capture"
   ]
  },
  {
   "cell_type": "code",
   "execution_count": 26,
   "metadata": {},
   "outputs": [
    {
     "data": {
      "text/plain": [
       "array([[ 4,  4],\n",
       "       [ 5, 10]])"
      ]
     },
     "execution_count": 26,
     "metadata": {},
     "output_type": "execute_result"
    }
   ],
   "source": [
    "confusion_matrix(y_test, y_pred)"
   ]
  },
  {
   "cell_type": "code",
   "execution_count": 27,
   "metadata": {},
   "outputs": [
    {
     "data": {
      "text/html": [
       "<div>\n",
       "<style>\n",
       "    .dataframe thead tr:only-child th {\n",
       "        text-align: right;\n",
       "    }\n",
       "\n",
       "    .dataframe thead th {\n",
       "        text-align: left;\n",
       "    }\n",
       "\n",
       "    .dataframe tbody tr th {\n",
       "        vertical-align: top;\n",
       "    }\n",
       "</style>\n",
       "<table border=\"1\" class=\"dataframe\">\n",
       "  <thead>\n",
       "    <tr style=\"text-align: right;\">\n",
       "      <th></th>\n",
       "      <th>userid</th>\n",
       "      <th>0</th>\n",
       "      <th>1</th>\n",
       "      <th>2</th>\n",
       "      <th>3</th>\n",
       "      <th>4</th>\n",
       "      <th>5</th>\n",
       "      <th>6</th>\n",
       "      <th>7</th>\n",
       "      <th>8</th>\n",
       "      <th>...</th>\n",
       "      <th>53</th>\n",
       "      <th>54</th>\n",
       "      <th>55</th>\n",
       "      <th>56</th>\n",
       "      <th>57</th>\n",
       "      <th>58</th>\n",
       "      <th>59</th>\n",
       "      <th>cesd_sum</th>\n",
       "      <th>labels</th>\n",
       "      <th>prelabels</th>\n",
       "    </tr>\n",
       "  </thead>\n",
       "  <tbody>\n",
       "    <tr>\n",
       "      <th>14</th>\n",
       "      <td>db7f1b0130b2138e13b7bbca9cc63823</td>\n",
       "      <td>2</td>\n",
       "      <td>-1</td>\n",
       "      <td>2</td>\n",
       "      <td>-1</td>\n",
       "      <td>-1</td>\n",
       "      <td>2</td>\n",
       "      <td>1</td>\n",
       "      <td>2</td>\n",
       "      <td>-1</td>\n",
       "      <td>...</td>\n",
       "      <td>4</td>\n",
       "      <td>-1</td>\n",
       "      <td>-1</td>\n",
       "      <td>-1</td>\n",
       "      <td>1</td>\n",
       "      <td>-1</td>\n",
       "      <td>-1</td>\n",
       "      <td>14</td>\n",
       "      <td>0</td>\n",
       "      <td>0</td>\n",
       "    </tr>\n",
       "    <tr>\n",
       "      <th>29</th>\n",
       "      <td>a7a3af125074cb806a200f51ea7e10bf</td>\n",
       "      <td>2</td>\n",
       "      <td>2</td>\n",
       "      <td>-1</td>\n",
       "      <td>-1</td>\n",
       "      <td>-1</td>\n",
       "      <td>-1</td>\n",
       "      <td>-1</td>\n",
       "      <td>2</td>\n",
       "      <td>-1</td>\n",
       "      <td>...</td>\n",
       "      <td>-1</td>\n",
       "      <td>2</td>\n",
       "      <td>-1</td>\n",
       "      <td>-1</td>\n",
       "      <td>-1</td>\n",
       "      <td>-1</td>\n",
       "      <td>2</td>\n",
       "      <td>38</td>\n",
       "      <td>1</td>\n",
       "      <td>1</td>\n",
       "    </tr>\n",
       "    <tr>\n",
       "      <th>3</th>\n",
       "      <td>f49956142aab2ad74decfd49a103c2f1</td>\n",
       "      <td>-1</td>\n",
       "      <td>-1</td>\n",
       "      <td>-1</td>\n",
       "      <td>2</td>\n",
       "      <td>1</td>\n",
       "      <td>4</td>\n",
       "      <td>2</td>\n",
       "      <td>2</td>\n",
       "      <td>-1</td>\n",
       "      <td>...</td>\n",
       "      <td>4</td>\n",
       "      <td>4</td>\n",
       "      <td>-1</td>\n",
       "      <td>1</td>\n",
       "      <td>1</td>\n",
       "      <td>2</td>\n",
       "      <td>-1</td>\n",
       "      <td>21</td>\n",
       "      <td>0</td>\n",
       "      <td>1</td>\n",
       "    </tr>\n",
       "    <tr>\n",
       "      <th>5</th>\n",
       "      <td>f358b75c71d85c91ec0452c6114e3b15</td>\n",
       "      <td>-1</td>\n",
       "      <td>2</td>\n",
       "      <td>2</td>\n",
       "      <td>1</td>\n",
       "      <td>-1</td>\n",
       "      <td>2</td>\n",
       "      <td>-1</td>\n",
       "      <td>2</td>\n",
       "      <td>-1</td>\n",
       "      <td>...</td>\n",
       "      <td>2</td>\n",
       "      <td>-1</td>\n",
       "      <td>2</td>\n",
       "      <td>-1</td>\n",
       "      <td>-1</td>\n",
       "      <td>-1</td>\n",
       "      <td>-1</td>\n",
       "      <td>26</td>\n",
       "      <td>1</td>\n",
       "      <td>1</td>\n",
       "    </tr>\n",
       "  </tbody>\n",
       "</table>\n",
       "<p>4 rows × 64 columns</p>\n",
       "</div>"
      ],
      "text/plain": [
       "                              userid  0  1  2  3  4  5  6  7  8    ...      \\\n",
       "14  db7f1b0130b2138e13b7bbca9cc63823  2 -1  2 -1 -1  2  1  2 -1    ...       \n",
       "29  a7a3af125074cb806a200f51ea7e10bf  2  2 -1 -1 -1 -1 -1  2 -1    ...       \n",
       "3   f49956142aab2ad74decfd49a103c2f1 -1 -1 -1  2  1  4  2  2 -1    ...       \n",
       "5   f358b75c71d85c91ec0452c6114e3b15 -1  2  2  1 -1  2 -1  2 -1    ...       \n",
       "\n",
       "    53  54  55  56  57  58  59  cesd_sum  labels  prelabels  \n",
       "14   4  -1  -1  -1   1  -1  -1        14       0          0  \n",
       "29  -1   2  -1  -1  -1  -1   2        38       1          1  \n",
       "3    4   4  -1   1   1   2  -1        21       0          1  \n",
       "5    2  -1   2  -1  -1  -1  -1        26       1          1  \n",
       "\n",
       "[4 rows x 64 columns]"
      ]
     },
     "execution_count": 27,
     "metadata": {},
     "output_type": "execute_result"
    }
   ],
   "source": [
    "TestVal[1:5]"
   ]
  },
  {
   "cell_type": "code",
   "execution_count": 30,
   "metadata": {},
   "outputs": [],
   "source": [
    "with open('./moodVectors/MoodVecDes1.pickle', 'rb') as handle:\n",
    "    users = pickle.load(handle)"
   ]
  },
  {
   "cell_type": "code",
   "execution_count": 38,
   "metadata": {},
   "outputs": [
    {
     "name": "stdout",
     "output_type": "stream",
     "text": [
      "user 1789589a6d2bba0f09d768f8f3445be5 has 30 empty days, 18 negative days, 8 positive days and 4 neutral days\n",
      "user a7a3af125074cb806a200f51ea7e10bf has 37 empty days, 0 negative days, 22 positive days and 1 neutral days\n",
      "user f49956142aab2ad74decfd49a103c2f1 has 29 empty days, 11 negative days, 13 positive days and 7 neutral days\n",
      "user f358b75c71d85c91ec0452c6114e3b15 has 28 empty days, 7 negative days, 20 positive days and 3 neutral days\n",
      "user 5c31d7d80e78643cd5289acec0561d77 has 43 empty days, 8 negative days, 5 positive days and 4 neutral days\n",
      "user 8c393982479748c5a53acaa7a3717c71 has 4 empty days, 35 negative days, 16 positive days and 0 neutral days\n",
      "user e076953cd3fcf8927b8f21574c0890f3 has 27 empty days, 9 negative days, 16 positive days and 7 neutral days\n",
      "user 088bf0ed841bcc366475b3975eb1b9d2 has 37 empty days, 11 negative days, 10 positive days and 2 neutral days\n",
      "user 4104c0b8700d519d1661c8a59b065363 has 35 empty days, 9 negative days, 8 positive days and 7 neutral days\n",
      "user 193165601dfad67e79ef52b2caf9fd9e has 43 empty days, 6 negative days, 10 positive days and 0 neutral days\n",
      "user b15cf300b5693210682e36cfe5f9789b has 30 empty days, 13 negative days, 12 positive days and 5 neutral days\n",
      "user cea00424ced413c108d878b1a14f3316 has 29 empty days, 6 negative days, 17 positive days and 8 neutral days\n",
      "user 009d96a823b6f6c085c092fb177491f6 has 30 empty days, 12 negative days, 12 positive days and 5 neutral days\n",
      "user 8b6ceafaf2ea6bd34f26ff463156363c has 39 empty days, 7 negative days, 13 positive days and 1 neutral days\n"
     ]
    }
   ],
   "source": [
    "from collections import Counter\n",
    "def DescribeUserVecTestSet(labelClass):\n",
    "    highDep = []\n",
    "    for userid, labels, prelabels in zip(TestVal['userid'],TestVal['labels'],TestVal['prelabels']):\n",
    "    #     print(userid, labels, prelabels)\n",
    "        if prelabels == labelClass:\n",
    "            highDep.append(userid)\n",
    "\n",
    "    for userid in highDep:\n",
    "        print('user {} has {} empty days, {} negative days, {} positive days and {} neutral days'.format(userid, users[userid].count(-1), users[userid].count(1), users[userid].count(2), users[userid].count(4)))\n",
    "    \n",
    "    \n",
    "#Here we see the prediction labels: high group vectors\n",
    "DescribeUserVecTestSet(1)"
   ]
  },
  {
   "cell_type": "code",
   "execution_count": 33,
   "metadata": {},
   "outputs": [],
   "source": [
    "TestVal['labels'] = y_test\n",
    "def DescribeUserVecTestSet(labelClass):\n",
    "    highDep = []\n",
    "    for userid, labels, prelabels in zip(TestVal['userid'],TestVal['labels'],TestVal['prelabels']):\n",
    "    #     print(userid, labels, prelabels)\n",
    "        if labels == labelClass:\n",
    "            highDep.append(userid)\n",
    "\n",
    "    for userid in highDep:\n",
    "        print('user {} has {} empty days, {} negative days, {} positive days and {} neutral days'.format(userid, users[userid].count(-1), users[userid].count(1), users[userid].count(2), users[userid].count(4)))\n",
    "    \n",
    "\n",
    "#Here we see the prediction labels: high group vectors\n"
   ]
  },
  {
   "cell_type": "code",
   "execution_count": 34,
   "metadata": {},
   "outputs": [
    {
     "name": "stdout",
     "output_type": "stream",
     "text": [
      "user 1789589a6d2bba0f09d768f8f3445be5 has 30 empty days, 18 negative days, 8 positive days and 4 neutral days\n",
      "user a7a3af125074cb806a200f51ea7e10bf has 37 empty days, 0 negative days, 22 positive days and 1 neutral days\n",
      "user f358b75c71d85c91ec0452c6114e3b15 has 28 empty days, 7 negative days, 20 positive days and 3 neutral days\n",
      "user 5c31d7d80e78643cd5289acec0561d77 has 43 empty days, 8 negative days, 5 positive days and 4 neutral days\n",
      "user 3e6f69fc89da71e8237c717ac218677b has 42 empty days, 10 negative days, 5 positive days and 3 neutral days\n",
      "user 8c393982479748c5a53acaa7a3717c71 has 4 empty days, 35 negative days, 16 positive days and 0 neutral days\n",
      "user e076953cd3fcf8927b8f21574c0890f3 has 27 empty days, 9 negative days, 16 positive days and 7 neutral days\n",
      "user 088bf0ed841bcc366475b3975eb1b9d2 has 37 empty days, 11 negative days, 10 positive days and 2 neutral days\n",
      "user 0b12516100c16f779b152858619786ff has 24 empty days, 15 negative days, 19 positive days and 2 neutral days\n",
      "user 4104c0b8700d519d1661c8a59b065363 has 35 empty days, 9 negative days, 8 positive days and 7 neutral days\n",
      "user 87ab3ba2cf5dd6ef4f4807a754dd968b has 41 empty days, 11 negative days, 2 positive days and 6 neutral days\n",
      "user b15cf300b5693210682e36cfe5f9789b has 30 empty days, 13 negative days, 12 positive days and 5 neutral days\n",
      "user ec3dc451b8a811f05ace158a0d76e32e has 43 empty days, 9 negative days, 2 positive days and 6 neutral days\n",
      "user 009d96a823b6f6c085c092fb177491f6 has 30 empty days, 12 negative days, 12 positive days and 5 neutral days\n",
      "user 6262f9ea246e00408561aa9a73c49175 has 7 empty days, 4 negative days, 46 positive days and 2 neutral days\n",
      "--------here shows the stats for label class-----------------\n"
     ]
    }
   ],
   "source": [
    "#high group\n",
    "DescribeUserVecTestSet(1)"
   ]
  },
  {
   "cell_type": "code",
   "execution_count": 35,
   "metadata": {},
   "outputs": [
    {
     "name": "stdout",
     "output_type": "stream",
     "text": [
      "user db7f1b0130b2138e13b7bbca9cc63823 has 28 empty days, 14 negative days, 11 positive days and 7 neutral days\n",
      "user f49956142aab2ad74decfd49a103c2f1 has 29 empty days, 11 negative days, 13 positive days and 7 neutral days\n",
      "user aed86a3085a364f5484679649f064467 has 30 empty days, 6 negative days, 18 positive days and 6 neutral days\n",
      "user 66495ec54feb9e2399db05a67a80f2c6 has 37 empty days, 4 negative days, 18 positive days and 0 neutral days\n",
      "user 4764518d32334248e6ebbf681a18fd0c has 12 empty days, 28 negative days, 14 positive days and 4 neutral days\n",
      "user 193165601dfad67e79ef52b2caf9fd9e has 43 empty days, 6 negative days, 10 positive days and 0 neutral days\n",
      "user cea00424ced413c108d878b1a14f3316 has 29 empty days, 6 negative days, 17 positive days and 8 neutral days\n",
      "user 8b6ceafaf2ea6bd34f26ff463156363c has 39 empty days, 7 negative days, 13 positive days and 1 neutral days\n",
      "--------here shows the stats for label class-----------------\n"
     ]
    }
   ],
   "source": [
    "#low group\n",
    "DescribeUserVecTestSet(0)"
   ]
  },
  {
   "cell_type": "markdown",
   "metadata": {},
   "source": [
    "In the test set, we can see that people in the high group are indeed have more positive days and less empty days in general, the classifer capture the right information"
   ]
  },
  {
   "cell_type": "code",
   "execution_count": 37,
   "metadata": {},
   "outputs": [
    {
     "data": {
      "text/html": [
       "<div>\n",
       "<style>\n",
       "    .dataframe thead tr:only-child th {\n",
       "        text-align: right;\n",
       "    }\n",
       "\n",
       "    .dataframe thead th {\n",
       "        text-align: left;\n",
       "    }\n",
       "\n",
       "    .dataframe tbody tr th {\n",
       "        vertical-align: top;\n",
       "    }\n",
       "</style>\n",
       "<table border=\"1\" class=\"dataframe\">\n",
       "  <thead>\n",
       "    <tr style=\"text-align: right;\">\n",
       "      <th></th>\n",
       "      <th>0</th>\n",
       "      <th>1</th>\n",
       "      <th>2</th>\n",
       "      <th>3</th>\n",
       "      <th>4</th>\n",
       "      <th>5</th>\n",
       "      <th>6</th>\n",
       "      <th>7</th>\n",
       "      <th>8</th>\n",
       "      <th>9</th>\n",
       "      <th>...</th>\n",
       "      <th>52</th>\n",
       "      <th>53</th>\n",
       "      <th>54</th>\n",
       "      <th>55</th>\n",
       "      <th>56</th>\n",
       "      <th>57</th>\n",
       "      <th>58</th>\n",
       "      <th>59</th>\n",
       "      <th>cesd_sum</th>\n",
       "      <th>biLabel</th>\n",
       "    </tr>\n",
       "  </thead>\n",
       "  <tbody>\n",
       "    <tr>\n",
       "      <th>count</th>\n",
       "      <td>74.000000</td>\n",
       "      <td>74.000000</td>\n",
       "      <td>74.000000</td>\n",
       "      <td>74.000000</td>\n",
       "      <td>74.000000</td>\n",
       "      <td>74.000000</td>\n",
       "      <td>74.000000</td>\n",
       "      <td>74.000000</td>\n",
       "      <td>74.000000</td>\n",
       "      <td>74.000000</td>\n",
       "      <td>...</td>\n",
       "      <td>74.000000</td>\n",
       "      <td>74.000000</td>\n",
       "      <td>74.000000</td>\n",
       "      <td>74.000000</td>\n",
       "      <td>74.000000</td>\n",
       "      <td>74.000000</td>\n",
       "      <td>74.000000</td>\n",
       "      <td>74.000000</td>\n",
       "      <td>74.000000</td>\n",
       "      <td>74.000000</td>\n",
       "    </tr>\n",
       "    <tr>\n",
       "      <th>mean</th>\n",
       "      <td>0.459459</td>\n",
       "      <td>0.662162</td>\n",
       "      <td>0.405405</td>\n",
       "      <td>0.405405</td>\n",
       "      <td>0.648649</td>\n",
       "      <td>0.567568</td>\n",
       "      <td>0.756757</td>\n",
       "      <td>0.554054</td>\n",
       "      <td>0.635135</td>\n",
       "      <td>0.864865</td>\n",
       "      <td>...</td>\n",
       "      <td>0.594595</td>\n",
       "      <td>0.391892</td>\n",
       "      <td>0.621622</td>\n",
       "      <td>0.851351</td>\n",
       "      <td>0.310811</td>\n",
       "      <td>0.310811</td>\n",
       "      <td>0.256757</td>\n",
       "      <td>0.364865</td>\n",
       "      <td>24.094595</td>\n",
       "      <td>0.540541</td>\n",
       "    </tr>\n",
       "    <tr>\n",
       "      <th>std</th>\n",
       "      <td>1.563182</td>\n",
       "      <td>1.657503</td>\n",
       "      <td>1.560812</td>\n",
       "      <td>1.423087</td>\n",
       "      <td>1.591350</td>\n",
       "      <td>1.553441</td>\n",
       "      <td>1.653645</td>\n",
       "      <td>1.518307</td>\n",
       "      <td>1.724714</td>\n",
       "      <td>1.616052</td>\n",
       "      <td>...</td>\n",
       "      <td>1.703493</td>\n",
       "      <td>1.694613</td>\n",
       "      <td>1.585056</td>\n",
       "      <td>1.669078</td>\n",
       "      <td>1.403769</td>\n",
       "      <td>1.451741</td>\n",
       "      <td>1.414802</td>\n",
       "      <td>1.635014</td>\n",
       "      <td>11.863573</td>\n",
       "      <td>0.501756</td>\n",
       "    </tr>\n",
       "    <tr>\n",
       "      <th>min</th>\n",
       "      <td>-1.000000</td>\n",
       "      <td>-1.000000</td>\n",
       "      <td>-1.000000</td>\n",
       "      <td>-1.000000</td>\n",
       "      <td>-1.000000</td>\n",
       "      <td>-1.000000</td>\n",
       "      <td>-1.000000</td>\n",
       "      <td>-1.000000</td>\n",
       "      <td>-1.000000</td>\n",
       "      <td>-1.000000</td>\n",
       "      <td>...</td>\n",
       "      <td>-1.000000</td>\n",
       "      <td>-1.000000</td>\n",
       "      <td>-1.000000</td>\n",
       "      <td>-1.000000</td>\n",
       "      <td>-1.000000</td>\n",
       "      <td>-1.000000</td>\n",
       "      <td>-1.000000</td>\n",
       "      <td>-1.000000</td>\n",
       "      <td>2.000000</td>\n",
       "      <td>0.000000</td>\n",
       "    </tr>\n",
       "    <tr>\n",
       "      <th>25%</th>\n",
       "      <td>-1.000000</td>\n",
       "      <td>-1.000000</td>\n",
       "      <td>-1.000000</td>\n",
       "      <td>-1.000000</td>\n",
       "      <td>-1.000000</td>\n",
       "      <td>-1.000000</td>\n",
       "      <td>-1.000000</td>\n",
       "      <td>-1.000000</td>\n",
       "      <td>-1.000000</td>\n",
       "      <td>-1.000000</td>\n",
       "      <td>...</td>\n",
       "      <td>-1.000000</td>\n",
       "      <td>-1.000000</td>\n",
       "      <td>-1.000000</td>\n",
       "      <td>-1.000000</td>\n",
       "      <td>-1.000000</td>\n",
       "      <td>-1.000000</td>\n",
       "      <td>-1.000000</td>\n",
       "      <td>-1.000000</td>\n",
       "      <td>15.000000</td>\n",
       "      <td>0.000000</td>\n",
       "    </tr>\n",
       "    <tr>\n",
       "      <th>50%</th>\n",
       "      <td>1.000000</td>\n",
       "      <td>1.000000</td>\n",
       "      <td>0.000000</td>\n",
       "      <td>1.000000</td>\n",
       "      <td>1.000000</td>\n",
       "      <td>1.000000</td>\n",
       "      <td>1.000000</td>\n",
       "      <td>1.000000</td>\n",
       "      <td>1.000000</td>\n",
       "      <td>1.000000</td>\n",
       "      <td>...</td>\n",
       "      <td>1.000000</td>\n",
       "      <td>-1.000000</td>\n",
       "      <td>1.000000</td>\n",
       "      <td>1.000000</td>\n",
       "      <td>1.000000</td>\n",
       "      <td>1.000000</td>\n",
       "      <td>-1.000000</td>\n",
       "      <td>-1.000000</td>\n",
       "      <td>25.000000</td>\n",
       "      <td>1.000000</td>\n",
       "    </tr>\n",
       "    <tr>\n",
       "      <th>75%</th>\n",
       "      <td>2.000000</td>\n",
       "      <td>2.000000</td>\n",
       "      <td>2.000000</td>\n",
       "      <td>1.000000</td>\n",
       "      <td>2.000000</td>\n",
       "      <td>2.000000</td>\n",
       "      <td>2.000000</td>\n",
       "      <td>2.000000</td>\n",
       "      <td>2.000000</td>\n",
       "      <td>2.000000</td>\n",
       "      <td>...</td>\n",
       "      <td>2.000000</td>\n",
       "      <td>2.000000</td>\n",
       "      <td>2.000000</td>\n",
       "      <td>2.000000</td>\n",
       "      <td>1.000000</td>\n",
       "      <td>1.000000</td>\n",
       "      <td>2.000000</td>\n",
       "      <td>2.000000</td>\n",
       "      <td>33.000000</td>\n",
       "      <td>1.000000</td>\n",
       "    </tr>\n",
       "    <tr>\n",
       "      <th>max</th>\n",
       "      <td>4.000000</td>\n",
       "      <td>4.000000</td>\n",
       "      <td>4.000000</td>\n",
       "      <td>4.000000</td>\n",
       "      <td>4.000000</td>\n",
       "      <td>4.000000</td>\n",
       "      <td>4.000000</td>\n",
       "      <td>4.000000</td>\n",
       "      <td>4.000000</td>\n",
       "      <td>4.000000</td>\n",
       "      <td>...</td>\n",
       "      <td>4.000000</td>\n",
       "      <td>4.000000</td>\n",
       "      <td>4.000000</td>\n",
       "      <td>4.000000</td>\n",
       "      <td>4.000000</td>\n",
       "      <td>4.000000</td>\n",
       "      <td>4.000000</td>\n",
       "      <td>4.000000</td>\n",
       "      <td>48.000000</td>\n",
       "      <td>1.000000</td>\n",
       "    </tr>\n",
       "  </tbody>\n",
       "</table>\n",
       "<p>8 rows × 62 columns</p>\n",
       "</div>"
      ],
      "text/plain": [
       "               0          1          2          3          4          5  \\\n",
       "count  74.000000  74.000000  74.000000  74.000000  74.000000  74.000000   \n",
       "mean    0.459459   0.662162   0.405405   0.405405   0.648649   0.567568   \n",
       "std     1.563182   1.657503   1.560812   1.423087   1.591350   1.553441   \n",
       "min    -1.000000  -1.000000  -1.000000  -1.000000  -1.000000  -1.000000   \n",
       "25%    -1.000000  -1.000000  -1.000000  -1.000000  -1.000000  -1.000000   \n",
       "50%     1.000000   1.000000   0.000000   1.000000   1.000000   1.000000   \n",
       "75%     2.000000   2.000000   2.000000   1.000000   2.000000   2.000000   \n",
       "max     4.000000   4.000000   4.000000   4.000000   4.000000   4.000000   \n",
       "\n",
       "               6          7          8          9    ...             52  \\\n",
       "count  74.000000  74.000000  74.000000  74.000000    ...      74.000000   \n",
       "mean    0.756757   0.554054   0.635135   0.864865    ...       0.594595   \n",
       "std     1.653645   1.518307   1.724714   1.616052    ...       1.703493   \n",
       "min    -1.000000  -1.000000  -1.000000  -1.000000    ...      -1.000000   \n",
       "25%    -1.000000  -1.000000  -1.000000  -1.000000    ...      -1.000000   \n",
       "50%     1.000000   1.000000   1.000000   1.000000    ...       1.000000   \n",
       "75%     2.000000   2.000000   2.000000   2.000000    ...       2.000000   \n",
       "max     4.000000   4.000000   4.000000   4.000000    ...       4.000000   \n",
       "\n",
       "              53         54         55         56         57         58  \\\n",
       "count  74.000000  74.000000  74.000000  74.000000  74.000000  74.000000   \n",
       "mean    0.391892   0.621622   0.851351   0.310811   0.310811   0.256757   \n",
       "std     1.694613   1.585056   1.669078   1.403769   1.451741   1.414802   \n",
       "min    -1.000000  -1.000000  -1.000000  -1.000000  -1.000000  -1.000000   \n",
       "25%    -1.000000  -1.000000  -1.000000  -1.000000  -1.000000  -1.000000   \n",
       "50%    -1.000000   1.000000   1.000000   1.000000   1.000000  -1.000000   \n",
       "75%     2.000000   2.000000   2.000000   1.000000   1.000000   2.000000   \n",
       "max     4.000000   4.000000   4.000000   4.000000   4.000000   4.000000   \n",
       "\n",
       "              59   cesd_sum    biLabel  \n",
       "count  74.000000  74.000000  74.000000  \n",
       "mean    0.364865  24.094595   0.540541  \n",
       "std     1.635014  11.863573   0.501756  \n",
       "min    -1.000000   2.000000   0.000000  \n",
       "25%    -1.000000  15.000000   0.000000  \n",
       "50%    -1.000000  25.000000   1.000000  \n",
       "75%     2.000000  33.000000   1.000000  \n",
       "max     4.000000  48.000000   1.000000  \n",
       "\n",
       "[8 rows x 62 columns]"
      ]
     },
     "execution_count": 37,
     "metadata": {},
     "output_type": "execute_result"
    }
   ],
   "source": [
    "ValCesd['biLabel'] = y\n",
    "ValCesd.describe()"
   ]
  },
  {
   "cell_type": "code",
   "execution_count": null,
   "metadata": {
    "collapsed": true
   },
   "outputs": [],
   "source": []
  }
 ],
 "metadata": {
  "kernelspec": {
   "display_name": "Python 3",
   "language": "python",
   "name": "python3"
  },
  "language_info": {
   "codemirror_mode": {
    "name": "ipython",
    "version": 3
   },
   "file_extension": ".py",
   "mimetype": "text/x-python",
   "name": "python",
   "nbconvert_exporter": "python",
   "pygments_lexer": "ipython3",
   "version": "3.6.1"
  }
 },
 "nbformat": 4,
 "nbformat_minor": 2
}
