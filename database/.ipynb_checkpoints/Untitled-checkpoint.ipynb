{
 "cells": [
  {
   "cell_type": "code",
   "execution_count": 35,
   "metadata": {
    "collapsed": true
   },
   "outputs": [],
   "source": [
    "import pandas as pd"
   ]
  },
  {
   "cell_type": "code",
   "execution_count": 36,
   "metadata": {},
   "outputs": [],
   "source": [
    "newL = pd.read_csv('../data/new_labels.csv')"
   ]
  },
  {
   "cell_type": "code",
   "execution_count": 37,
   "metadata": {},
   "outputs": [],
   "source": [
    "db = pd.read_csv('../database/database3.csv')\n",
    "db = db[['id','time']]"
   ]
  },
  {
   "cell_type": "code",
   "execution_count": 38,
   "metadata": {
    "collapsed": true
   },
   "outputs": [],
   "source": [
    "#merge with time variable \n",
    "time = pd.merge(newL, db, on='id')"
   ]
  },
  {
   "cell_type": "code",
   "execution_count": 39,
   "metadata": {},
   "outputs": [
    {
     "data": {
      "text/html": [
       "<div>\n",
       "<style>\n",
       "    .dataframe thead tr:only-child th {\n",
       "        text-align: right;\n",
       "    }\n",
       "\n",
       "    .dataframe thead th {\n",
       "        text-align: left;\n",
       "    }\n",
       "\n",
       "    .dataframe tbody tr th {\n",
       "        vertical-align: top;\n",
       "    }\n",
       "</style>\n",
       "<table border=\"1\" class=\"dataframe\">\n",
       "  <thead>\n",
       "    <tr style=\"text-align: right;\">\n",
       "      <th></th>\n",
       "      <th>Unnamed: 0</th>\n",
       "      <th>text</th>\n",
       "      <th>negative_ny</th>\n",
       "      <th>ParticipantID</th>\n",
       "      <th>id</th>\n",
       "      <th>userid</th>\n",
       "      <th>annotation_date</th>\n",
       "      <th>annotation</th>\n",
       "      <th>negative_ny.1</th>\n",
       "      <th>time</th>\n",
       "    </tr>\n",
       "  </thead>\n",
       "  <tbody>\n",
       "    <tr>\n",
       "      <th>1</th>\n",
       "      <td>1708</td>\n",
       "      <td>I'm home and happy to be back. already busy wi...</td>\n",
       "      <td>2</td>\n",
       "      <td>33442</td>\n",
       "      <td>2</td>\n",
       "      <td>ff901930a5eaba2dc939d40571f51bb5</td>\n",
       "      <td>NaN</td>\n",
       "      <td>0</td>\n",
       "      <td>NaN</td>\n",
       "      <td>2010-07-31 19:57:07</td>\n",
       "    </tr>\n",
       "    <tr>\n",
       "      <th>2</th>\n",
       "      <td>1697</td>\n",
       "      <td>I'm fucking done. I don't need this type of sh...</td>\n",
       "      <td>1</td>\n",
       "      <td>33442</td>\n",
       "      <td>3</td>\n",
       "      <td>ff901930a5eaba2dc939d40571f51bb5</td>\n",
       "      <td>NaN</td>\n",
       "      <td>0</td>\n",
       "      <td>NaN</td>\n",
       "      <td>2010-03-23 23:57:39</td>\n",
       "    </tr>\n",
       "    <tr>\n",
       "      <th>3</th>\n",
       "      <td>624</td>\n",
       "      <td>Dad's home for a month, he's going to be there...</td>\n",
       "      <td>4</td>\n",
       "      <td>22334</td>\n",
       "      <td>4</td>\n",
       "      <td>ff901930a5eaba2dc939d40571f51bb5</td>\n",
       "      <td>NaN</td>\n",
       "      <td>0</td>\n",
       "      <td>NaN</td>\n",
       "      <td>2011-03-31 4:19:44</td>\n",
       "    </tr>\n",
       "    <tr>\n",
       "      <th>4</th>\n",
       "      <td>90</td>\n",
       "      <td>*sighs* I just want to go home...sorta. There'...</td>\n",
       "      <td>1</td>\n",
       "      <td>44553</td>\n",
       "      <td>5</td>\n",
       "      <td>ff901930a5eaba2dc939d40571f51bb5</td>\n",
       "      <td>NaN</td>\n",
       "      <td>0</td>\n",
       "      <td>NaN</td>\n",
       "      <td>2009-08-29 21:25:34</td>\n",
       "    </tr>\n",
       "  </tbody>\n",
       "</table>\n",
       "</div>"
      ],
      "text/plain": [
       "   Unnamed: 0                                              text   negative_ny  \\\n",
       "1        1708  I'm home and happy to be back. already busy wi...            2   \n",
       "2        1697  I'm fucking done. I don't need this type of sh...            1   \n",
       "3         624  Dad's home for a month, he's going to be there...            4   \n",
       "4          90  *sighs* I just want to go home...sorta. There'...            1   \n",
       "\n",
       "   ParticipantID  id                            userid  annotation_date  \\\n",
       "1          33442   2  ff901930a5eaba2dc939d40571f51bb5              NaN   \n",
       "2          33442   3  ff901930a5eaba2dc939d40571f51bb5              NaN   \n",
       "3          22334   4  ff901930a5eaba2dc939d40571f51bb5              NaN   \n",
       "4          44553   5  ff901930a5eaba2dc939d40571f51bb5              NaN   \n",
       "\n",
       "   annotation  negative_ny.1                 time  \n",
       "1           0            NaN  2010-07-31 19:57:07  \n",
       "2           0            NaN  2010-03-23 23:57:39  \n",
       "3           0            NaN   2011-03-31 4:19:44  \n",
       "4           0            NaN  2009-08-29 21:25:34  "
      ]
     },
     "execution_count": 39,
     "metadata": {},
     "output_type": "execute_result"
    }
   ],
   "source": [
    "time[1:5]"
   ]
  },
  {
   "cell_type": "markdown",
   "metadata": {},
   "source": [
    "1 negative\n",
    "2 positive\n",
    "3 mixed\n",
    "4 neutral\n",
    "5 foreign language"
   ]
  },
  {
   "cell_type": "code",
   "execution_count": 41,
   "metadata": {},
   "outputs": [
    {
     "data": {
      "text/plain": [
       "2    1643\n",
       "1    1279\n",
       "4     708\n",
       "3     212\n",
       "5      39\n",
       "Name: negative_ny, dtype: int64"
      ]
     },
     "execution_count": 41,
     "metadata": {},
     "output_type": "execute_result"
    }
   ],
   "source": [
    "time['negative_ny'].value_counts()\n"
   ]
  },
  {
   "cell_type": "markdown",
   "metadata": {},
   "source": [
    "percentage of negative post in each user"
   ]
  },
  {
   "cell_type": "code",
   "execution_count": 145,
   "metadata": {},
   "outputs": [
    {
     "data": {
      "text/html": [
       "<div>\n",
       "<style>\n",
       "    .dataframe thead tr:only-child th {\n",
       "        text-align: right;\n",
       "    }\n",
       "\n",
       "    .dataframe thead th {\n",
       "        text-align: left;\n",
       "    }\n",
       "\n",
       "    .dataframe tbody tr th {\n",
       "        vertical-align: top;\n",
       "    }\n",
       "</style>\n",
       "<table border=\"1\" class=\"dataframe\">\n",
       "  <thead>\n",
       "    <tr style=\"text-align: right;\">\n",
       "      <th></th>\n",
       "      <th>userid</th>\n",
       "      <th>neg_count</th>\n",
       "      <th>all_count</th>\n",
       "      <th>neg_per</th>\n",
       "    </tr>\n",
       "  </thead>\n",
       "  <tbody>\n",
       "    <tr>\n",
       "      <th>1</th>\n",
       "      <td>00c69df4ec41f61da30ed2874b9fbfaf</td>\n",
       "      <td>1.0</td>\n",
       "      <td>1</td>\n",
       "      <td>1.000000</td>\n",
       "    </tr>\n",
       "    <tr>\n",
       "      <th>2</th>\n",
       "      <td>011679a3ae49998801ada93d822b7302</td>\n",
       "      <td>5.0</td>\n",
       "      <td>11</td>\n",
       "      <td>0.454545</td>\n",
       "    </tr>\n",
       "    <tr>\n",
       "      <th>3</th>\n",
       "      <td>01530624766b3be63c7709c6581c335d</td>\n",
       "      <td>7.0</td>\n",
       "      <td>12</td>\n",
       "      <td>0.583333</td>\n",
       "    </tr>\n",
       "    <tr>\n",
       "      <th>4</th>\n",
       "      <td>04a3601e8b319f740167723a58c488e7</td>\n",
       "      <td>4.0</td>\n",
       "      <td>14</td>\n",
       "      <td>0.285714</td>\n",
       "    </tr>\n",
       "    <tr>\n",
       "      <th>5</th>\n",
       "      <td>04be1d6fa64adb60a3d2847f4f905ec1</td>\n",
       "      <td>8.0</td>\n",
       "      <td>15</td>\n",
       "      <td>0.533333</td>\n",
       "    </tr>\n",
       "    <tr>\n",
       "      <th>6</th>\n",
       "      <td>054e5fd22c26a92926a61c261c99054c</td>\n",
       "      <td>2.0</td>\n",
       "      <td>9</td>\n",
       "      <td>0.222222</td>\n",
       "    </tr>\n",
       "    <tr>\n",
       "      <th>7</th>\n",
       "      <td>055638f0a33b2df4031fadb86076861f</td>\n",
       "      <td>2.0</td>\n",
       "      <td>21</td>\n",
       "      <td>0.095238</td>\n",
       "    </tr>\n",
       "    <tr>\n",
       "      <th>8</th>\n",
       "      <td>059c18ea701ce88479c9e10a25cb8284</td>\n",
       "      <td>2.0</td>\n",
       "      <td>7</td>\n",
       "      <td>0.285714</td>\n",
       "    </tr>\n",
       "    <tr>\n",
       "      <th>9</th>\n",
       "      <td>05a1a1b67e3d7a923f9d0ee5502757c0</td>\n",
       "      <td>4.0</td>\n",
       "      <td>6</td>\n",
       "      <td>0.666667</td>\n",
       "    </tr>\n",
       "  </tbody>\n",
       "</table>\n",
       "</div>"
      ],
      "text/plain": [
       "                             userid  neg_count  all_count   neg_per\n",
       "1  00c69df4ec41f61da30ed2874b9fbfaf        1.0          1  1.000000\n",
       "2  011679a3ae49998801ada93d822b7302        5.0         11  0.454545\n",
       "3  01530624766b3be63c7709c6581c335d        7.0         12  0.583333\n",
       "4  04a3601e8b319f740167723a58c488e7        4.0         14  0.285714\n",
       "5  04be1d6fa64adb60a3d2847f4f905ec1        8.0         15  0.533333\n",
       "6  054e5fd22c26a92926a61c261c99054c        2.0          9  0.222222\n",
       "7  055638f0a33b2df4031fadb86076861f        2.0         21  0.095238\n",
       "8  059c18ea701ce88479c9e10a25cb8284        2.0          7  0.285714\n",
       "9  05a1a1b67e3d7a923f9d0ee5502757c0        4.0          6  0.666667"
      ]
     },
     "execution_count": 145,
     "metadata": {},
     "output_type": "execute_result"
    }
   ],
   "source": [
    "#select negative post then groupby\n",
    "neg_g = time.loc[time['negative_ny'] == 1].groupby(['userid'])\n",
    "#negative post count\n",
    "neg_c = neg_g['negative_ny'].count().reset_index()\n",
    "neg_c.columns = ['userid', 'neg_count']\n",
    "\n",
    "#all post count\n",
    "post_c = time.groupby(['userid']).count().negative_ny.reset_index()\n",
    "post_c.columns = ['userid', 'all_count']\n",
    "\n",
    "per_df = pd.merge(neg_c, post_c, how = 'right', on = 'userid')\n",
    "per_df['neg_count'].fillna(0, inplace=True)\n",
    "#negative post percentage\n",
    "per_df['neg_per'] = per_df['neg_count']/per_df['all_count']\n",
    "per_df[1:10]"
   ]
  },
  {
   "cell_type": "code",
   "execution_count": null,
   "metadata": {},
   "outputs": [],
   "source": []
  },
  {
   "cell_type": "code",
   "execution_count": null,
   "metadata": {},
   "outputs": [],
   "source": []
  },
  {
   "cell_type": "code",
   "execution_count": null,
   "metadata": {},
   "outputs": [],
   "source": []
  },
  {
   "cell_type": "code",
   "execution_count": 96,
   "metadata": {},
   "outputs": [],
   "source": [
    "#gcv[gcv.negative_ny == 1]"
   ]
  },
  {
   "cell_type": "code",
   "execution_count": null,
   "metadata": {
    "collapsed": true
   },
   "outputs": [],
   "source": []
  }
 ],
 "metadata": {
  "kernelspec": {
   "display_name": "Python 3",
   "language": "python",
   "name": "python3"
  },
  "language_info": {
   "codemirror_mode": {
    "name": "ipython",
    "version": 3
   },
   "file_extension": ".py",
   "mimetype": "text/x-python",
   "name": "python",
   "nbconvert_exporter": "python",
   "pygments_lexer": "ipython3",
   "version": "3.6.1"
  }
 },
 "nbformat": 4,
 "nbformat_minor": 2
}
